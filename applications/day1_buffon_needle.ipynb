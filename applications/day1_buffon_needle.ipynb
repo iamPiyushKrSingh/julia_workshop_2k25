{
 "cells": [
  {
   "cell_type": "markdown",
   "id": "76a9c595",
   "metadata": {},
   "source": [
    "# Buffon Needle Problem\n"
   ]
  },
  {
   "cell_type": "markdown",
   "id": "dd9a7569",
   "metadata": {
    "vscode": {
     "languageId": "plaintext"
    }
   },
   "source": [
    "In this notebook, we will explore the Buffon Needle problem, a classic probability problem that estimates the value of $\\pi$.\n"
   ]
  },
  {
   "cell_type": "markdown",
   "id": "d88117c7",
   "metadata": {},
   "source": [
    "This is a challenge (or homework) notebook, so I will not provide the complete solution here. Instead, I will guide you through the steps to implement the solution yourself.\n"
   ]
  },
  {
   "cell_type": "markdown",
   "id": "28e6daca",
   "metadata": {},
   "source": [
    "## Problem Statement\n",
    "\n",
    "Imagine a floor with equally spaced parallel lines, a distance `t` apart. You randomly drop a needle of length `l` onto the floor. Then we need to find the probability that the needle will cross one of the lines.\n",
    "\n",
    "<img title=\"Buffon Needle Problem\" alt=\"Alt text\" src=\"./Buffon_needle.svg\" width=\"600\"/>\n",
    "\n",
    "The needle `a` needle lies across a line, while the `b` needle does not.\n"
   ]
  },
  {
   "cell_type": "markdown",
   "id": "8f22da51",
   "metadata": {},
   "source": [
    "In the case where the length of the needle `l` is less than or equal to the distance between the lines `t`, the probability `P` that the needle will cross a line is given by:\n",
    "$$ P = \\frac{2}{\\pi} \\cdot \\frac{l}{t} $$\n"
   ]
  },
  {
   "cell_type": "markdown",
   "id": "35ac5170",
   "metadata": {},
   "source": [
    "So to use this formula to estimate $\\pi$, assume `l = t = 1`, then we have:\n",
    "$$ \\pi = \\frac{2}{P} $$\n"
   ]
  },
  {
   "cell_type": "markdown",
   "id": "8b023e9e",
   "metadata": {},
   "source": [
    "Now, we will find the probability `P` by simulating the dropping of needles and counting how many cross a line.\n"
   ]
  },
  {
   "cell_type": "markdown",
   "id": "a05bf130",
   "metadata": {},
   "source": [
    "## Solution Steps\n"
   ]
  },
  {
   "cell_type": "markdown",
   "id": "82ad2264",
   "metadata": {},
   "source": [
    "We can simplify the situation, as follows:\n",
    "\n",
    "- Assume we have two parallel lines, one at `y = 0` and the other at `y = 1`.\n",
    "- The center of the needle can be anywhere between `y = 0` and `y = 1`.\n",
    "- The angle of the needle with respect to the horizontal can be between `0` and `π`.\n",
    "\n",
    "Look at the following diagram:\n",
    "\n",
    "<img title=\"Buffon Needle Simplified\" alt=\"Alt text\" src=\"./buffon_sol_diagram.png\" width=\"400\"/>\n",
    "\n",
    "The Horizontal distance from the center of the needle is given by:\n",
    "$$ d = \\frac{l}{2} \\cdot |\\cos(\\theta)| $$\n",
    "So the two end points of the needle are at:\n",
    "\n",
    "- Top end: `x_top = x_center + d`\n",
    "- Bottom end: `x_bottom = x_center - d`\n",
    "\n",
    "The needle crosses a line if either `x_top >= 1` or `x_bottom <= 0`.\n"
   ]
  },
  {
   "cell_type": "markdown",
   "id": "a232b6e5",
   "metadata": {},
   "source": [
    "For random number generation, we can use the `rand()` function in Julia, which generates a random number uniformly distributed between `0` and `1`.\n"
   ]
  },
  {
   "cell_type": "markdown",
   "id": "41c4360c",
   "metadata": {},
   "source": [
    "### 1. Simulate Needle Drops\n",
    "\n",
    "Say we drop a needle randomly, we need to randomly generate two values:\n",
    "\n",
    "- The position of the center of the needle, `x_center`, which is a random number between `0` and `1`.\n",
    "- The angle of the needle, `theta`, which is a random number between `0` and `π`.\n"
   ]
  },
  {
   "cell_type": "code",
   "execution_count": null,
   "id": "1a259a53",
   "metadata": {},
   "outputs": [],
   "source": [
    "x_center = \n",
    "theta ="
   ]
  },
  {
   "cell_type": "markdown",
   "id": "f6a134b3",
   "metadata": {},
   "source": [
    "### 2. Check for Crossing\n",
    "\n",
    "As mentioned above, we need to check if the needle crosses a line using the conditions:\n",
    "\n",
    "- `x_top >= 1`\n",
    "- `x_bottom <= 0`\n",
    "  Implement this logic to determine the crossing status of the needle.\n"
   ]
  },
  {
   "cell_type": "code",
   "execution_count": null,
   "id": "80e4be9a",
   "metadata": {},
   "outputs": [],
   "source": []
  },
  {
   "cell_type": "markdown",
   "id": "fddb4ed1",
   "metadata": {},
   "source": [
    "### 3. Simulate Multiple Drops\n",
    "\n",
    "Write a function that simulates dropping `N` needles, counts how many cross a line, and returns the estimated probability `P`.\n"
   ]
  },
  {
   "cell_type": "code",
   "execution_count": null,
   "id": "c3bf9635",
   "metadata": {},
   "outputs": [],
   "source": [
    "function simulate_buffon_needle(N)\n",
    "    crosses = 0\n",
    "\n",
    "    # Your code here to simulate N needle drops and count crosses\n",
    "\n",
    "    P = crosses / N\n",
    "    return P\n",
    "end"
   ]
  },
  {
   "cell_type": "markdown",
   "id": "4d047bee",
   "metadata": {},
   "source": [
    "Using `simulate_buffon_needle(N)`, we can estimate `P` for a large number of drops `N`, and then use the formula to estimate $\\pi$:\n"
   ]
  },
  {
   "cell_type": "code",
   "execution_count": null,
   "id": "5af50220",
   "metadata": {},
   "outputs": [],
   "source": [
    "Pi = 2 / simulate_buffon_needle(1_000_000)"
   ]
  },
  {
   "cell_type": "markdown",
   "id": "620439e6",
   "metadata": {},
   "source": [
    "Check your estimate of $\\pi$ against the actual value of `π` in Julia.\n"
   ]
  },
  {
   "cell_type": "code",
   "execution_count": null,
   "id": "a00f1f3a",
   "metadata": {},
   "outputs": [],
   "source": []
  }
 ],
 "metadata": {
  "kernelspec": {
   "display_name": "Julia 1.11.6",
   "language": "julia",
   "name": "julia-1.11"
  },
  "language_info": {
   "file_extension": ".jl",
   "mimetype": "application/julia",
   "name": "julia",
   "version": "1.11.6"
  }
 },
 "nbformat": 4,
 "nbformat_minor": 5
}
