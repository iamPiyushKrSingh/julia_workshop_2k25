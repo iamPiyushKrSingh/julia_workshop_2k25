{
 "cells": [
  {
   "cell_type": "markdown",
   "id": "44ea4bf9",
   "metadata": {},
   "source": [
    "# Package Management in Julia\n"
   ]
  },
  {
   "cell_type": "markdown",
   "id": "7ef47ed9",
   "metadata": {},
   "source": [
    "At this point, we know all the basic syntax and constructs of Julia. However, to do anything useful, we will need to use packages. In this notebook, we will learn how to manage packages in Julia using the built-in package manager.\n",
    "\n",
    "Julia has very extensive standard library, but the real power of Julia comes from its packages. There are thousands of packages available for Julia, covering a wide range of topics, from data science to machine learning to web development.\n"
   ]
  },
  {
   "cell_type": "markdown",
   "id": "6bd54690",
   "metadata": {},
   "source": [
    "We will use the built-in package manager, which is accessed using the `Pkg` module. To use the package manager, we first need to import the `Pkg` module:\n",
    "\n",
    "```julia\n",
    "using Pkg\n",
    "```\n",
    "\n",
    "or in the REPL, you can enter the package manager mode by typing `]`, as we have discussed in [the previous notebook](./00_repl_and_more.ipynb#What-is-Pkg?).\n"
   ]
  },
  {
   "cell_type": "code",
   "execution_count": 1,
   "id": "cb1c0f22",
   "metadata": {},
   "outputs": [],
   "source": [
    "using Pkg"
   ]
  },
  {
   "cell_type": "markdown",
   "id": "f5d4786b",
   "metadata": {},
   "source": [
    "Now, we can use the `Pkg` module to manage packages. Here are some common commands:\n",
    "\n",
    "- To add a package: `Pkg.add(\"PackageName\")`, or in the REPL package mode: `add PackageName`\n",
    "- To remove a package: `Pkg.rm(\"PackageName\")`, or in the REPL package mode: `rm PackageName`\n",
    "- To update all packages: `Pkg.update()`, or in the REPL package mode: `update`\n",
    "- To list all installed packages: `Pkg.status()`, or in the REPL package mode: `status`\n"
   ]
  },
  {
   "cell_type": "markdown",
   "id": "89544e64",
   "metadata": {},
   "source": [
    "Let's install an example package, `Example.jl`.\n"
   ]
  },
  {
   "cell_type": "code",
   "execution_count": 2,
   "id": "737c6ac0",
   "metadata": {},
   "outputs": [
    {
     "name": "stderr",
     "output_type": "stream",
     "text": [
      "\u001b[32m\u001b[1m   Resolving\u001b[22m\u001b[39m package versions...\n",
      "\u001b[32m\u001b[1m   Installed\u001b[22m\u001b[39m Example ─ v0.5.5\n",
      "\u001b[32m\u001b[1m    Updating\u001b[22m\u001b[39m `~/.julia/environments/v1.11/Project.toml`\n",
      "  \u001b[90m[7876af07] \u001b[39m\u001b[92m+ Example v0.5.5\u001b[39m\n",
      "\u001b[32m\u001b[1m    Updating\u001b[22m\u001b[39m `~/.julia/environments/v1.11/Manifest.toml`\n",
      "  \u001b[90m[7876af07] \u001b[39m\u001b[92m+ Example v0.5.5\u001b[39m\n",
      "\u001b[92m\u001b[1mPrecompiling\u001b[22m\u001b[39m project...\n",
      "  19850.0 ms\u001b[32m  ✓ \u001b[39mExample\n",
      "  1 dependency successfully precompiled in 73 seconds. 494 already precompiled.\n"
     ]
    }
   ],
   "source": [
    "Pkg.add(\"Example\")"
   ]
  },
  {
   "cell_type": "code",
   "execution_count": 2,
   "id": "de64d5ae",
   "metadata": {},
   "outputs": [
    {
     "name": "stdout",
     "output_type": "stream",
     "text": [
      "\u001b[32m\u001b[1mStatus\u001b[22m\u001b[39m `~/.julia/environments/v1.11/Project.toml`\n",
      "  \u001b[90m[336ed68f] \u001b[39mCSV v0.10.15\n",
      "\u001b[32m⌃\u001b[39m \u001b[90m[a93c6f00] \u001b[39mDataFrames v1.7.0\n",
      "  \u001b[90m[0c46a032] \u001b[39mDifferentialEquations v7.16.1\n",
      "  \u001b[90m[7876af07] \u001b[39mExample v0.5.5\n",
      "\u001b[32m⌃\u001b[39m \u001b[90m[7073ff75] \u001b[39mIJulia v1.29.0\n",
      "\u001b[32m⌃\u001b[39m \u001b[90m[98e50ef6] \u001b[39mJuliaFormatter v2.1.2\n",
      "  \u001b[90m[b964fa9f] \u001b[39mLaTeXStrings v1.4.0\n",
      "  \u001b[90m[2fda8390] \u001b[39mLsqFit v0.15.1\n",
      "  \u001b[90m[5ad8b20f] \u001b[39mPhysicalConstants v0.2.4\n",
      "\u001b[32m⌃\u001b[39m \u001b[90m[91a5bcdd] \u001b[39mPlots v1.40.17\n",
      "\u001b[33m⌅\u001b[39m \u001b[90m[1986cc42] \u001b[39mUnitful v1.23.1\n",
      "\u001b[36m\u001b[1mInfo\u001b[22m\u001b[39m Packages marked with \u001b[32m⌃\u001b[39m and \u001b[33m⌅\u001b[39m have new versions available. Those with \u001b[32m⌃\u001b[39m may be upgradable, but those with \u001b[33m⌅\u001b[39m are restricted by compatibility constraints from upgrading. To see why use `status --outdated`\n"
     ]
    }
   ],
   "source": [
    "Pkg.status()"
   ]
  },
  {
   "cell_type": "markdown",
   "id": "7bb370bc",
   "metadata": {},
   "source": [
    "Since we have installed the `Example` package, to use it, we need to import it using the `using` keyword:\n",
    "\n",
    "```julia\n",
    "using Example\n",
    "```\n"
   ]
  },
  {
   "cell_type": "code",
   "execution_count": 3,
   "id": "2fd681d3",
   "metadata": {},
   "outputs": [],
   "source": [
    "using Example"
   ]
  },
  {
   "cell_type": "markdown",
   "id": "67c237e4",
   "metadata": {},
   "source": [
    "Let's use our magic command to see what is inside the `Example` package.\n"
   ]
  },
  {
   "cell_type": "code",
   "execution_count": 4,
   "id": "1e62c518",
   "metadata": {},
   "outputs": [
    {
     "name": "stdout",
     "output_type": "stream",
     "text": [
      "search: \u001b[0m\u001b[1mE\u001b[22m\u001b[0m\u001b[1mx\u001b[22m\u001b[0m\u001b[1ma\u001b[22m\u001b[0m\u001b[1mm\u001b[22m\u001b[0m\u001b[1mp\u001b[22m\u001b[0m\u001b[1ml\u001b[22m\u001b[0m\u001b[1me\u001b[22m\n",
      "\n"
     ]
    },
    {
     "data": {
      "text/latex": [
       "No docstring found for public module \\texttt{Example}.\n",
       "\n",
       "\\section{Public names}\n",
       "\\texttt{domath}, \\texttt{hello}\n",
       "\n",
       "\\section{Displaying contents of readme found at \\texttt{/home/piyush/.julia/packages/Example/SUIr0/README.md}}\n",
       "Example Julia package repo.\n",
       "\n",
       "\\href{https://JuliaLang.github.io/Example.jl/stable}{\\begin{figure}\n",
       "\\centering\n",
       "\\includegraphics{https://img.shields.io/badge/docs-stable-blue.svg}\n",
       "\\caption{}\n",
       "\\end{figure}\n",
       "} \\href{https://JuliaLang.github.io/Example.jl/dev}{\\begin{figure}\n",
       "\\centering\n",
       "\\includegraphics{https://img.shields.io/badge/docs-dev-blue.svg}\n",
       "\\caption{}\n",
       "\\end{figure}\n",
       "}\n",
       "\n",
       "GitHub Actions :  \\href{https://github.com/JuliaLang/Example.jl/actions?query=workflow%3ACI+branch%3Amaster}{\\begin{figure}\n",
       "\\centering\n",
       "\\includegraphics{https://github.com/JuliaLang/Example.jl/workflows/CI/badge.svg}\n",
       "\\caption{Build Status}\n",
       "\\end{figure}\n",
       "}\n",
       "\n",
       "Code coverage:  \\href{https://codecov.io/gh/JuliaLang/Example.jl}{\\begin{figure}\n",
       "\\centering\n",
       "\\includegraphics{https://codecov.io/gh/JuliaLang/Example.jl/graph/badge.svg?token=yY3RYoqwbn}\n",
       "\\caption{codecov}\n",
       "\\end{figure}\n",
       "}\n",
       "\n",
       "PkgEval:  [![PkgEval][pkgeval-img]][pkgeval-url]\n",
       "\n",
       "[pkgeval-img]: https://juliaci.github.io/NanosoldierReports/pkgeval\\emph{badges/E/Example.svg [pkgeval-url]: https://juliaci.github.io/NanosoldierReports/pkgeval}badges/E/Example.html\n",
       "\n"
      ],
      "text/markdown": [
       "No docstring found for public module `Example`.\n",
       "\n",
       "# Public names\n",
       "\n",
       "`domath`, `hello`\n",
       "\n",
       "# Displaying contents of readme found at `/home/piyush/.julia/packages/Example/SUIr0/README.md`\n",
       "\n",
       "Example Julia package repo.\n",
       "\n",
       "[![](https://img.shields.io/badge/docs-stable-blue.svg)](https://JuliaLang.github.io/Example.jl/stable) [![](https://img.shields.io/badge/docs-dev-blue.svg)](https://JuliaLang.github.io/Example.jl/dev)\n",
       "\n",
       "GitHub Actions :  [![Build Status](https://github.com/JuliaLang/Example.jl/workflows/CI/badge.svg)](https://github.com/JuliaLang/Example.jl/actions?query=workflow%3ACI+branch%3Amaster)\n",
       "\n",
       "Code coverage:  [![codecov](https://codecov.io/gh/JuliaLang/Example.jl/graph/badge.svg?token=yY3RYoqwbn)](https://codecov.io/gh/JuliaLang/Example.jl)\n",
       "\n",
       "PkgEval:  [![PkgEval][pkgeval-img]][pkgeval-url]\n",
       "\n",
       "[pkgeval-img]: https://juliaci.github.io/NanosoldierReports/pkgeval*badges/E/Example.svg [pkgeval-url]: https://juliaci.github.io/NanosoldierReports/pkgeval*badges/E/Example.html\n"
      ],
      "text/plain": [
       "  No docstring found for public module \u001b[36mExample\u001b[39m.\n",
       "\n",
       "\u001b[1m  Public names\u001b[22m\n",
       "\u001b[1m  ≡≡≡≡≡≡≡≡≡≡≡≡\u001b[22m\n",
       "\n",
       "  \u001b[36mdomath\u001b[39m, \u001b[36mhello\u001b[39m\n",
       "\n",
       "\u001b[1m  Displaying contents of readme found at\u001b[22m\n",
       "\u001b[1m  \u001b[36m/home/piyush/.julia/packages/Example/SUIr0/README.md\u001b[39m\u001b[22m\n",
       "\u001b[1m  ≡≡≡≡≡≡≡≡≡≡≡≡≡≡≡≡≡≡≡≡≡≡≡≡≡≡≡≡≡≡≡≡≡≡≡≡≡≡≡≡≡≡≡≡≡≡≡≡≡≡≡≡\u001b[22m\n",
       "\n",
       "  Example Julia package repo.\n",
       "\n",
       "  (Image: ) (https://JuliaLang.github.io/Example.jl/stable) (Image: )\n",
       "  (https://JuliaLang.github.io/Example.jl/dev)\n",
       "\n",
       "  GitHub Actions : (Image: Build Status)\n",
       "  (https://github.com/JuliaLang/Example.jl/actions?query=workflow%3ACI+branch%3Amaster)\n",
       "\n",
       "  Code coverage: (Image: codecov) (https://codecov.io/gh/JuliaLang/Example.jl)\n",
       "\n",
       "  PkgEval: [![PkgEval][pkgeval-img]][pkgeval-url]\n",
       "\n",
       "  [pkgeval-img]:\n",
       "  https://juliaci.github.io/NanosoldierReports/pkgeval\u001b[4mbadges/E/Example.svg\u001b[24m\n",
       "  \u001b[4m[pkgeval-url]:\u001b[24m\n",
       "  \u001b[4mhttps://juliaci.github.io/NanosoldierReports/pkgeval\u001b[24mbadges/E/Example.html"
      ]
     },
     "execution_count": 4,
     "metadata": {},
     "output_type": "execute_result"
    }
   ],
   "source": [
    "?Example"
   ]
  },
  {
   "cell_type": "code",
   "execution_count": 5,
   "id": "99f60f0b",
   "metadata": {},
   "outputs": [
    {
     "name": "stdout",
     "output_type": "stream",
     "text": [
      "search: \u001b[0m\u001b[1mh\u001b[22m\u001b[0m\u001b[1me\u001b[22m\u001b[0m\u001b[1ml\u001b[22m\u001b[0m\u001b[1ml\u001b[22m\u001b[0m\u001b[1mo\u001b[22m \u001b[0m\u001b[1mh\u001b[22m\u001b[0m\u001b[1me\u001b[22m\u001b[0m\u001b[1ml\u001b[22mp\n",
      "\n"
     ]
    },
    {
     "data": {
      "text/latex": [
       "\\begin{verbatim}\n",
       "hello(who::String)\n",
       "\\end{verbatim}\n",
       "Return \"Hello, \\texttt{who}\".\n",
       "\n"
      ],
      "text/markdown": [
       "```\n",
       "hello(who::String)\n",
       "```\n",
       "\n",
       "Return \"Hello, `who`\".\n"
      ],
      "text/plain": [
       "\u001b[36m  hello(who::String)\u001b[39m\n",
       "\n",
       "  Return \"Hello, \u001b[36mwho\u001b[39m\"."
      ]
     },
     "execution_count": 5,
     "metadata": {},
     "output_type": "execute_result"
    }
   ],
   "source": [
    "?hello"
   ]
  },
  {
   "cell_type": "code",
   "execution_count": 6,
   "id": "741242aa",
   "metadata": {},
   "outputs": [
    {
     "data": {
      "text/plain": [
       "\"Hello, Julia User\""
      ]
     },
     "execution_count": 6,
     "metadata": {},
     "output_type": "execute_result"
    }
   ],
   "source": [
    "hello(\"Julia User\")"
   ]
  },
  {
   "cell_type": "code",
   "execution_count": 7,
   "id": "b19e9a6c",
   "metadata": {},
   "outputs": [
    {
     "name": "stdout",
     "output_type": "stream",
     "text": [
      "search: \u001b[0m\u001b[1md\u001b[22m\u001b[0m\u001b[1mo\u001b[22m\u001b[0m\u001b[1mm\u001b[22m\u001b[0m\u001b[1ma\u001b[22m\u001b[0m\u001b[1mt\u001b[22m\u001b[0m\u001b[1mh\u001b[22m normpath ispath \u001b[0m\u001b[1md\u001b[22metach joinpath popat! mkpath match coth\n",
      "\n"
     ]
    },
    {
     "data": {
      "text/latex": [
       "\\begin{verbatim}\n",
       "domath(x::Number)\n",
       "\\end{verbatim}\n",
       "Return \\texttt{x + 5}.\n",
       "\n"
      ],
      "text/markdown": [
       "```\n",
       "domath(x::Number)\n",
       "```\n",
       "\n",
       "Return `x + 5`.\n"
      ],
      "text/plain": [
       "\u001b[36m  domath(x::Number)\u001b[39m\n",
       "\n",
       "  Return \u001b[36mx + 5\u001b[39m."
      ]
     },
     "execution_count": 7,
     "metadata": {},
     "output_type": "execute_result"
    }
   ],
   "source": [
    "?domath"
   ]
  },
  {
   "cell_type": "code",
   "execution_count": 8,
   "id": "d8ca211f",
   "metadata": {},
   "outputs": [
    {
     "data": {
      "text/plain": [
       "8"
      ]
     },
     "execution_count": 8,
     "metadata": {},
     "output_type": "execute_result"
    }
   ],
   "source": [
    "domath(3)"
   ]
  },
  {
   "cell_type": "markdown",
   "id": "1c0d0f4c",
   "metadata": {},
   "source": [
    "## Pkg Manager as Project Manager\n"
   ]
  },
  {
   "cell_type": "markdown",
   "id": "e229c998",
   "metadata": {},
   "source": [
    "We can also use the package manager to manage our projects. Each project can have its own set of dependencies, which are managed using a `Project.toml` file and a `Manifest.toml` file.\n"
   ]
  },
  {
   "cell_type": "markdown",
   "id": "952faf76",
   "metadata": {},
   "source": [
    "To use the package manager as a project manager, we first need to create a new project. We can do this using the Pkg mode in the REPL:\n",
    "\n",
    "```julia\n",
    "] generate MyProject\n",
    "activate MyProject\n",
    "```\n",
    "\n",
    "This will create a new directory called `MyProject` with a `Project.toml` and `src/MyProject.jl` file.\n",
    "\n",
    "To return to the default environment, we can use the command:\n",
    "\n",
    "```julia\n",
    "] activate\n",
    "```\n"
   ]
  },
  {
   "cell_type": "markdown",
   "id": "4513da8c",
   "metadata": {},
   "source": [
    "To remove the project, we can simply delete the `MyProject` directory.\n"
   ]
  },
  {
   "cell_type": "markdown",
   "id": "83799364",
   "metadata": {},
   "source": [
    "## Exercise\n"
   ]
  },
  {
   "cell_type": "markdown",
   "id": "2f8565e1",
   "metadata": {},
   "source": [
    "Install the package `Plots.jl`, and `Primes.jl` using the package manager. Then, import them using the `using` keyword.\n"
   ]
  },
  {
   "cell_type": "code",
   "execution_count": null,
   "id": "6cd2e3db",
   "metadata": {},
   "outputs": [],
   "source": [
    "Pkg.add([...]) # add multiple packages at once ..."
   ]
  },
  {
   "cell_type": "code",
   "execution_count": null,
   "id": "726e8d95",
   "metadata": {},
   "outputs": [],
   "source": [
    "using\n",
    "    using"
   ]
  },
  {
   "cell_type": "code",
   "execution_count": null,
   "id": "900718a8",
   "metadata": {},
   "outputs": [],
   "source": [
    "@assert @isdefined Primes"
   ]
  },
  {
   "cell_type": "code",
   "execution_count": null,
   "id": "ef59bc31",
   "metadata": {},
   "outputs": [],
   "source": [
    "@assert @isdefined Plots"
   ]
  },
  {
   "cell_type": "markdown",
   "id": "6b904096",
   "metadata": {},
   "source": [
    "Using `primes` function from the `Primes` package, generate all prime numbers up to 100.\n",
    "\n",
    "$\\textcolor{red}{\\text{Hint: use ? to get help.}}$\n"
   ]
  },
  {
   "cell_type": "code",
   "execution_count": null,
   "id": "5fddf6c9",
   "metadata": {},
   "outputs": [],
   "source": [
    "# TODO: find about the function `primes`"
   ]
  },
  {
   "cell_type": "code",
   "execution_count": null,
   "id": "0cbd2743",
   "metadata": {},
   "outputs": [],
   "source": [
    "# TODO: generate all prime numbers up to 100"
   ]
  }
 ],
 "metadata": {
  "kernelspec": {
   "display_name": "Julia 1.11.6",
   "language": "julia",
   "name": "julia-1.11"
  },
  "language_info": {
   "file_extension": ".jl",
   "mimetype": "application/julia",
   "name": "julia",
   "version": "1.11.6"
  }
 },
 "nbformat": 4,
 "nbformat_minor": 5
}
