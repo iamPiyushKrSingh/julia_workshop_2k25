{
 "cells": [
  {
   "cell_type": "markdown",
   "id": "e5b893b8",
   "metadata": {},
   "source": [
    "# Iterators and Loops\n"
   ]
  },
  {
   "cell_type": "markdown",
   "id": "aad0281d",
   "metadata": {
    "vscode": {
     "languageId": "plaintext"
    }
   },
   "source": [
    "It is not always feasible to write code that performs repetitive tasks without using loops. Loops are used to execute a block of code multiple times until a certain condition is met. In Julia, just like any other programming language, we have two types of loops: `for` loops and `while` loops.\n"
   ]
  },
  {
   "cell_type": "markdown",
   "id": "78655f0b",
   "metadata": {
    "vscode": {
     "languageId": "plaintext"
    }
   },
   "source": [
    "## `for` Loops\n"
   ]
  },
  {
   "cell_type": "markdown",
   "id": "59994c7b",
   "metadata": {},
   "source": [
    "Basic syntax of a `for` loop in Julia is as follows:\n",
    "\n",
    "```julia\n",
    "for _variable_ in _iterable_\n",
    "    # code to be executed\n",
    "end\n",
    "```\n"
   ]
  },
  {
   "cell_type": "markdown",
   "id": "6b703a73",
   "metadata": {},
   "source": [
    "Let's count from 1 to 5 using a `for` loop,\n"
   ]
  },
  {
   "cell_type": "code",
   "execution_count": 1,
   "id": "e6a7c4a7",
   "metadata": {},
   "outputs": [
    {
     "name": "stdout",
     "output_type": "stream",
     "text": [
      "1\n",
      "2\n",
      "3\n",
      "4\n",
      "5\n"
     ]
    }
   ],
   "source": [
    "for i in 1:5\n",
    "    println(i)\n",
    "end"
   ]
  },
  {
   "cell_type": "markdown",
   "id": "ed72a6e6",
   "metadata": {},
   "source": [
    "We can also have nested loops. For example, let's create a multiplication table using nested `for` loops,\n"
   ]
  },
  {
   "cell_type": "code",
   "execution_count": 8,
   "id": "68980e5a",
   "metadata": {},
   "outputs": [
    {
     "name": "stdout",
     "output_type": "stream",
     "text": [
      "2 x 1 = 2\n",
      "2 x 2 = 4\n",
      "2 x 3 = 6\n",
      "2 x 4 = 8\n",
      "2 x 5 = 10\n",
      "2 x 6 = 12\n",
      "2 x 7 = 14\n",
      "2 x 8 = 16\n",
      "2 x 9 = 18\n",
      "2 x 10 = 20\n",
      "3 x 1 = 3\n",
      "3 x 2 = 6\n",
      "3 x 3 = 9\n",
      "3 x 4 = 12\n",
      "3 x 5 = 15\n",
      "3 x 6 = 18\n",
      "3 x 7 = 21\n",
      "3 x 8 = 24\n",
      "3 x 9 = 27\n",
      "3 x 10 = 30\n"
     ]
    }
   ],
   "source": [
    "for i in 2:3\n",
    "    for j in 1:10\n",
    "        println(\"$i x $j = $(i*j)\")\n",
    "    end\n",
    "end"
   ]
  },
  {
   "cell_type": "markdown",
   "id": "365db54f",
   "metadata": {},
   "source": [
    "We can have a better syntax for the above code (just available in Julia)\n"
   ]
  },
  {
   "cell_type": "code",
   "execution_count": 9,
   "id": "281c3935",
   "metadata": {},
   "outputs": [
    {
     "name": "stdout",
     "output_type": "stream",
     "text": [
      "2 x 1 = 2\n",
      "2 x 2 = 4\n",
      "2 x 3 = 6\n",
      "2 x 4 = 8\n",
      "2 x 5 = 10\n",
      "2 x 6 = 12\n",
      "2 x 7 = 14\n",
      "2 x 8 = 16\n",
      "2 x 9 = 18\n",
      "2 x 10 = 20\n",
      "3 x 1 = 3\n",
      "3 x 2 = 6\n",
      "3 x 3 = 9\n",
      "3 x 4 = 12\n",
      "3 x 5 = 15\n",
      "3 x 6 = 18\n",
      "3 x 7 = 21\n",
      "3 x 8 = 24\n",
      "3 x 9 = 27\n",
      "3 x 10 = 30\n"
     ]
    }
   ],
   "source": [
    "for i in 2:3, j in 1:10\n",
    "    println(\"$i x $j = $(i*j)\")\n",
    "end"
   ]
  },
  {
   "cell_type": "markdown",
   "id": "a0ae3138",
   "metadata": {},
   "source": [
    "Heads up! This syntax is not recommended as it has **unexpected behavior**, find an example yourself.\n"
   ]
  },
  {
   "cell_type": "markdown",
   "id": "a16a060d",
   "metadata": {},
   "source": [
    "### Using `for` loops for creating arrays, matrices, and dictionaries\n"
   ]
  },
  {
   "cell_type": "code",
   "execution_count": 11,
   "id": "19ec7b4b",
   "metadata": {},
   "outputs": [],
   "source": [
    "m, n = 3, 4;"
   ]
  },
  {
   "cell_type": "code",
   "execution_count": 12,
   "id": "d9925fc9",
   "metadata": {},
   "outputs": [
    {
     "data": {
      "text/plain": [
       "3×4 Matrix{Int64}:\n",
       " 0  0  0  0\n",
       " 0  0  0  0\n",
       " 0  0  0  0"
      ]
     },
     "execution_count": 12,
     "metadata": {},
     "output_type": "execute_result"
    }
   ],
   "source": [
    "A = fill(0, m, n) # Create an m x n matrix filled with zeros"
   ]
  },
  {
   "cell_type": "markdown",
   "id": "a2dcd928",
   "metadata": {},
   "source": [
    "Say we want to create a 3x4 matrix such that each element is the product of its row and column indices _i.e._, `A[i, j] = i * j`. We can do this using nested `for` loops as follows\n"
   ]
  },
  {
   "cell_type": "code",
   "execution_count": 14,
   "id": "75455674",
   "metadata": {},
   "outputs": [
    {
     "data": {
      "text/plain": [
       "3×4 Matrix{Int64}:\n",
       " 1  2  3   4\n",
       " 2  4  6   8\n",
       " 3  6  9  12"
      ]
     },
     "execution_count": 14,
     "metadata": {},
     "output_type": "execute_result"
    }
   ],
   "source": [
    "for i in 1:m\n",
    "    for j in 1:n\n",
    "        A[i, j] = i * j\n",
    "    end\n",
    "end\n",
    "\n",
    "A"
   ]
  },
  {
   "cell_type": "markdown",
   "id": "2ac7c388",
   "metadata": {},
   "source": [
    "We can create same matrix using list comprehension as follows\n"
   ]
  },
  {
   "cell_type": "code",
   "execution_count": 15,
   "id": "74512a92",
   "metadata": {},
   "outputs": [
    {
     "data": {
      "text/plain": [
       "3×4 Matrix{Int64}:\n",
       " 1  2  3   4\n",
       " 2  4  6   8\n",
       " 3  6  9  12"
      ]
     },
     "execution_count": 15,
     "metadata": {},
     "output_type": "execute_result"
    }
   ],
   "source": [
    "B = [i * j for i in 1:m, j in 1:n]"
   ]
  },
  {
   "cell_type": "markdown",
   "id": "3b596426",
   "metadata": {},
   "source": [
    "Even we can create multidimensional arrays using list comprehension. For example, let's create a 3D array where each element is the sum of its indices\n"
   ]
  },
  {
   "cell_type": "code",
   "execution_count": 16,
   "id": "5dc9cac5",
   "metadata": {},
   "outputs": [
    {
     "data": {
      "text/plain": [
       "3×4×2 Array{Int64, 3}:\n",
       "[:, :, 1] =\n",
       " 3  4  5  6\n",
       " 4  5  6  7\n",
       " 5  6  7  8\n",
       "\n",
       "[:, :, 2] =\n",
       " 4  5  6  7\n",
       " 5  6  7  8\n",
       " 6  7  8  9"
      ]
     },
     "execution_count": 16,
     "metadata": {},
     "output_type": "execute_result"
    }
   ],
   "source": [
    "o = 2;\n",
    "\n",
    "C = [i + j + k for i in 1:m, j in 1:n, k in 1:o]"
   ]
  },
  {
   "cell_type": "markdown",
   "id": "a554a27d",
   "metadata": {},
   "source": [
    "We can use comprehensions to create dictionaries as well. For example, let's create a dictionary where the keys are numbers from 1 to 5 and the values are their squares\n"
   ]
  },
  {
   "cell_type": "code",
   "execution_count": 17,
   "id": "4cbff60a",
   "metadata": {},
   "outputs": [
    {
     "data": {
      "text/plain": [
       "Dict{Int64, Int64} with 5 entries:\n",
       "  5 => 25\n",
       "  4 => 16\n",
       "  2 => 4\n",
       "  3 => 9\n",
       "  1 => 1"
      ]
     },
     "execution_count": 17,
     "metadata": {},
     "output_type": "execute_result"
    }
   ],
   "source": [
    "squares_dict = Dict(i => i^2 for i in 1:5)"
   ]
  },
  {
   "cell_type": "markdown",
   "id": "5e6b7668",
   "metadata": {},
   "source": [
    "## `while` Loops\n"
   ]
  },
  {
   "cell_type": "markdown",
   "id": "6bf6c9c7",
   "metadata": {},
   "source": [
    "Basic syntax of a `while` loop\n",
    "\n",
    "```julia\n",
    "while _condition_\n",
    "    # code to be executed\n",
    "end\n",
    "```\n",
    "\n",
    "`while` loops continue to execute as long as the specified condition is true.\n"
   ]
  },
  {
   "cell_type": "markdown",
   "id": "e653890b",
   "metadata": {},
   "source": [
    "Let's perform the same counting task using a `while` loop. We will count from 1 to 5\n"
   ]
  },
  {
   "cell_type": "code",
   "execution_count": 1,
   "id": "3f731b0d",
   "metadata": {},
   "outputs": [
    {
     "name": "stdout",
     "output_type": "stream",
     "text": [
      "1\n",
      "2\n",
      "3\n",
      "4\n",
      "5\n"
     ]
    }
   ],
   "source": [
    "j = 1\n",
    "while j <= 5\n",
    "    println(j)\n",
    "    j += 1\n",
    "end"
   ]
  },
  {
   "cell_type": "markdown",
   "id": "3a9f6020",
   "metadata": {},
   "source": [
    "This has an issue that the variable `i` will remain in the global scope after the loop ends.\n"
   ]
  },
  {
   "cell_type": "code",
   "execution_count": 2,
   "id": "392e3d55",
   "metadata": {},
   "outputs": [
    {
     "data": {
      "text/plain": [
       "6"
      ]
     },
     "execution_count": 2,
     "metadata": {},
     "output_type": "execute_result"
    }
   ],
   "source": [
    "j"
   ]
  },
  {
   "cell_type": "markdown",
   "id": "aca3686e",
   "metadata": {},
   "source": [
    "To avoid this, we can use a `let` block to create a local scope for `i`\n"
   ]
  },
  {
   "cell_type": "code",
   "execution_count": 3,
   "id": "79809142",
   "metadata": {},
   "outputs": [
    {
     "name": "stdout",
     "output_type": "stream",
     "text": [
      "1\n",
      "2\n",
      "3\n",
      "4\n",
      "5\n"
     ]
    }
   ],
   "source": [
    "let i = 1\n",
    "    while i <= 5\n",
    "        println(i)\n",
    "        i += 1\n",
    "    end\n",
    "end"
   ]
  },
  {
   "cell_type": "markdown",
   "id": "18e88bbd",
   "metadata": {},
   "source": [
    "Here `i` is only defined within the `let` block and will not affect the global scope.\n"
   ]
  },
  {
   "cell_type": "code",
   "execution_count": 4,
   "id": "61ac9c7f",
   "metadata": {},
   "outputs": [
    {
     "ename": "LoadError",
     "evalue": "UndefVarError: `i` not defined in `Main`\nSuggestion: check for spelling errors or missing imports.",
     "output_type": "error",
     "traceback": [
      "UndefVarError: `i` not defined in `Main`\nSuggestion: check for spelling errors or missing imports.",
      ""
     ]
    }
   ],
   "source": [
    "i"
   ]
  },
  {
   "cell_type": "markdown",
   "id": "c9c6daca",
   "metadata": {},
   "source": [
    "I am not going into settle the debate of when to use `for` loops and when to use `while` loops. But generally, `for` loops are preferred when the number of iterations is known beforehand, while `while` loops are used when the number of iterations is not predetermined and depends on a condition being met during execution.\n"
   ]
  },
  {
   "cell_type": "markdown",
   "id": "7801f94c",
   "metadata": {},
   "source": [
    "We will see how to use `break` and `continue` statements once we cover conditional statements.\n"
   ]
  },
  {
   "cell_type": "markdown",
   "id": "5a520f95",
   "metadata": {},
   "source": [
    "## Exercises\n"
   ]
  },
  {
   "cell_type": "markdown",
   "id": "70807b55",
   "metadata": {},
   "source": [
    "### 4.1\n",
    "\n",
    "Create a 5x5 matrix where each element is of the form `X[i, j] = i^j` using nested `for` loops.\n"
   ]
  },
  {
   "cell_type": "code",
   "execution_count": null,
   "id": "ea1d6691",
   "metadata": {},
   "outputs": [],
   "source": []
  },
  {
   "cell_type": "code",
   "execution_count": null,
   "id": "75507f1e",
   "metadata": {},
   "outputs": [],
   "source": [
    "@assert X == [1 1 1 1 1; 2 4 8 16 32; 3 9 27 81 243; 4 16 64 256 1024; 5 25 125 625 3125]"
   ]
  },
  {
   "cell_type": "markdown",
   "id": "9ada9401",
   "metadata": {},
   "source": [
    "### 4.2\n",
    "\n",
    "Create a dictionary that maps each integer from 1 to 10 to its cube using comprehensions.\n"
   ]
  },
  {
   "cell_type": "code",
   "execution_count": null,
   "id": "8b61cbd2",
   "metadata": {},
   "outputs": [],
   "source": [
    "cubes_dict = "
   ]
  },
  {
   "cell_type": "code",
   "execution_count": null,
   "id": "99a2e996",
   "metadata": {},
   "outputs": [],
   "source": [
    "@assert cubes_dict[3] == 27"
   ]
  }
 ],
 "metadata": {
  "kernelspec": {
   "display_name": "Julia 1.11.6",
   "language": "julia",
   "name": "julia-1.11"
  },
  "language_info": {
   "file_extension": ".jl",
   "mimetype": "application/julia",
   "name": "julia",
   "version": "1.11.6"
  }
 },
 "nbformat": 4,
 "nbformat_minor": 5
}
