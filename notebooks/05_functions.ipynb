{
 "cells": [
  {
   "cell_type": "markdown",
   "id": "65cb7ae1",
   "metadata": {},
   "source": [
    "# Functions\n"
   ]
  },
  {
   "cell_type": "markdown",
   "id": "2179b22e",
   "metadata": {},
   "source": [
    "Now that you know how to define variables and basic data types, let's learn how to define functions in Julia. Functions are reusable blocks of code that perform a specific task. They can take inputs (arguments) and return outputs (results).\n"
   ]
  },
  {
   "cell_type": "markdown",
   "id": "dc018a95",
   "metadata": {},
   "source": [
    "In this notebook, we will explore following topics:\n",
    "\n",
    "1. Syntax for defining functions\n",
    "2. `keywords` and `optional arguments`\n",
    "3. Anonymous functions\n",
    "4. Multiple Dispatch (Function Overloading): a powerful feature of Julia\n",
    "5. Mutating vs Non-Mutating functions\n",
    "6. Higher-order functions: like `map`, `broadcast`, etc.\n",
    "\n",
    "Let's get started!\n"
   ]
  },
  {
   "cell_type": "markdown",
   "id": "0c058b77",
   "metadata": {},
   "source": [
    "## Basic Syntax\n"
   ]
  },
  {
   "cell_type": "markdown",
   "id": "e17a3d6d",
   "metadata": {},
   "source": [
    "A typical function definition in Julia looks like this:\n",
    "\n",
    "```julia\n",
    "function function_name(arg1, arg2, ...)\n",
    "    # function body\n",
    "    return result\n",
    "end\n",
    "```\n"
   ]
  },
  {
   "cell_type": "markdown",
   "id": "8078d6dd",
   "metadata": {},
   "source": [
    "Let's code a simple function that returns the square of a given number.\n"
   ]
  },
  {
   "cell_type": "code",
   "execution_count": 1,
   "id": "f4cb2d67",
   "metadata": {},
   "outputs": [
    {
     "data": {
      "text/plain": [
       "square (generic function with 1 method)"
      ]
     },
     "execution_count": 1,
     "metadata": {},
     "output_type": "execute_result"
    }
   ],
   "source": [
    "function square(num)\n",
    "    return num^2\n",
    "end"
   ]
  },
  {
   "cell_type": "markdown",
   "id": "93580d28",
   "metadata": {},
   "source": [
    "Look carefully at the output of the above cell. It says `square (generic function with 1 method)`, the `1 method` part is important. We will see why in the section on [Multiple Dispatch](##Multiple-Dispatch).\n"
   ]
  },
  {
   "cell_type": "code",
   "execution_count": 2,
   "id": "dbe90949",
   "metadata": {},
   "outputs": [
    {
     "data": {
      "text/plain": [
       "49"
      ]
     },
     "execution_count": 2,
     "metadata": {},
     "output_type": "execute_result"
    }
   ],
   "source": [
    "square(7)"
   ]
  },
  {
   "cell_type": "markdown",
   "id": "1372ab31",
   "metadata": {},
   "source": [
    "### Duck Typing\n"
   ]
  },
  {
   "cell_type": "markdown",
   "id": "9b42da92",
   "metadata": {},
   "source": [
    "Let's look at different outputs for different input types.\n"
   ]
  },
  {
   "cell_type": "code",
   "execution_count": null,
   "id": "e145e6dc",
   "metadata": {},
   "outputs": [
    {
     "data": {
      "text/plain": [
       "1//4"
      ]
     },
     "execution_count": 3,
     "metadata": {},
     "output_type": "execute_result"
    }
   ],
   "source": [
    "square(1 // 2)"
   ]
  },
  {
   "cell_type": "code",
   "execution_count": 4,
   "id": "efa514c5",
   "metadata": {},
   "outputs": [
    {
     "data": {
      "text/plain": [
       "1.0201"
      ]
     },
     "execution_count": 4,
     "metadata": {},
     "output_type": "execute_result"
    }
   ],
   "source": [
    "square(1.01)"
   ]
  },
  {
   "cell_type": "code",
   "execution_count": null,
   "id": "0f6b5920",
   "metadata": {},
   "outputs": [
    {
     "data": {
      "text/plain": [
       "-7 + 24im"
      ]
     },
     "execution_count": 5,
     "metadata": {},
     "output_type": "execute_result"
    }
   ],
   "source": [
    "square(3 + 4im)"
   ]
  },
  {
   "cell_type": "code",
   "execution_count": 6,
   "id": "3508b3c7",
   "metadata": {},
   "outputs": [
    {
     "data": {
      "text/plain": [
       "\"hihi\""
      ]
     },
     "execution_count": 6,
     "metadata": {},
     "output_type": "execute_result"
    }
   ],
   "source": [
    "square(\"hi\")"
   ]
  },
  {
   "cell_type": "code",
   "execution_count": 21,
   "id": "beceabba",
   "metadata": {},
   "outputs": [
    {
     "data": {
      "text/plain": [
       "2×2 Matrix{Int64}:\n",
       "  7  10\n",
       " 15  22"
      ]
     },
     "execution_count": 21,
     "metadata": {},
     "output_type": "execute_result"
    }
   ],
   "source": [
    "square([1 2; 3 4])"
   ]
  },
  {
   "cell_type": "markdown",
   "id": "55b3126e",
   "metadata": {},
   "source": [
    "This is an example of **Duck Typing**. Julia determines the type of the input at runtime and executes the appropriate method. Since all the input types above have a defined operation `^2`, the function works seamlessly.\n"
   ]
  },
  {
   "cell_type": "markdown",
   "id": "321f9fd5",
   "metadata": {},
   "source": [
    "However, if you try to pass an input type that does not support the `^2` operation, you will get an error.\n"
   ]
  },
  {
   "cell_type": "code",
   "execution_count": 7,
   "id": "e58884c0",
   "metadata": {},
   "outputs": [
    {
     "ename": "LoadError",
     "evalue": "MethodError: no method matching ^(::Vector{Int64}, ::Int64)\nThe function `^` exists, but no method is defined for this combination of argument types.\n\n\u001b[0mClosest candidates are:\n\u001b[0m  ^(\u001b[91m::Float32\u001b[39m, ::Integer)\n\u001b[0m\u001b[90m   @\u001b[39m \u001b[90mBase\u001b[39m \u001b[90m\u001b[4mmath.jl:1228\u001b[24m\u001b[39m\n\u001b[0m  ^(\u001b[91m::Regex\u001b[39m, ::Integer)\n\u001b[0m\u001b[90m   @\u001b[39m \u001b[90mBase\u001b[39m \u001b[90m\u001b[4mregex.jl:901\u001b[24m\u001b[39m\n\u001b[0m  ^(\u001b[91m::Float64\u001b[39m, ::Integer)\n\u001b[0m\u001b[90m   @\u001b[39m \u001b[90mBase\u001b[39m \u001b[90m\u001b[4mmath.jl:1197\u001b[24m\u001b[39m\n\u001b[0m  ...\n",
     "output_type": "error",
     "traceback": [
      "MethodError: no method matching ^(::Vector{Int64}, ::Int64)\nThe function `^` exists, but no method is defined for this combination of argument types.\n\n\u001b[0mClosest candidates are:\n\u001b[0m  ^(\u001b[91m::Float32\u001b[39m, ::Integer)\n\u001b[0m\u001b[90m   @\u001b[39m \u001b[90mBase\u001b[39m \u001b[90m\u001b[4mmath.jl:1228\u001b[24m\u001b[39m\n\u001b[0m  ^(\u001b[91m::Regex\u001b[39m, ::Integer)\n\u001b[0m\u001b[90m   @\u001b[39m \u001b[90mBase\u001b[39m \u001b[90m\u001b[4mregex.jl:901\u001b[24m\u001b[39m\n\u001b[0m  ^(\u001b[91m::Float64\u001b[39m, ::Integer)\n\u001b[0m\u001b[90m   @\u001b[39m \u001b[90mBase\u001b[39m \u001b[90m\u001b[4mmath.jl:1197\u001b[24m\u001b[39m\n\u001b[0m  ...\n",
      "",
      "Stacktrace:",
      " [1] \u001b[0m\u001b[1mliteral_pow\u001b[22m",
      "\u001b[90m   @\u001b[39m \u001b[90m./\u001b[39m\u001b[90m\u001b[4mintfuncs.jl:389\u001b[24m\u001b[39m\u001b[90m [inlined]\u001b[39m",
      " [2] \u001b[0m\u001b[1msquare\u001b[22m\u001b[0m\u001b[1m(\u001b[22m\u001b[90mnum\u001b[39m::\u001b[0mVector\u001b[90m{Int64}\u001b[39m\u001b[0m\u001b[1m)\u001b[22m",
      "\u001b[90m   @\u001b[39m \u001b[35mMain\u001b[39m \u001b[90m./\u001b[39m\u001b[90m\u001b[4mIn[1]:2\u001b[24m\u001b[39m",
      " [3] top-level scope",
      "\u001b[90m   @\u001b[39m \u001b[90m\u001b[4mIn[7]:1\u001b[24m\u001b[39m"
     ]
    }
   ],
   "source": [
    "square([1, 2])"
   ]
  },
  {
   "cell_type": "markdown",
   "id": "1ef15b10",
   "metadata": {},
   "source": [
    "### Better Syntax\n"
   ]
  },
  {
   "cell_type": "markdown",
   "id": "75b98077",
   "metadata": {},
   "source": [
    "We can also define the same function using a more concise syntax:\n",
    "\n",
    "```julia\n",
    "function_name(arg1, arg2, ...) = expression\n",
    "```\n"
   ]
  },
  {
   "cell_type": "markdown",
   "id": "7e7b61f5",
   "metadata": {},
   "source": [
    "Let's define `square2` using this syntax.\n"
   ]
  },
  {
   "cell_type": "code",
   "execution_count": 8,
   "id": "0c77c7f5",
   "metadata": {},
   "outputs": [
    {
     "data": {
      "text/plain": [
       "square2 (generic function with 1 method)"
      ]
     },
     "execution_count": 8,
     "metadata": {},
     "output_type": "execute_result"
    }
   ],
   "source": [
    "square2(x) = x^2"
   ]
  },
  {
   "cell_type": "code",
   "execution_count": 9,
   "id": "3d0344dc",
   "metadata": {},
   "outputs": [
    {
     "data": {
      "text/plain": [
       "49"
      ]
     },
     "execution_count": 9,
     "metadata": {},
     "output_type": "execute_result"
    }
   ],
   "source": [
    "square2(7)"
   ]
  },
  {
   "cell_type": "markdown",
   "id": "3b59a5fb",
   "metadata": {},
   "source": [
    "## Keywords and Optional Arguments\n"
   ]
  },
  {
   "cell_type": "markdown",
   "id": "4fcd715a",
   "metadata": {},
   "source": [
    "Let's now talk about `keywords` and `optional arguments` in functions. In Julia, you can define functions with keyword arguments that have default values. This allows you to call the function without specifying all arguments, and the default values will be used for any omitted arguments.\n"
   ]
  },
  {
   "cell_type": "markdown",
   "id": "b7c37dc6",
   "metadata": {},
   "source": [
    "Syntax for defining a function with keyword arguments is as follows:\n",
    "\n",
    "```julia\n",
    "function function_name(arg1, arg2; kwarg1=default1, kwarg2=default2)\n",
    "    # function body\n",
    "    return result\n",
    "end\n",
    "```\n"
   ]
  },
  {
   "cell_type": "markdown",
   "id": "919087ac",
   "metadata": {},
   "source": [
    "Let's define a function `greet` that takes a name as a positional argument and an optional greeting message as a keyword argument. If the greeting message is not provided, it will default to \"Hello\".\n"
   ]
  },
  {
   "cell_type": "code",
   "execution_count": 13,
   "id": "cb88116f",
   "metadata": {},
   "outputs": [
    {
     "data": {
      "text/plain": [
       "greet (generic function with 1 method)"
      ]
     },
     "execution_count": 13,
     "metadata": {},
     "output_type": "execute_result"
    }
   ],
   "source": [
    "function greet(name; greeting=\"Hello\")\n",
    "    return \"$greeting, $(name)!\"\n",
    "end"
   ]
  },
  {
   "cell_type": "code",
   "execution_count": 14,
   "id": "cfa8c5ba",
   "metadata": {},
   "outputs": [
    {
     "data": {
      "text/plain": [
       "\"Hi, Alice!\""
      ]
     },
     "execution_count": 14,
     "metadata": {},
     "output_type": "execute_result"
    }
   ],
   "source": [
    "greet(\"Alice\", greeting=\"Hi\")"
   ]
  },
  {
   "cell_type": "code",
   "execution_count": 15,
   "id": "f71247b6",
   "metadata": {},
   "outputs": [
    {
     "data": {
      "text/plain": [
       "\"Hello, Bob!\""
      ]
     },
     "execution_count": 15,
     "metadata": {},
     "output_type": "execute_result"
    }
   ],
   "source": [
    "greet(\"Bob\")"
   ]
  },
  {
   "cell_type": "markdown",
   "id": "507aecb4",
   "metadata": {},
   "source": [
    "## Anonymous Functions\n"
   ]
  },
  {
   "cell_type": "markdown",
   "id": "dcced616",
   "metadata": {},
   "source": [
    "We'll see that anonymous functions are useful when you need a simple function for a short period of time, often as an argument to higher-order functions like `map` or `filter`.\n"
   ]
  },
  {
   "cell_type": "markdown",
   "id": "459a20a0",
   "metadata": {},
   "source": [
    "To define an anonymous function, you can use the following syntax:\n",
    "\n",
    "```julia\n",
    "(arg1, arg2, ...) -> expression\n",
    "```\n"
   ]
  },
  {
   "cell_type": "code",
   "execution_count": 16,
   "id": "dde18663",
   "metadata": {},
   "outputs": [
    {
     "data": {
      "text/plain": [
       "#3 (generic function with 1 method)"
      ]
     },
     "execution_count": 16,
     "metadata": {},
     "output_type": "execute_result"
    }
   ],
   "source": [
    "cube = x -> x^3"
   ]
  },
  {
   "cell_type": "code",
   "execution_count": 19,
   "id": "ba279af3",
   "metadata": {},
   "outputs": [
    {
     "data": {
      "text/plain": [
       "\"test!!test!!test!!\""
      ]
     },
     "execution_count": 19,
     "metadata": {},
     "output_type": "execute_result"
    }
   ],
   "source": [
    "cube(\"test!!\")"
   ]
  },
  {
   "cell_type": "markdown",
   "id": "3a1aa872",
   "metadata": {},
   "source": [
    "## Multiple Dispatch\n"
   ]
  },
  {
   "cell_type": "markdown",
   "id": "8f75ecc3",
   "metadata": {},
   "source": [
    "We have seen this already with the `square` function, _i.e._, the same exponent operator `^` behaves differently for different input types. This is called **Multiple Dispatch** or **Function Overloading**. In Julia, you can define multiple methods for the same function name, each with different argument types. Julia will automatically select the appropriate method to execute based on the types of the arguments passed to the function.\n"
   ]
  },
  {
   "cell_type": "markdown",
   "id": "3967cd82",
   "metadata": {},
   "source": [
    "First let's look at how to define a function with proper type annotations.\n",
    "\n",
    "```julia\n",
    "function function_name(arg1::Type1, arg2::Type2; kwarg1::Type3=default1, kwarg2::Type4=default2)::ReturnType\n",
    "    # function body\n",
    "    return result\n",
    "end\n",
    "```\n"
   ]
  },
  {
   "cell_type": "markdown",
   "id": "c6ae7280",
   "metadata": {},
   "source": [
    "Let's define a function `exponentiate`, if the input is an `Int`, it will return the square of the number, if the input is a `Float`, it will return the cube of the number.\n"
   ]
  },
  {
   "cell_type": "code",
   "execution_count": 22,
   "id": "9f098ade",
   "metadata": {},
   "outputs": [
    {
     "data": {
      "text/plain": [
       "exponentiate (generic function with 1 method)"
      ]
     },
     "execution_count": 22,
     "metadata": {},
     "output_type": "execute_result"
    }
   ],
   "source": [
    "exponentiate(x::Int) = x^2"
   ]
  },
  {
   "cell_type": "code",
   "execution_count": 24,
   "id": "321a9708",
   "metadata": {},
   "outputs": [
    {
     "data": {
      "text/plain": [
       "exponentiate (generic function with 2 methods)"
      ]
     },
     "execution_count": 24,
     "metadata": {},
     "output_type": "execute_result"
    }
   ],
   "source": [
    "exponentiate(x::AbstractFloat) = x^3"
   ]
  },
  {
   "cell_type": "markdown",
   "id": "063bcbf7",
   "metadata": {},
   "source": [
    "Look at the output of the above two cells. The function `exponentiate` has two methods, one for `Int` and another for `AbstractFloat`.\n"
   ]
  },
  {
   "cell_type": "code",
   "execution_count": 27,
   "id": "3dd16153",
   "metadata": {},
   "outputs": [
    {
     "name": "stdout",
     "output_type": "stream",
     "text": [
      "exponentiate(7) = 49\n",
      "exponentiate(2.0) = 8.0\n"
     ]
    }
   ],
   "source": [
    "@show exponentiate(7)\n",
    "@show exponentiate(2.0);"
   ]
  },
  {
   "cell_type": "code",
   "execution_count": 28,
   "id": "8cd50add",
   "metadata": {},
   "outputs": [
    {
     "name": "stdout",
     "output_type": "stream",
     "text": [
      "search: \u001b[0m\u001b[1me\u001b[22m\u001b[0m\u001b[1mx\u001b[22m\u001b[0m\u001b[1mp\u001b[22m\u001b[0m\u001b[1mo\u001b[22m\u001b[0m\u001b[1mn\u001b[22m\u001b[0m\u001b[1me\u001b[22m\u001b[0m\u001b[1mn\u001b[22m\u001b[0m\u001b[1mt\u001b[22m\u001b[0m\u001b[1mi\u001b[22m\u001b[0m\u001b[1ma\u001b[22m\u001b[0m\u001b[1mt\u001b[22m\u001b[0m\u001b[1me\u001b[22m \u001b[0m\u001b[1me\u001b[22m\u001b[0m\u001b[1mx\u001b[22m\u001b[0m\u001b[1mp\u001b[22m\u001b[0m\u001b[1mo\u001b[22m\u001b[0m\u001b[1mn\u001b[22m\u001b[0m\u001b[1me\u001b[22m\u001b[0m\u001b[1mn\u001b[22m\u001b[0m\u001b[1mt\u001b[22m \u001b[0m\u001b[1mE\u001b[22m\u001b[0m\u001b[1mx\u001b[22m\u001b[0m\u001b[1mp\u001b[22m\u001b[0m\u001b[1mo\u001b[22m\u001b[0m\u001b[1mn\u001b[22m\u001b[0m\u001b[1me\u001b[22m\u001b[0m\u001b[1mn\u001b[22m\u001b[0m\u001b[1mt\u001b[22m\u001b[0m\u001b[1mi\u001b[22m\u001b[0m\u001b[1ma\u001b[22mlBackOff\n",
      "\n"
     ]
    },
    {
     "data": {
      "text/latex": [
       "No documentation found for private symbol.\n",
       "\n",
       "\\texttt{exponentiate} is a \\texttt{Function}.\n",
       "\n",
       "\\begin{verbatim}\n",
       "# 2 methods for generic function \"exponentiate\" from Main:\n",
       " [1] exponentiate(x::Int64)\n",
       "     @ In[22]:1\n",
       " [2] exponentiate(x::AbstractFloat)\n",
       "     @ In[24]:1\n",
       "\\end{verbatim}\n"
      ],
      "text/markdown": [
       "No documentation found for private symbol.\n",
       "\n",
       "`exponentiate` is a `Function`.\n",
       "\n",
       "```\n",
       "# 2 methods for generic function \"exponentiate\" from Main:\n",
       " [1] exponentiate(x::Int64)\n",
       "     @ In[22]:1\n",
       " [2] exponentiate(x::AbstractFloat)\n",
       "     @ In[24]:1\n",
       "```\n"
      ],
      "text/plain": [
       "  No documentation found for private symbol.\n",
       "\n",
       "  \u001b[36mexponentiate\u001b[39m is a \u001b[36mFunction\u001b[39m.\n",
       "\n",
       "\u001b[36m  # 2 methods for generic function \"exponentiate\" from Main:\u001b[39m\n",
       "\u001b[36m   [1] exponentiate(x::Int64)\u001b[39m\n",
       "\u001b[36m       @ In[22]:1\u001b[39m\n",
       "\u001b[36m   [2] exponentiate(x::AbstractFloat)\u001b[39m\n",
       "\u001b[36m       @ In[24]:1\u001b[39m"
      ]
     },
     "execution_count": 28,
     "metadata": {},
     "output_type": "execute_result"
    }
   ],
   "source": [
    "?exponentiate"
   ]
  },
  {
   "cell_type": "markdown",
   "id": "99d431ae",
   "metadata": {},
   "source": [
    "We can see that documentation for the function `exponentiate` shows both methods.\n"
   ]
  },
  {
   "cell_type": "markdown",
   "id": "4b939179",
   "metadata": {},
   "source": [
    "## Mutating vs Non-Mutating Functions\n"
   ]
  },
  {
   "cell_type": "markdown",
   "id": "48a3030e",
   "metadata": {},
   "source": [
    "## Higher-order Functions\n"
   ]
  }
 ],
 "metadata": {
  "kernelspec": {
   "display_name": "Julia 1.11.6",
   "language": "julia",
   "name": "julia-1.11"
  },
  "language_info": {
   "file_extension": ".jl",
   "mimetype": "application/julia",
   "name": "julia",
   "version": "1.11.6"
  }
 },
 "nbformat": 4,
 "nbformat_minor": 5
}
