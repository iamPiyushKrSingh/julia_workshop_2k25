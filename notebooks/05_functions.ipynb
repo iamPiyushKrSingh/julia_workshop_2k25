{
 "cells": [
  {
   "cell_type": "markdown",
   "id": "65cb7ae1",
   "metadata": {},
   "source": [
    "# Functions\n"
   ]
  },
  {
   "cell_type": "markdown",
   "id": "2179b22e",
   "metadata": {},
   "source": [
    "Now that you know how to define variables and basic data types, let's learn how to define functions in Julia. Functions are reusable blocks of code that perform a specific task. They can take inputs (arguments) and return outputs (results).\n"
   ]
  },
  {
   "cell_type": "markdown",
   "id": "dc018a95",
   "metadata": {},
   "source": [
    "In this notebook, we will explore following topics:\n",
    "\n",
    "1. Syntax for defining functions\n",
    "2. `keywords` and `optional arguments`\n",
    "3. Anonymous functions\n",
    "4. Multiple Dispatch (Function Overloading): a powerful feature of Julia\n",
    "5. Mutating vs Non-Mutating functions\n",
    "6. Higher-order functions: like `map`, `broadcast`, etc.\n",
    "\n",
    "Let's get started!\n"
   ]
  },
  {
   "cell_type": "markdown",
   "id": "0c058b77",
   "metadata": {},
   "source": [
    "## Basic Syntax\n"
   ]
  },
  {
   "cell_type": "markdown",
   "id": "e17a3d6d",
   "metadata": {},
   "source": [
    "A typical function definition in Julia looks like this:\n",
    "\n",
    "```julia\n",
    "function function_name(arg1, arg2 = default_value, ...)\n",
    "    # function body\n",
    "    return result\n",
    "end\n",
    "```\n"
   ]
  },
  {
   "cell_type": "markdown",
   "id": "8078d6dd",
   "metadata": {},
   "source": [
    "Let's code a simple function that returns the square of a given number.\n"
   ]
  },
  {
   "cell_type": "code",
   "execution_count": 1,
   "id": "f4cb2d67",
   "metadata": {},
   "outputs": [
    {
     "data": {
      "text/plain": [
       "square (generic function with 1 method)"
      ]
     },
     "execution_count": 1,
     "metadata": {},
     "output_type": "execute_result"
    }
   ],
   "source": [
    "function square(num)\n",
    "    return num^2\n",
    "end"
   ]
  },
  {
   "cell_type": "markdown",
   "id": "93580d28",
   "metadata": {},
   "source": [
    "Look carefully at the output of the above cell. It says `square (generic function with 1 method)`, the `1 method` part is important. We will see why in the section on [Multiple Dispatch](##Multiple-Dispatch).\n"
   ]
  },
  {
   "cell_type": "code",
   "execution_count": 2,
   "id": "dbe90949",
   "metadata": {},
   "outputs": [
    {
     "data": {
      "text/plain": [
       "49"
      ]
     },
     "execution_count": 2,
     "metadata": {},
     "output_type": "execute_result"
    }
   ],
   "source": [
    "square(7)"
   ]
  },
  {
   "cell_type": "markdown",
   "id": "1372ab31",
   "metadata": {},
   "source": [
    "### Duck Typing\n"
   ]
  },
  {
   "cell_type": "markdown",
   "id": "9b42da92",
   "metadata": {},
   "source": [
    "Let's look at different outputs for different input types.\n"
   ]
  },
  {
   "cell_type": "code",
   "execution_count": null,
   "id": "e145e6dc",
   "metadata": {},
   "outputs": [
    {
     "data": {
      "text/plain": [
       "1//4"
      ]
     },
     "execution_count": 3,
     "metadata": {},
     "output_type": "execute_result"
    }
   ],
   "source": [
    "square(1 // 2)"
   ]
  },
  {
   "cell_type": "code",
   "execution_count": 4,
   "id": "efa514c5",
   "metadata": {},
   "outputs": [
    {
     "data": {
      "text/plain": [
       "1.0201"
      ]
     },
     "execution_count": 4,
     "metadata": {},
     "output_type": "execute_result"
    }
   ],
   "source": [
    "square(1.01)"
   ]
  },
  {
   "cell_type": "code",
   "execution_count": null,
   "id": "0f6b5920",
   "metadata": {},
   "outputs": [
    {
     "data": {
      "text/plain": [
       "-7 + 24im"
      ]
     },
     "execution_count": 5,
     "metadata": {},
     "output_type": "execute_result"
    }
   ],
   "source": [
    "square(3 + 4im)"
   ]
  },
  {
   "cell_type": "code",
   "execution_count": 6,
   "id": "3508b3c7",
   "metadata": {},
   "outputs": [
    {
     "data": {
      "text/plain": [
       "\"hihi\""
      ]
     },
     "execution_count": 6,
     "metadata": {},
     "output_type": "execute_result"
    }
   ],
   "source": [
    "square(\"hi\")"
   ]
  },
  {
   "cell_type": "code",
   "execution_count": 21,
   "id": "beceabba",
   "metadata": {},
   "outputs": [
    {
     "data": {
      "text/plain": [
       "2×2 Matrix{Int64}:\n",
       "  7  10\n",
       " 15  22"
      ]
     },
     "execution_count": 21,
     "metadata": {},
     "output_type": "execute_result"
    }
   ],
   "source": [
    "square([1 2; 3 4])"
   ]
  },
  {
   "cell_type": "markdown",
   "id": "55b3126e",
   "metadata": {},
   "source": [
    "This is an example of **Duck Typing**. Julia determines the type of the input at runtime and executes the appropriate method. Since all the input types above have a defined operation `^2`, the function works seamlessly.\n"
   ]
  },
  {
   "cell_type": "markdown",
   "id": "321f9fd5",
   "metadata": {},
   "source": [
    "However, if you try to pass an input type that does not support the `^2` operation, you will get an error.\n"
   ]
  },
  {
   "cell_type": "code",
   "execution_count": 7,
   "id": "e58884c0",
   "metadata": {},
   "outputs": [
    {
     "ename": "LoadError",
     "evalue": "MethodError: no method matching ^(::Vector{Int64}, ::Int64)\nThe function `^` exists, but no method is defined for this combination of argument types.\n\n\u001b[0mClosest candidates are:\n\u001b[0m  ^(\u001b[91m::Float32\u001b[39m, ::Integer)\n\u001b[0m\u001b[90m   @\u001b[39m \u001b[90mBase\u001b[39m \u001b[90m\u001b[4mmath.jl:1228\u001b[24m\u001b[39m\n\u001b[0m  ^(\u001b[91m::Regex\u001b[39m, ::Integer)\n\u001b[0m\u001b[90m   @\u001b[39m \u001b[90mBase\u001b[39m \u001b[90m\u001b[4mregex.jl:901\u001b[24m\u001b[39m\n\u001b[0m  ^(\u001b[91m::Float64\u001b[39m, ::Integer)\n\u001b[0m\u001b[90m   @\u001b[39m \u001b[90mBase\u001b[39m \u001b[90m\u001b[4mmath.jl:1197\u001b[24m\u001b[39m\n\u001b[0m  ...\n",
     "output_type": "error",
     "traceback": [
      "MethodError: no method matching ^(::Vector{Int64}, ::Int64)\nThe function `^` exists, but no method is defined for this combination of argument types.\n\n\u001b[0mClosest candidates are:\n\u001b[0m  ^(\u001b[91m::Float32\u001b[39m, ::Integer)\n\u001b[0m\u001b[90m   @\u001b[39m \u001b[90mBase\u001b[39m \u001b[90m\u001b[4mmath.jl:1228\u001b[24m\u001b[39m\n\u001b[0m  ^(\u001b[91m::Regex\u001b[39m, ::Integer)\n\u001b[0m\u001b[90m   @\u001b[39m \u001b[90mBase\u001b[39m \u001b[90m\u001b[4mregex.jl:901\u001b[24m\u001b[39m\n\u001b[0m  ^(\u001b[91m::Float64\u001b[39m, ::Integer)\n\u001b[0m\u001b[90m   @\u001b[39m \u001b[90mBase\u001b[39m \u001b[90m\u001b[4mmath.jl:1197\u001b[24m\u001b[39m\n\u001b[0m  ...\n",
      "",
      "Stacktrace:",
      " [1] \u001b[0m\u001b[1mliteral_pow\u001b[22m",
      "\u001b[90m   @\u001b[39m \u001b[90m./\u001b[39m\u001b[90m\u001b[4mintfuncs.jl:389\u001b[24m\u001b[39m\u001b[90m [inlined]\u001b[39m",
      " [2] \u001b[0m\u001b[1msquare\u001b[22m\u001b[0m\u001b[1m(\u001b[22m\u001b[90mnum\u001b[39m::\u001b[0mVector\u001b[90m{Int64}\u001b[39m\u001b[0m\u001b[1m)\u001b[22m",
      "\u001b[90m   @\u001b[39m \u001b[35mMain\u001b[39m \u001b[90m./\u001b[39m\u001b[90m\u001b[4mIn[1]:2\u001b[24m\u001b[39m",
      " [3] top-level scope",
      "\u001b[90m   @\u001b[39m \u001b[90m\u001b[4mIn[7]:1\u001b[24m\u001b[39m"
     ]
    }
   ],
   "source": [
    "square([1, 2])"
   ]
  },
  {
   "cell_type": "markdown",
   "id": "1ef15b10",
   "metadata": {},
   "source": [
    "### Better Syntax\n"
   ]
  },
  {
   "cell_type": "markdown",
   "id": "75b98077",
   "metadata": {},
   "source": [
    "We can also define the same function using a more concise syntax:\n",
    "\n",
    "```julia\n",
    "function_name(arg1, arg2, ...) = expression\n",
    "```\n"
   ]
  },
  {
   "cell_type": "markdown",
   "id": "7e7b61f5",
   "metadata": {},
   "source": [
    "Let's define `square2` using this syntax.\n"
   ]
  },
  {
   "cell_type": "code",
   "execution_count": 8,
   "id": "0c77c7f5",
   "metadata": {},
   "outputs": [
    {
     "data": {
      "text/plain": [
       "square2 (generic function with 1 method)"
      ]
     },
     "execution_count": 8,
     "metadata": {},
     "output_type": "execute_result"
    }
   ],
   "source": [
    "square2(x) = x^2"
   ]
  },
  {
   "cell_type": "code",
   "execution_count": 9,
   "id": "3d0344dc",
   "metadata": {},
   "outputs": [
    {
     "data": {
      "text/plain": [
       "49"
      ]
     },
     "execution_count": 9,
     "metadata": {},
     "output_type": "execute_result"
    }
   ],
   "source": [
    "square2(7)"
   ]
  },
  {
   "cell_type": "markdown",
   "id": "3b59a5fb",
   "metadata": {},
   "source": [
    "## Keywords and Optional Arguments\n"
   ]
  },
  {
   "cell_type": "markdown",
   "id": "4fcd715a",
   "metadata": {},
   "source": [
    "Let's now talk about `keywords` and `optional arguments` in functions. In Julia, you can define functions with keyword arguments that have default values. This allows you to call the function without specifying all arguments, and the default values will be used for any omitted arguments.\n"
   ]
  },
  {
   "cell_type": "markdown",
   "id": "b7c37dc6",
   "metadata": {},
   "source": [
    "Syntax for defining a function with keyword arguments is as follows:\n",
    "\n",
    "```julia\n",
    "function function_name(arg1, arg2; kwarg1=default1, kwarg2=default2)\n",
    "    # function body\n",
    "    return result\n",
    "end\n",
    "```\n"
   ]
  },
  {
   "cell_type": "markdown",
   "id": "919087ac",
   "metadata": {},
   "source": [
    "Let's define a function `greet` that takes a name as a positional argument and an optional greeting message as a keyword argument. If the greeting message is not provided, it will default to \"Hello\".\n"
   ]
  },
  {
   "cell_type": "code",
   "execution_count": 13,
   "id": "cb88116f",
   "metadata": {},
   "outputs": [
    {
     "data": {
      "text/plain": [
       "greet (generic function with 1 method)"
      ]
     },
     "execution_count": 13,
     "metadata": {},
     "output_type": "execute_result"
    }
   ],
   "source": [
    "function greet(name; greeting=\"Hello\")\n",
    "    return \"$greeting, $(name)!\"\n",
    "end"
   ]
  },
  {
   "cell_type": "code",
   "execution_count": 14,
   "id": "cfa8c5ba",
   "metadata": {},
   "outputs": [
    {
     "data": {
      "text/plain": [
       "\"Hi, Alice!\""
      ]
     },
     "execution_count": 14,
     "metadata": {},
     "output_type": "execute_result"
    }
   ],
   "source": [
    "greet(\"Alice\", greeting=\"Hi\")"
   ]
  },
  {
   "cell_type": "code",
   "execution_count": 15,
   "id": "f71247b6",
   "metadata": {},
   "outputs": [
    {
     "data": {
      "text/plain": [
       "\"Hello, Bob!\""
      ]
     },
     "execution_count": 15,
     "metadata": {},
     "output_type": "execute_result"
    }
   ],
   "source": [
    "greet(\"Bob\")"
   ]
  },
  {
   "cell_type": "markdown",
   "id": "507aecb4",
   "metadata": {},
   "source": [
    "## Anonymous Functions\n"
   ]
  },
  {
   "cell_type": "markdown",
   "id": "dcced616",
   "metadata": {},
   "source": [
    "We'll see that anonymous functions are useful when you need a simple function for a short period of time, often as an argument to higher-order functions like `map` or `filter`.\n"
   ]
  },
  {
   "cell_type": "markdown",
   "id": "459a20a0",
   "metadata": {},
   "source": [
    "To define an anonymous function, you can use the following syntax:\n",
    "\n",
    "```julia\n",
    "(arg1, arg2, ...) -> expression\n",
    "```\n"
   ]
  },
  {
   "cell_type": "code",
   "execution_count": 16,
   "id": "dde18663",
   "metadata": {},
   "outputs": [
    {
     "data": {
      "text/plain": [
       "#3 (generic function with 1 method)"
      ]
     },
     "execution_count": 16,
     "metadata": {},
     "output_type": "execute_result"
    }
   ],
   "source": [
    "cube = x -> x^3"
   ]
  },
  {
   "cell_type": "code",
   "execution_count": 19,
   "id": "ba279af3",
   "metadata": {},
   "outputs": [
    {
     "data": {
      "text/plain": [
       "\"test!!test!!test!!\""
      ]
     },
     "execution_count": 19,
     "metadata": {},
     "output_type": "execute_result"
    }
   ],
   "source": [
    "cube(\"test!!\")"
   ]
  },
  {
   "cell_type": "markdown",
   "id": "3a1aa872",
   "metadata": {},
   "source": [
    "## Multiple Dispatch\n"
   ]
  },
  {
   "cell_type": "markdown",
   "id": "8f75ecc3",
   "metadata": {},
   "source": [
    "We have seen this already with the `square` function, _i.e._, the same exponent operator `^` behaves differently for different input types. This is called **Multiple Dispatch** or **Function Overloading**. In Julia, you can define multiple methods for the same function name, each with different argument types. Julia will automatically select the appropriate method to execute based on the types of the arguments passed to the function.\n"
   ]
  },
  {
   "cell_type": "markdown",
   "id": "3967cd82",
   "metadata": {},
   "source": [
    "First let's look at how to define a function with proper type annotations.\n",
    "\n",
    "```julia\n",
    "function function_name(arg1::Type1, arg2::Type2; kwarg1::Type3=default1, kwarg2::Type4=default2)::ReturnType\n",
    "    # function body\n",
    "    return result\n",
    "end\n",
    "```\n"
   ]
  },
  {
   "cell_type": "markdown",
   "id": "c6ae7280",
   "metadata": {},
   "source": [
    "Let's define a function `exponentiate`, if the input is an `Int`, it will return the square of the number, if the input is a `Float`, it will return the cube of the number.\n"
   ]
  },
  {
   "cell_type": "code",
   "execution_count": 22,
   "id": "9f098ade",
   "metadata": {},
   "outputs": [
    {
     "data": {
      "text/plain": [
       "exponentiate (generic function with 1 method)"
      ]
     },
     "execution_count": 22,
     "metadata": {},
     "output_type": "execute_result"
    }
   ],
   "source": [
    "exponentiate(x::Int) = x^2"
   ]
  },
  {
   "cell_type": "code",
   "execution_count": 24,
   "id": "321a9708",
   "metadata": {},
   "outputs": [
    {
     "data": {
      "text/plain": [
       "exponentiate (generic function with 2 methods)"
      ]
     },
     "execution_count": 24,
     "metadata": {},
     "output_type": "execute_result"
    }
   ],
   "source": [
    "exponentiate(x::AbstractFloat) = x^3"
   ]
  },
  {
   "cell_type": "markdown",
   "id": "063bcbf7",
   "metadata": {},
   "source": [
    "Look at the output of the above two cells. The function `exponentiate` has two methods, one for `Int` and another for `AbstractFloat`.\n"
   ]
  },
  {
   "cell_type": "code",
   "execution_count": 27,
   "id": "3dd16153",
   "metadata": {},
   "outputs": [
    {
     "name": "stdout",
     "output_type": "stream",
     "text": [
      "exponentiate(7) = 49\n",
      "exponentiate(2.0) = 8.0\n"
     ]
    }
   ],
   "source": [
    "@show exponentiate(7)\n",
    "@show exponentiate(2.0);"
   ]
  },
  {
   "cell_type": "code",
   "execution_count": 28,
   "id": "8cd50add",
   "metadata": {},
   "outputs": [
    {
     "name": "stdout",
     "output_type": "stream",
     "text": [
      "search: \u001b[0m\u001b[1me\u001b[22m\u001b[0m\u001b[1mx\u001b[22m\u001b[0m\u001b[1mp\u001b[22m\u001b[0m\u001b[1mo\u001b[22m\u001b[0m\u001b[1mn\u001b[22m\u001b[0m\u001b[1me\u001b[22m\u001b[0m\u001b[1mn\u001b[22m\u001b[0m\u001b[1mt\u001b[22m\u001b[0m\u001b[1mi\u001b[22m\u001b[0m\u001b[1ma\u001b[22m\u001b[0m\u001b[1mt\u001b[22m\u001b[0m\u001b[1me\u001b[22m \u001b[0m\u001b[1me\u001b[22m\u001b[0m\u001b[1mx\u001b[22m\u001b[0m\u001b[1mp\u001b[22m\u001b[0m\u001b[1mo\u001b[22m\u001b[0m\u001b[1mn\u001b[22m\u001b[0m\u001b[1me\u001b[22m\u001b[0m\u001b[1mn\u001b[22m\u001b[0m\u001b[1mt\u001b[22m \u001b[0m\u001b[1mE\u001b[22m\u001b[0m\u001b[1mx\u001b[22m\u001b[0m\u001b[1mp\u001b[22m\u001b[0m\u001b[1mo\u001b[22m\u001b[0m\u001b[1mn\u001b[22m\u001b[0m\u001b[1me\u001b[22m\u001b[0m\u001b[1mn\u001b[22m\u001b[0m\u001b[1mt\u001b[22m\u001b[0m\u001b[1mi\u001b[22m\u001b[0m\u001b[1ma\u001b[22mlBackOff\n",
      "\n"
     ]
    },
    {
     "data": {
      "text/latex": [
       "No documentation found for private symbol.\n",
       "\n",
       "\\texttt{exponentiate} is a \\texttt{Function}.\n",
       "\n",
       "\\begin{verbatim}\n",
       "# 2 methods for generic function \"exponentiate\" from Main:\n",
       " [1] exponentiate(x::Int64)\n",
       "     @ In[22]:1\n",
       " [2] exponentiate(x::AbstractFloat)\n",
       "     @ In[24]:1\n",
       "\\end{verbatim}\n"
      ],
      "text/markdown": [
       "No documentation found for private symbol.\n",
       "\n",
       "`exponentiate` is a `Function`.\n",
       "\n",
       "```\n",
       "# 2 methods for generic function \"exponentiate\" from Main:\n",
       " [1] exponentiate(x::Int64)\n",
       "     @ In[22]:1\n",
       " [2] exponentiate(x::AbstractFloat)\n",
       "     @ In[24]:1\n",
       "```\n"
      ],
      "text/plain": [
       "  No documentation found for private symbol.\n",
       "\n",
       "  \u001b[36mexponentiate\u001b[39m is a \u001b[36mFunction\u001b[39m.\n",
       "\n",
       "\u001b[36m  # 2 methods for generic function \"exponentiate\" from Main:\u001b[39m\n",
       "\u001b[36m   [1] exponentiate(x::Int64)\u001b[39m\n",
       "\u001b[36m       @ In[22]:1\u001b[39m\n",
       "\u001b[36m   [2] exponentiate(x::AbstractFloat)\u001b[39m\n",
       "\u001b[36m       @ In[24]:1\u001b[39m"
      ]
     },
     "execution_count": 28,
     "metadata": {},
     "output_type": "execute_result"
    }
   ],
   "source": [
    "?exponentiate"
   ]
  },
  {
   "cell_type": "markdown",
   "id": "99d431ae",
   "metadata": {},
   "source": [
    "We can see that documentation for the function `exponentiate` shows both methods.\n"
   ]
  },
  {
   "cell_type": "markdown",
   "id": "4b939179",
   "metadata": {},
   "source": [
    "## Mutating vs Non-Mutating Functions\n"
   ]
  },
  {
   "cell_type": "markdown",
   "id": "68dedd4d",
   "metadata": {},
   "source": [
    "In Python, we have seen that `list.sort()` sorts the list in place and returns `None`, while `sorted(list)` returns a new sorted list without modifying the original list. This is a simple example of mutating vs non-mutating functions.\n"
   ]
  },
  {
   "cell_type": "markdown",
   "id": "6d1f9d60",
   "metadata": {},
   "source": [
    "In Julia, we follow a uniform convention where mutating functions have a `!` at the end of their names. This helps to easily identify functions that modify their arguments in place.\n"
   ]
  },
  {
   "cell_type": "code",
   "execution_count": 7,
   "id": "01867fe7",
   "metadata": {},
   "outputs": [
    {
     "data": {
      "text/plain": [
       "9-element Vector{Int64}:\n",
       " 3\n",
       " 2\n",
       " 9\n",
       " 6\n",
       " 1\n",
       " 5\n",
       " 4\n",
       " 8\n",
       " 7"
      ]
     },
     "execution_count": 7,
     "metadata": {},
     "output_type": "execute_result"
    }
   ],
   "source": [
    "v = [3, 2, 9, 6, 1, 5, 4, 8, 7]"
   ]
  },
  {
   "cell_type": "code",
   "execution_count": 8,
   "id": "abf56ff3",
   "metadata": {},
   "outputs": [
    {
     "data": {
      "text/plain": [
       "9-element Vector{Int64}:\n",
       " 1\n",
       " 2\n",
       " 3\n",
       " 4\n",
       " 5\n",
       " 6\n",
       " 7\n",
       " 8\n",
       " 9"
      ]
     },
     "execution_count": 8,
     "metadata": {},
     "output_type": "execute_result"
    }
   ],
   "source": [
    "sort(v)"
   ]
  },
  {
   "cell_type": "code",
   "execution_count": 9,
   "id": "66a90af6",
   "metadata": {},
   "outputs": [
    {
     "name": "stdout",
     "output_type": "stream",
     "text": [
      "v = [3, 2, 9, 6, 1, 5, 4, 8, 7]\n"
     ]
    }
   ],
   "source": [
    "@show v;"
   ]
  },
  {
   "cell_type": "markdown",
   "id": "8f4388aa",
   "metadata": {},
   "source": [
    "We see that the original vector `v` remains unchanged after calling `sort(v)`. Now let's use the mutating version `sort!` to sort the vector in place.\n"
   ]
  },
  {
   "cell_type": "code",
   "execution_count": 10,
   "id": "70cb45cb",
   "metadata": {},
   "outputs": [
    {
     "data": {
      "text/plain": [
       "9-element Vector{Int64}:\n",
       " 1\n",
       " 2\n",
       " 3\n",
       " 4\n",
       " 5\n",
       " 6\n",
       " 7\n",
       " 8\n",
       " 9"
      ]
     },
     "execution_count": 10,
     "metadata": {},
     "output_type": "execute_result"
    }
   ],
   "source": [
    "sort!(v)"
   ]
  },
  {
   "cell_type": "code",
   "execution_count": 11,
   "id": "bbe0f987",
   "metadata": {},
   "outputs": [
    {
     "name": "stdout",
     "output_type": "stream",
     "text": [
      "v = [1, 2, 3, 4, 5, 6, 7, 8, 9]\n"
     ]
    }
   ],
   "source": [
    "@show v;"
   ]
  },
  {
   "cell_type": "markdown",
   "id": "be923755",
   "metadata": {},
   "source": [
    "See that the original vector `v` is now sorted after calling `sort!(v)`.\n"
   ]
  },
  {
   "cell_type": "markdown",
   "id": "cdbb567e",
   "metadata": {},
   "source": [
    "We can define our own mutating functions by following the same convention. Let's define a function `increment` that increments each element of a vector by a given value.\n"
   ]
  },
  {
   "cell_type": "markdown",
   "id": "709c00e9",
   "metadata": {},
   "source": [
    "First, we define a non-mutating version `increment` that returns a new vector with incremented values.\n"
   ]
  },
  {
   "cell_type": "code",
   "execution_count": null,
   "id": "36b35e0c",
   "metadata": {},
   "outputs": [
    {
     "data": {
      "text/plain": [
       "increment (generic function with 2 methods)"
      ]
     },
     "execution_count": 12,
     "metadata": {},
     "output_type": "execute_result"
    }
   ],
   "source": [
    "function increment(vec, value=1)\n",
    "    return [x + value for x in vec]\n",
    "end"
   ]
  },
  {
   "cell_type": "markdown",
   "id": "ad4b8856",
   "metadata": {},
   "source": [
    "Now let's define a mutating version `increment!` that modifies the input vector in place.\n"
   ]
  },
  {
   "cell_type": "code",
   "execution_count": null,
   "id": "16a3b75f",
   "metadata": {},
   "outputs": [
    {
     "data": {
      "text/plain": [
       "increment! (generic function with 2 methods)"
      ]
     },
     "execution_count": 13,
     "metadata": {},
     "output_type": "execute_result"
    }
   ],
   "source": [
    "function increment!(vec, value=1)\n",
    "    len = length(vec)\n",
    "    for i in 1:len\n",
    "        vec[i] += value\n",
    "    end\n",
    "    return vec\n",
    "end"
   ]
  },
  {
   "cell_type": "markdown",
   "id": "5335375f",
   "metadata": {},
   "source": [
    "Notice the output of the above two cells. It says `increment (generic function with 2 methods)`, it has two methods, one for any value of `value` and another for the default value of `1`.\n"
   ]
  },
  {
   "cell_type": "markdown",
   "id": "92eaa46b",
   "metadata": {},
   "source": [
    "Let's test both functions to see the difference.\n"
   ]
  },
  {
   "cell_type": "code",
   "execution_count": 15,
   "id": "f112a52b",
   "metadata": {},
   "outputs": [
    {
     "data": {
      "text/plain": [
       "5-element Vector{Int64}:\n",
       " 1\n",
       " 3\n",
       " 5\n",
       " 7\n",
       " 9"
      ]
     },
     "execution_count": 15,
     "metadata": {},
     "output_type": "execute_result"
    }
   ],
   "source": [
    "v = collect(1:2:10)"
   ]
  },
  {
   "cell_type": "code",
   "execution_count": 18,
   "id": "bcd1d5f8",
   "metadata": {},
   "outputs": [
    {
     "name": "stdout",
     "output_type": "stream",
     "text": [
      "increment(v, 3) = [4, 6, 8, 10, 12]\n",
      "v = [1, 3, 5, 7, 9]\n"
     ]
    }
   ],
   "source": [
    "@show increment(v, 3);\n",
    "@show v;"
   ]
  },
  {
   "cell_type": "markdown",
   "id": "4664283a",
   "metadata": {},
   "source": [
    "See that the original vector `v` remains unchanged after calling the non-mutating `increment` function. Now let's use the mutating version `increment!` to increment the elements of `v` in place.\n"
   ]
  },
  {
   "cell_type": "code",
   "execution_count": 19,
   "id": "1cf2c66a",
   "metadata": {},
   "outputs": [
    {
     "name": "stdout",
     "output_type": "stream",
     "text": [
      "increment!(v, 3) = [4, 6, 8, 10, 12]\n",
      "v = [4, 6, 8, 10, 12]\n"
     ]
    }
   ],
   "source": [
    "@show increment!(v, 3);\n",
    "@show v;"
   ]
  },
  {
   "cell_type": "markdown",
   "id": "48a3030e",
   "metadata": {},
   "source": [
    "## Higher-order Functions\n"
   ]
  },
  {
   "cell_type": "markdown",
   "id": "bc6ef073",
   "metadata": {},
   "source": [
    "Higher-order functions are functions that take other functions as arguments or return functions as results. Julia provides several built-in higher-order functions, such as `map`, `broadcast`, `filter`, and `reduce`, which allow you to apply functions to collections of data in a concise and expressive way.\n"
   ]
  },
  {
   "cell_type": "markdown",
   "id": "a65ee518",
   "metadata": {},
   "source": [
    "### map\n"
   ]
  },
  {
   "cell_type": "markdown",
   "id": "64ab226f",
   "metadata": {},
   "source": [
    "`map` applies a function (taken as the first argument) to each element of a collection (taken as the second argument) and returns a new collection with the results.\n",
    "\n",
    "```julia\n",
    "map(f, [1, 2, 3])  # OUTPUT: [f(1), f(2), f(3)]\n",
    "```\n"
   ]
  },
  {
   "cell_type": "code",
   "execution_count": 21,
   "id": "df5e4413",
   "metadata": {},
   "outputs": [],
   "source": [
    "u = collect(1:2:10);"
   ]
  },
  {
   "cell_type": "markdown",
   "id": "b92cfeff",
   "metadata": {},
   "source": [
    "Let's find the $2^i$ for $i$ in the vector `u` using `map` and an anonymous function.\n"
   ]
  },
  {
   "cell_type": "code",
   "execution_count": 22,
   "id": "b01ae18d",
   "metadata": {},
   "outputs": [
    {
     "data": {
      "text/plain": [
       "5-element Vector{Int64}:\n",
       "   2\n",
       "   8\n",
       "  32\n",
       " 128\n",
       " 512"
      ]
     },
     "execution_count": 22,
     "metadata": {},
     "output_type": "execute_result"
    }
   ],
   "source": [
    "map(x -> 2^x, u)"
   ]
  },
  {
   "cell_type": "markdown",
   "id": "439a4f42",
   "metadata": {},
   "source": [
    "Let's say we want to find the element-wise product of two vectors `a` and `b`. We can use `map` with an anonymous function to achieve this.\n"
   ]
  },
  {
   "cell_type": "code",
   "execution_count": null,
   "id": "c9ec8a06",
   "metadata": {},
   "outputs": [
    {
     "data": {
      "text/plain": [
       "3-element Vector{Int64}:\n",
       "  4\n",
       " 10\n",
       " 18"
      ]
     },
     "execution_count": 24,
     "metadata": {},
     "output_type": "execute_result"
    }
   ],
   "source": [
    "a = [1, 2, 3]\n",
    "b = [4, 5, 6]\n",
    "\n",
    "map(*, a, b)"
   ]
  },
  {
   "cell_type": "markdown",
   "id": "e9c2051c",
   "metadata": {},
   "source": [
    "### broadcast\n"
   ]
  },
  {
   "cell_type": "markdown",
   "id": "8aa0ee86",
   "metadata": {},
   "source": [
    "We have generalization of `map` called `broadcast`. It applies a function to all combinations of elements from multiple collections, returning a new collection with the results. The syntax is similar to `map`.\n"
   ]
  },
  {
   "cell_type": "markdown",
   "id": "7681779c",
   "metadata": {},
   "source": [
    "However, broadcast has a more convenient syntax using the dot `.` operator, _i.e._, the following two lines are equivalent:\n",
    "\n",
    "```julia\n",
    "broadcast(f, [1, 2, 3], [4, 5, 6])  # OUTPUT: [f(1,4), f(2,5), f(3,6)]\n",
    "f.([1, 2, 3], [4, 5, 6])        # OUTPUT: [f(1,4), f(2,5), f(3,6)]\n",
    "```\n"
   ]
  },
  {
   "cell_type": "markdown",
   "id": "ca6d00f9",
   "metadata": {},
   "source": [
    "Say we want to raise 2 to the power of each element in matrix `M`. We can use `broadcast` or the dot syntax to achieve this.\n"
   ]
  },
  {
   "cell_type": "code",
   "execution_count": 31,
   "id": "2db4e2f1",
   "metadata": {},
   "outputs": [
    {
     "data": {
      "text/plain": [
       "2×2 Matrix{Int64}:\n",
       " 1  2\n",
       " 3  4"
      ]
     },
     "execution_count": 31,
     "metadata": {},
     "output_type": "execute_result"
    }
   ],
   "source": [
    "M = [1 2; 3 4]"
   ]
  },
  {
   "cell_type": "code",
   "execution_count": 32,
   "id": "dc5acda1",
   "metadata": {},
   "outputs": [
    {
     "data": {
      "text/plain": [
       "2×2 Matrix{Int64}:\n",
       " 2   4\n",
       " 8  16"
      ]
     },
     "execution_count": 32,
     "metadata": {},
     "output_type": "execute_result"
    }
   ],
   "source": [
    "broadcast(x -> 2^x, M)"
   ]
  },
  {
   "cell_type": "markdown",
   "id": "9444cacb",
   "metadata": {},
   "source": [
    "More concise way to do the same thing is using the dot syntax.\n"
   ]
  },
  {
   "cell_type": "code",
   "execution_count": 33,
   "id": "1ee8d689",
   "metadata": {},
   "outputs": [
    {
     "data": {
      "text/plain": [
       "2×2 Matrix{Int64}:\n",
       " 2   4\n",
       " 8  16"
      ]
     },
     "execution_count": 33,
     "metadata": {},
     "output_type": "execute_result"
    }
   ],
   "source": [
    "2 .^ M"
   ]
  },
  {
   "cell_type": "markdown",
   "id": "496ef05e",
   "metadata": {},
   "source": [
    "Using the dot syntax we can easily make functions vectorized. For example, the `cos` function can be applied to each element of an array using the dot syntax.\n"
   ]
  },
  {
   "cell_type": "code",
   "execution_count": 39,
   "id": "da299994",
   "metadata": {},
   "outputs": [
    {
     "data": {
      "text/plain": [
       "10-element Vector{Float64}:\n",
       "  1.0\n",
       " -1.0\n",
       "  1.0\n",
       " -1.0\n",
       "  1.0\n",
       " -1.0\n",
       "  1.0\n",
       " -1.0\n",
       "  1.0\n",
       " -1.0"
      ]
     },
     "execution_count": 39,
     "metadata": {},
     "output_type": "execute_result"
    }
   ],
   "source": [
    "y = collect(0:π:9π);\n",
    "\n",
    "cos.(y)"
   ]
  },
  {
   "cell_type": "markdown",
   "id": "4d02f36a",
   "metadata": {},
   "source": [
    "However, we may forget to add the dot `.` while using a function. In such cases, we can use the following syntax to avoid errors.\n",
    "\n",
    "```julia\n",
    "@. expression\n",
    "```\n"
   ]
  },
  {
   "cell_type": "markdown",
   "id": "aadbc767",
   "metadata": {},
   "source": [
    "Let say we have a quadratic polynomial function and we want to evaluate it for each element in an array.\n"
   ]
  },
  {
   "cell_type": "code",
   "execution_count": 38,
   "id": "ba98970e",
   "metadata": {},
   "outputs": [
    {
     "data": {
      "text/plain": [
       "quad (generic function with 1 method)"
      ]
     },
     "execution_count": 38,
     "metadata": {},
     "output_type": "execute_result"
    }
   ],
   "source": [
    "quad(x) = @. 3x^2 + 2x + 1"
   ]
  },
  {
   "cell_type": "code",
   "execution_count": 40,
   "id": "413ad691",
   "metadata": {},
   "outputs": [
    {
     "data": {
      "text/plain": [
       "7-element Vector{Int64}:\n",
       " 22\n",
       "  9\n",
       "  2\n",
       "  1\n",
       "  6\n",
       " 17\n",
       " 34"
      ]
     },
     "execution_count": 40,
     "metadata": {},
     "output_type": "execute_result"
    }
   ],
   "source": [
    "x = collect(-3:3);\n",
    "\n",
    "quad(x)"
   ]
  },
  {
   "cell_type": "markdown",
   "id": "0d92e1b5",
   "metadata": {},
   "source": [
    "### filter\n"
   ]
  },
  {
   "cell_type": "markdown",
   "id": "29201cf9",
   "metadata": {},
   "source": [
    "Let's talk about `filter`, which is another useful higher-order function in Julia. The `filter` function takes a predicate function (a function that returns a boolean value) and a collection, and it returns a copy of the collection containing only the elements that satisfy the predicate.\n",
    "\n",
    "```julia\n",
    "filter(predicate, collection)\n",
    "```\n"
   ]
  },
  {
   "cell_type": "markdown",
   "id": "2930022f",
   "metadata": {},
   "source": [
    "Let's collect even numbers from an array using `filter` and an anonymous function.\n"
   ]
  },
  {
   "cell_type": "code",
   "execution_count": 53,
   "id": "a7e2c295",
   "metadata": {},
   "outputs": [
    {
     "data": {
      "text/plain": [
       "5-element Vector{Int64}:\n",
       "  2\n",
       "  4\n",
       "  6\n",
       "  8\n",
       " 10"
      ]
     },
     "execution_count": 53,
     "metadata": {},
     "output_type": "execute_result"
    }
   ],
   "source": [
    "filter(x -> x % 2 == 0, collect(1:10))"
   ]
  },
  {
   "cell_type": "markdown",
   "id": "dcff23db",
   "metadata": {},
   "source": [
    "Till now, we have only seen higher-order functions that take functions as arguments. But with `filter`, we can also use it to return a function. Let's create a function that returns a predicate function to check if a number is greater than a given threshold.\n"
   ]
  },
  {
   "cell_type": "code",
   "execution_count": 54,
   "id": "52e3a4d0",
   "metadata": {},
   "outputs": [
    {
     "data": {
      "text/plain": [
       "threshold_predicate (generic function with 1 method)"
      ]
     },
     "execution_count": 54,
     "metadata": {},
     "output_type": "execute_result"
    }
   ],
   "source": [
    "threshold_predicate(threshold) = x -> x > threshold"
   ]
  },
  {
   "cell_type": "markdown",
   "id": "d75b4583",
   "metadata": {},
   "source": [
    "The function `threshold_predicate` takes a threshold value and returns an anonymous function that checks if a number is greater than that threshold.\n"
   ]
  },
  {
   "cell_type": "code",
   "execution_count": 55,
   "id": "fa9b6f8c",
   "metadata": {},
   "outputs": [
    {
     "data": {
      "text/plain": [
       "(::Base.Fix1{typeof(filter), var\"#11#12\"{Int64}}) (generic function with 1 method)"
      ]
     },
     "execution_count": 55,
     "metadata": {},
     "output_type": "execute_result"
    }
   ],
   "source": [
    "threshold_filter = filter(threshold_predicate(5))"
   ]
  },
  {
   "cell_type": "markdown",
   "id": "e3b8f934",
   "metadata": {},
   "source": [
    "The `threshold_filter` function can now be used to filter elements greater than the specified threshold from a collection.\n"
   ]
  },
  {
   "cell_type": "code",
   "execution_count": 56,
   "id": "695ee438",
   "metadata": {},
   "outputs": [
    {
     "data": {
      "text/plain": [
       "5-element Vector{Int64}:\n",
       "  6\n",
       "  7\n",
       "  8\n",
       "  9\n",
       " 10"
      ]
     },
     "execution_count": 56,
     "metadata": {},
     "output_type": "execute_result"
    }
   ],
   "source": [
    "threshold_filter(collect(1:10))"
   ]
  },
  {
   "cell_type": "markdown",
   "id": "fee218ac",
   "metadata": {},
   "source": [
    "We have defined two higher-order functions which return functions, `threshold_predicate` using an anonymous function and `threshold_filter` using `filter`.\n"
   ]
  },
  {
   "cell_type": "markdown",
   "id": "beb7946b",
   "metadata": {},
   "source": [
    "## Exercises\n"
   ]
  },
  {
   "cell_type": "markdown",
   "id": "9b550131",
   "metadata": {},
   "source": [
    "### 5.1: Basic Syntax\n"
   ]
  },
  {
   "cell_type": "markdown",
   "id": "75c8d672",
   "metadata": {},
   "source": [
    "Write a function `volume_of_cylinder` that takes the radius and height of a cylinder as arguments and returns its volume. Make default value of height to `1` if not provided.\n"
   ]
  },
  {
   "cell_type": "code",
   "execution_count": null,
   "id": "cfe07633",
   "metadata": {},
   "outputs": [],
   "source": [
    "function volume_of_cylinder()\n",
    "    # Your code here\n",
    "end"
   ]
  },
  {
   "cell_type": "code",
   "execution_count": null,
   "id": "2481afb6",
   "metadata": {},
   "outputs": [],
   "source": [
    "@assert volume_of_cylinder(3, 5) == 45π"
   ]
  },
  {
   "cell_type": "code",
   "execution_count": 60,
   "id": "0a878f2e",
   "metadata": {},
   "outputs": [],
   "source": [
    "@assert volume_of_cylinder(2) == 4π"
   ]
  },
  {
   "cell_type": "markdown",
   "id": "5f23daff",
   "metadata": {},
   "source": [
    "### 5.2: Multiple Dispatch\n"
   ]
  },
  {
   "cell_type": "markdown",
   "id": "e483142a",
   "metadata": {},
   "source": [
    "Write a function `Max` that has the following behavior:\n",
    "\n",
    "- If the input is vector of reals, it returns the maximum number in the vector.\n",
    "\n",
    "  Hint: You can use the built-in `maximum` function (use `?` to see its documentation).\n",
    "\n",
    "- If the input is a vector of strings, it returns the longest string in the vector (first occurrence if there are multiple).\n",
    "\n",
    "  Hint: You can use the `length` function to get the length of a string.\n"
   ]
  },
  {
   "cell_type": "code",
   "execution_count": null,
   "id": "d1993f03",
   "metadata": {},
   "outputs": [],
   "source": [
    "Max(vec::Vector{<:Real}) ="
   ]
  },
  {
   "cell_type": "code",
   "execution_count": null,
   "id": "a252e968",
   "metadata": {},
   "outputs": [],
   "source": [
    "function Max(vec::Vector{String})\n",
    "    # Your code here\n",
    "end"
   ]
  },
  {
   "cell_type": "code",
   "execution_count": null,
   "id": "15b94d1e",
   "metadata": {},
   "outputs": [],
   "source": [
    "@assert Max([1, 3.5, 2 // 7, -4]) == 3.5"
   ]
  },
  {
   "cell_type": "code",
   "execution_count": null,
   "id": "e08b2e1b",
   "metadata": {},
   "outputs": [],
   "source": [
    "@assert Max([\"apple\", \"banana\", \"cherry\"]) == \"banana\""
   ]
  },
  {
   "cell_type": "markdown",
   "id": "f9f7bebb",
   "metadata": {},
   "source": [
    "### 5.3: Higher-order Functions\n"
   ]
  },
  {
   "cell_type": "markdown",
   "id": "eee39872",
   "metadata": {},
   "source": [
    "Take following list of dictionaries representing people with their names and ages:\n"
   ]
  },
  {
   "cell_type": "code",
   "execution_count": null,
   "id": "82174f26",
   "metadata": {},
   "outputs": [],
   "source": [
    "people = [\n",
    "    Dict(\"name\" => \"Alice\", \"age\" => 30),\n",
    "    Dict(\"name\" => \"Bob\", \"age\" => 17),\n",
    "    Dict(\"name\" => \"Charlie\", \"age\" => 45),\n",
    "    Dict(\"name\" => \"David\", \"age\" => 15)\n",
    "]"
   ]
  },
  {
   "cell_type": "markdown",
   "id": "0e9c9b58",
   "metadata": {},
   "source": [
    "Using `filter` and a suitable predicate function, create a new list containing only the adults (age $\\ge$ 18).\n"
   ]
  },
  {
   "cell_type": "code",
   "execution_count": null,
   "id": "ff8da6bc",
   "metadata": {},
   "outputs": [],
   "source": [
    "adult_people = filter(, people)"
   ]
  },
  {
   "cell_type": "markdown",
   "id": "3c09da46",
   "metadata": {},
   "source": [
    "Using `map` and a suitable function, create a new list containing only the names of the adults.\n"
   ]
  },
  {
   "cell_type": "code",
   "execution_count": null,
   "id": "f20920f9",
   "metadata": {},
   "outputs": [],
   "source": [
    "map(, adult_people)"
   ]
  }
 ],
 "metadata": {
  "kernelspec": {
   "display_name": "Julia 1.11.6",
   "language": "julia",
   "name": "julia-1.11"
  },
  "language_info": {
   "file_extension": ".jl",
   "mimetype": "application/julia",
   "name": "julia",
   "version": "1.11.6"
  }
 },
 "nbformat": 4,
 "nbformat_minor": 5
}
