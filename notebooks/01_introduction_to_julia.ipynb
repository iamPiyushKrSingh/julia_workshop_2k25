{
 "cells": [
  {
   "cell_type": "markdown",
   "id": "3cf6aeef",
   "metadata": {},
   "source": [
    "# Introduction to Julia\n"
   ]
  },
  {
   "cell_type": "markdown",
   "id": "e120d29b",
   "metadata": {},
   "source": [
    "In this notebook, we will explore the basics of the Julia programming language, including its syntax, basic operations, and control flow structures.\n"
   ]
  },
  {
   "cell_type": "markdown",
   "id": "b3fa40da",
   "metadata": {},
   "source": [
    "## Historical Note\n",
    "\n",
    "Julia was created in 2012 by Jeff Bezanson, Stefan Karpinski, Viral B. Shah, and Alan Edelman. It was designed to be a high-performance language for technical computing, combining the ease of use of dynamic languages like Python with the speed of compiled languages like C.\n"
   ]
  },
  {
   "cell_type": "markdown",
   "id": "5401b5ad",
   "metadata": {},
   "source": [
    "Like any standard programming language tutorial, we will start with printing \"Hello, World!\" to the console.\n"
   ]
  },
  {
   "cell_type": "code",
   "execution_count": 1,
   "id": "373552b6",
   "metadata": {},
   "outputs": [
    {
     "name": "stdout",
     "output_type": "stream",
     "text": [
      "Hello, World!"
     ]
    }
   ],
   "source": [
    "print(\"Hello, World!\")"
   ]
  },
  {
   "cell_type": "markdown",
   "id": "38c2a974",
   "metadata": {},
   "source": [
    "## Basic Syntax\n"
   ]
  },
  {
   "cell_type": "markdown",
   "id": "a5a42747-32ed-4acb-ba15-d467b63848de",
   "metadata": {},
   "source": [
    "In this section, we will learn how to declare variables, perform basic arithmetic operations, and print output to the console.\n"
   ]
  },
  {
   "cell_type": "markdown",
   "id": "798c6a45",
   "metadata": {},
   "source": [
    "### Printing Output\n"
   ]
  },
  {
   "cell_type": "markdown",
   "id": "c1386be9",
   "metadata": {},
   "source": [
    "We have two functions to print output to the console: `print()` and `println()`. The `print()` function prints the output without a newline at the end, while `println()` adds a newline after printing.\n"
   ]
  },
  {
   "cell_type": "code",
   "execution_count": 2,
   "id": "452dab43",
   "metadata": {},
   "outputs": [
    {
     "name": "stdout",
     "output_type": "stream",
     "text": [
      "This is a test message.Next line starts here."
     ]
    }
   ],
   "source": [
    "print(\"This is a test message.\")\n",
    "print(\"Next line starts here.\")"
   ]
  },
  {
   "cell_type": "code",
   "execution_count": 3,
   "id": "80e24675",
   "metadata": {},
   "outputs": [
    {
     "name": "stdout",
     "output_type": "stream",
     "text": [
      "This is a test message.\n",
      "Next line starts here.\n"
     ]
    }
   ],
   "source": [
    "println(\"This is a test message.\")\n",
    "println(\"Next line starts here.\")"
   ]
  },
  {
   "cell_type": "markdown",
   "id": "d83c3524",
   "metadata": {},
   "source": [
    "So, effectively, `println(\"...\")` $\\equiv$ `print(\"...\\n\")`.\n"
   ]
  },
  {
   "cell_type": "markdown",
   "id": "afab44c8",
   "metadata": {},
   "source": [
    "### Variables and Arithmetic Operations\n"
   ]
  },
  {
   "cell_type": "markdown",
   "id": "5238e57b",
   "metadata": {},
   "source": [
    "In Julia, you can declare variables using the `=` operator.\n"
   ]
  },
  {
   "cell_type": "code",
   "execution_count": 4,
   "id": "43da1221",
   "metadata": {},
   "outputs": [
    {
     "data": {
      "text/plain": [
       "2.71828"
      ]
     },
     "metadata": {},
     "output_type": "display_data"
    }
   ],
   "source": [
    "x = 5\n",
    "y = 2.71828"
   ]
  },
  {
   "cell_type": "markdown",
   "id": "f59c21d9",
   "metadata": {},
   "source": [
    "Now, we want to know the `type` of the variable `x`. In Julia, you can use the `typeof()` function to check the type of a variable.\n"
   ]
  },
  {
   "cell_type": "code",
   "execution_count": 5,
   "id": "43b282ed",
   "metadata": {},
   "outputs": [
    {
     "name": "stdout",
     "output_type": "stream",
     "text": [
      "Int64\n",
      "Float64\n"
     ]
    }
   ],
   "source": [
    "println(typeof(x))\n",
    "println(typeof(y))"
   ]
  },
  {
   "cell_type": "markdown",
   "id": "879f5e03",
   "metadata": {},
   "source": [
    "So, `5` is an `Int64` (64-bit integer) and `2.71828` is a `Float64` (64-bit floating-point number).\n",
    "This is different from Python, where `5` would be an `int` and `2.71828` would be a `float`.\n"
   ]
  },
  {
   "cell_type": "markdown",
   "id": "112a3b41",
   "metadata": {},
   "source": [
    "In Julia, any number is of type `Number`, which is a supertype of both `Int64` and `Float64`. Here, we have an extensive type system that allows us to work with different numeric types seamlessly. See the following image for a visual representation of the type hierarchy in Julia:\n",
    "\n",
    "<img src=\"./assests/standard_number_type(hierarchy).png\" alt=\"Standard Number Type Hierarchy in Julia\" width=\"1200\">\n"
   ]
  },
  {
   "cell_type": "markdown",
   "id": "78c80604",
   "metadata": {},
   "source": [
    "Let's perform some basic arithmetic operations using the variables we declared earlier.\n"
   ]
  },
  {
   "cell_type": "code",
   "execution_count": 6,
   "id": "e736ef7b",
   "metadata": {},
   "outputs": [
    {
     "data": {
      "text/plain": [
       "7.71828"
      ]
     },
     "metadata": {},
     "output_type": "display_data"
    }
   ],
   "source": [
    "add = x + y"
   ]
  },
  {
   "cell_type": "code",
   "execution_count": 7,
   "id": "2315a122",
   "metadata": {},
   "outputs": [
    {
     "data": {
      "text/plain": [
       "2.28172"
      ]
     },
     "metadata": {},
     "output_type": "display_data"
    }
   ],
   "source": [
    "minus = x - y"
   ]
  },
  {
   "cell_type": "code",
   "execution_count": 8,
   "id": "69f91ee2",
   "metadata": {},
   "outputs": [
    {
     "data": {
      "text/plain": [
       "13.5914"
      ]
     },
     "metadata": {},
     "output_type": "display_data"
    }
   ],
   "source": [
    "multiply = x * y"
   ]
  },
  {
   "cell_type": "code",
   "execution_count": 9,
   "id": "8139ef3d",
   "metadata": {},
   "outputs": [
    {
     "data": {
      "text/plain": [
       "1.8393984431331578"
      ]
     },
     "metadata": {},
     "output_type": "display_data"
    }
   ],
   "source": [
    "divide = x / y"
   ]
  },
  {
   "cell_type": "code",
   "execution_count": null,
   "id": "6423cc8f",
   "metadata": {},
   "outputs": [
    {
     "data": {
      "text/plain": [
       "79.432125413701"
      ]
     },
     "metadata": {},
     "output_type": "display_data"
    }
   ],
   "source": [
    "power = x^y # this is different from python, where it is x ** y"
   ]
  },
  {
   "cell_type": "code",
   "execution_count": 12,
   "id": "4ee63ac0",
   "metadata": {},
   "outputs": [
    {
     "data": {
      "text/plain": [
       "2"
      ]
     },
     "metadata": {},
     "output_type": "display_data"
    }
   ],
   "source": [
    "mod = 101 % 3"
   ]
  },
  {
   "cell_type": "markdown",
   "id": "987cce0f",
   "metadata": {},
   "source": [
    "Some useful features of Julia's from Scientific computing perspective:\n",
    "\n",
    "1. Don't need to import any libraries from using `pi` or `e` as they are built-in constants.\n",
    "\n",
    "   For example, to use $\\pi$, you can simply write `pi` or use unicode character `π` directly in your code. Similarly, for the base of the natural logarithm, you can use `euler` or the unicode character `ℯ` (\\euler\\<TAB\\>).\n"
   ]
  },
  {
   "cell_type": "code",
   "execution_count": 15,
   "id": "d54b166f",
   "metadata": {},
   "outputs": [
    {
     "data": {
      "text/plain": [
       "π = 3.1415926535897..."
      ]
     },
     "metadata": {},
     "output_type": "display_data"
    }
   ],
   "source": [
    "π"
   ]
  },
  {
   "cell_type": "code",
   "execution_count": 14,
   "id": "f1548689",
   "metadata": {},
   "outputs": [
    {
     "data": {
      "text/plain": [
       "ℯ = 2.7182818284590..."
      ]
     },
     "metadata": {},
     "output_type": "display_data"
    }
   ],
   "source": [
    "ℯ"
   ]
  },
  {
   "cell_type": "markdown",
   "id": "27968eb2",
   "metadata": {},
   "source": [
    "2. To build on the previous point, you can use the unicode character directly in your code. For example, you can use `\\sigma<TAB>` to get the unicode character `σ`. Then to use the subscript, you can use `σ\\_x<TAB>` to get `σₓ`.\n"
   ]
  },
  {
   "cell_type": "code",
   "execution_count": 17,
   "id": "9f1155eb",
   "metadata": {},
   "outputs": [
    {
     "data": {
      "text/plain": [
       "2×2 Matrix{Int64}:\n",
       " 0  1\n",
       " 1  0"
      ]
     },
     "metadata": {},
     "output_type": "display_data"
    }
   ],
   "source": [
    "σₓ = [0 1; 1 0]"
   ]
  },
  {
   "cell_type": "markdown",
   "id": "ceefb0f6",
   "metadata": {},
   "source": [
    "3. `NumPy` in Standard Library: Julia has a built-in library called `LinearAlgebra` that provides functionality similar to NumPy in Python. More on this later.\n"
   ]
  },
  {
   "cell_type": "markdown",
   "id": "0ccce513",
   "metadata": {},
   "source": [
    "## Exercises\n"
   ]
  },
  {
   "cell_type": "markdown",
   "id": "d94c7b1a",
   "metadata": {},
   "source": [
    "Assign the value of `0.577215` (the Euler-Mascheroni constant) to a variable named `γ` and print the value and type of `γ`.\n"
   ]
  },
  {
   "cell_type": "code",
   "execution_count": 18,
   "id": "4f2bf0a4",
   "metadata": {},
   "outputs": [],
   "source": [
    "# TODO: Assign\n",
    "\n",
    "# TODO: Print\n",
    "## Value\n",
    "\n",
    "## Type\n"
   ]
  },
  {
   "cell_type": "markdown",
   "id": "1d8cbcb7",
   "metadata": {},
   "source": [
    "Use `?` magic command to get the documentation for `convert` function in Julia (as discussed in [`this notebook`](00_repl_and_more.ipynb)). Use this function to convert the variable `γ` to a `Int8` type in another variable named `γ_int8`. Print the value and type of `γ_int8`.\n"
   ]
  },
  {
   "cell_type": "code",
   "execution_count": 20,
   "id": "c6ac5041",
   "metadata": {},
   "outputs": [],
   "source": [
    "# TODO: documentation of `convert` function\n"
   ]
  },
  {
   "cell_type": "code",
   "execution_count": null,
   "id": "f64830d8",
   "metadata": {},
   "outputs": [],
   "source": [
    "# TODO: use `convert` function to convert `γ` to `Int8` type and assign it to `γ_int8`\n",
    "γ_int8 = "
   ]
  }
 ],
 "metadata": {
  "kernelspec": {
   "display_name": "Julia 1.11.6",
   "language": "julia",
   "name": "julia-1.11"
  },
  "language_info": {
   "file_extension": ".jl",
   "mimetype": "application/julia",
   "name": "julia",
   "version": "1.11.6"
  }
 },
 "nbformat": 4,
 "nbformat_minor": 5
}
