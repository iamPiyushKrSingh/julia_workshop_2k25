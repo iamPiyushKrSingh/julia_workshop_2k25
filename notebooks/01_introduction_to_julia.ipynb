{
 "cells": [
  {
   "cell_type": "markdown",
   "id": "3cf6aeef",
   "metadata": {},
   "source": [
    "# Introduction to Julia\n"
   ]
  },
  {
   "cell_type": "markdown",
   "id": "e120d29b",
   "metadata": {},
   "source": [
    "In this notebook, we will explore the basics of the Julia programming language, including its syntax, basic operations, and control flow structures.\n"
   ]
  },
  {
   "cell_type": "markdown",
   "id": "b3fa40da",
   "metadata": {},
   "source": [
    "## Historical Note\n",
    "\n",
    "Julia was created in 2012 by Jeff Bezanson, Stefan Karpinski, Viral B. Shah, and Alan Edelman. It was designed to be a high-performance language for technical computing, combining the ease of use of dynamic languages like Python with the speed of compiled languages like C.\n"
   ]
  },
  {
   "cell_type": "markdown",
   "id": "5401b5ad",
   "metadata": {},
   "source": [
    "Like any standard programming language tutorial, we will start with printing \"Hello, World!\" to the console.\n"
   ]
  },
  {
   "cell_type": "code",
   "execution_count": 1,
   "id": "373552b6",
   "metadata": {},
   "outputs": [
    {
     "name": "stdout",
     "output_type": "stream",
     "text": [
      "Hello, World!"
     ]
    }
   ],
   "source": [
    "print(\"Hello, World!\")"
   ]
  },
  {
   "cell_type": "markdown",
   "id": "38c2a974",
   "metadata": {},
   "source": [
    "## Basic Syntax\n"
   ]
  }
 ],
 "metadata": {
  "kernelspec": {
   "display_name": "julia 1.11.6",
   "language": "julia",
   "name": "julia-1.11"
  },
  "language_info": {
   "file_extension": ".jl",
   "mimetype": "application/julia",
   "name": "julia",
   "version": "1.11.6"
  }
 },
 "nbformat": 4,
 "nbformat_minor": 5
}
