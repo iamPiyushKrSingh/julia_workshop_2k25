{
 "cells": [
  {
   "cell_type": "markdown",
   "id": "6fe092ea",
   "metadata": {},
   "source": [
    "# Data Structures\n"
   ]
  },
  {
   "cell_type": "markdown",
   "id": "44c3bacf",
   "metadata": {},
   "source": [
    "In real world applications, we often need to store and manipulate collections of data. There are several common ways to store data, some ways are better suited for certain tasks than others. In this notebook, we will explore some of the most common data structures:\n",
    "\n",
    "- Arrays\n",
    "- Tuples\n",
    "  - Named Tuples\n",
    "- Dictionary\n"
   ]
  },
  {
   "cell_type": "markdown",
   "id": "725a1508",
   "metadata": {},
   "source": [
    "## Arrays\n"
   ]
  },
  {
   "cell_type": "markdown",
   "id": "2e03013a",
   "metadata": {},
   "source": [
    "An array is a collection of elements in an ordered manner. The elements can be of any type, but they are usually of the same type.\n",
    "\n",
    "One thing which makes arrays more accessible is that they are mutable, meaning that we can change the elements of the array after it has been created.\n"
   ]
  },
  {
   "cell_type": "markdown",
   "id": "a881ccdb",
   "metadata": {},
   "source": [
    "To create an array, enclose the elements in square brackets `[]` and separate them with commas. For example, to create an array of \"moods\", we can do the following\n"
   ]
  },
  {
   "cell_type": "code",
   "execution_count": 1,
   "id": "6b985101",
   "metadata": {},
   "outputs": [
    {
     "data": {
      "text/plain": [
       "5-element Vector{String}:\n",
       " \"happy\"\n",
       " \"sad\"\n",
       " \"angry\"\n",
       " \"excited\"\n",
       " \"bored\""
      ]
     },
     "execution_count": 1,
     "metadata": {},
     "output_type": "execute_result"
    }
   ],
   "source": [
    "moods = [\"happy\", \"sad\", \"angry\", \"excited\", \"bored\"]"
   ]
  },
  {
   "cell_type": "code",
   "execution_count": 2,
   "id": "9d0b65ad",
   "metadata": {},
   "outputs": [
    {
     "data": {
      "text/plain": [
       "Vector{String}\u001b[90m (alias for \u001b[39m\u001b[90mArray{String, 1}\u001b[39m\u001b[90m)\u001b[39m"
      ]
     },
     "execution_count": 2,
     "metadata": {},
     "output_type": "execute_result"
    }
   ],
   "source": [
    "typeof(moods)"
   ]
  },
  {
   "cell_type": "markdown",
   "id": "ea73db1e",
   "metadata": {},
   "source": [
    "Notice that the type of the array is `Vector{String}`. And it is also mentioned that this is an alias for `Array{String, 1}`. This means that the vector is a one-dimensional array.\n",
    "\n",
    "$$\n",
    "    \\mathrm{Vector}\\{T\\} \\equiv \\mathrm{Array}\\{T, 1\\} \\qquad T <: \\mathrm{Any}\n",
    "$$\n"
   ]
  },
  {
   "cell_type": "code",
   "execution_count": 3,
   "id": "8badd377",
   "metadata": {},
   "outputs": [
    {
     "data": {
      "text/plain": [
       "11-element Vector{Int64}:\n",
       " 3\n",
       " 1\n",
       " 4\n",
       " 1\n",
       " 5\n",
       " 9\n",
       " 2\n",
       " 6\n",
       " 5\n",
       " 3\n",
       " 5"
      ]
     },
     "execution_count": 3,
     "metadata": {},
     "output_type": "execute_result"
    }
   ],
   "source": [
    "vec_int = [3, 1, 4, 1, 5, 9, 2, 6, 5, 3, 5]"
   ]
  },
  {
   "cell_type": "markdown",
   "id": "8dc7797e",
   "metadata": {},
   "source": [
    "Vector with all types of numbers,\n"
   ]
  },
  {
   "cell_type": "code",
   "execution_count": 4,
   "id": "ff06526c",
   "metadata": {},
   "outputs": [
    {
     "data": {
      "text/plain": [
       "4-element Vector{ComplexF64}:\n",
       "               -1.0 + 0.0im\n",
       "                0.0 + 0.0im\n",
       " 0.3333333333333333 + 0.0im\n",
       "                1.0 + 1.0im"
      ]
     },
     "execution_count": 4,
     "metadata": {},
     "output_type": "execute_result"
    }
   ],
   "source": [
    "vec_num = [-1, 0.0, 1 // 3, 1 + 1im]"
   ]
  },
  {
   "cell_type": "markdown",
   "id": "e373e741",
   "metadata": {},
   "source": [
    "Notice that the type of `Number` array is `Vector{ComplexF64}`. This means that the vector is a one-dimensional array of complex numbers with 64-bit floating point precision.\n"
   ]
  },
  {
   "cell_type": "markdown",
   "id": "4c28cbfc",
   "metadata": {},
   "source": [
    "### Indexing and Assignment\n"
   ]
  },
  {
   "cell_type": "markdown",
   "id": "603143c9",
   "metadata": {},
   "source": [
    "Two most important methods of an array are \"ordering\" and \"mutability\".\n",
    "\n",
    "The array is ordered, meaning that the elements are stored in a specific order. In Julia, the index is `1` based rather than `0` based (like in Python).\n"
   ]
  },
  {
   "cell_type": "code",
   "execution_count": 5,
   "id": "ee9564de",
   "metadata": {},
   "outputs": [
    {
     "ename": "LoadError",
     "evalue": "BoundsError: attempt to access 5-element Vector{String} at index [0]",
     "output_type": "error",
     "traceback": [
      "BoundsError: attempt to access 5-element Vector{String} at index [0]",
      "",
      "Stacktrace:",
      " [1] top-level scope",
      "\u001b[90m   @\u001b[39m \u001b[90m\u001b[4mIn[5]:1\u001b[24m\u001b[39m"
     ]
    }
   ],
   "source": [
    "moods[0]"
   ]
  },
  {
   "cell_type": "markdown",
   "id": "38b7e608",
   "metadata": {},
   "source": [
    "We want to access 4th element of the `moods` array,\n"
   ]
  },
  {
   "cell_type": "code",
   "execution_count": 6,
   "id": "dd13710a",
   "metadata": {},
   "outputs": [
    {
     "data": {
      "text/plain": [
       "\"excited\""
      ]
     },
     "execution_count": 6,
     "metadata": {},
     "output_type": "execute_result"
    }
   ],
   "source": [
    "moods[4]"
   ]
  },
  {
   "cell_type": "code",
   "execution_count": 7,
   "id": "6921900d",
   "metadata": {},
   "outputs": [
    {
     "data": {
      "text/plain": [
       "(\"happy\", \"bored\")"
      ]
     },
     "execution_count": 7,
     "metadata": {},
     "output_type": "execute_result"
    }
   ],
   "source": [
    "moods[1], moods[end]"
   ]
  },
  {
   "cell_type": "markdown",
   "id": "6ca38dba",
   "metadata": {},
   "source": [
    "We can do array slicing to access a range of elements in the array. For example, to access the 2nd, 4th, and 6th elements of the `vec_int` array:\n"
   ]
  },
  {
   "cell_type": "code",
   "execution_count": 8,
   "id": "7a0e466a",
   "metadata": {},
   "outputs": [
    {
     "data": {
      "text/plain": [
       "3-element Vector{Int64}:\n",
       " 1\n",
       " 1\n",
       " 9"
      ]
     },
     "execution_count": 8,
     "metadata": {},
     "output_type": "execute_result"
    }
   ],
   "source": [
    "vec_int[2:2:6]"
   ]
  },
  {
   "cell_type": "markdown",
   "id": "8819afc0",
   "metadata": {},
   "source": [
    "For slicing, we use the colon `:` operator. The syntax is `array[start:step:end]`, where `start` is the index of the first element, `step` is the step size, and `end` is the index of the last element (inclusive).\n",
    "\n",
    "- If `step` is omitted, it defaults to `1`.\n",
    "- If `start` is omitted, it defaults to `1`.\n",
    "- If `end` is omitted, it defaults to the last element of the array.\n"
   ]
  },
  {
   "cell_type": "markdown",
   "id": "961a4ba5",
   "metadata": {},
   "source": [
    "Using the similar syntax, we can mutate the elements of the array. For example, to change the 2nd element of the `vec_num` array to `1 + sqrt(5)`\n"
   ]
  },
  {
   "cell_type": "code",
   "execution_count": 9,
   "id": "5e37a989",
   "metadata": {},
   "outputs": [
    {
     "name": "stdout",
     "output_type": "stream",
     "text": [
      "vec_num = ComplexF64[-1.0 + 0.0im, 3.23606797749979 + 0.0im, 0.3333333333333333 + 0.0im, 1.0 + 1.0im]\n"
     ]
    }
   ],
   "source": [
    "vec_num[2] = 1 + √5\n",
    "@show vec_num;"
   ]
  },
  {
   "cell_type": "markdown",
   "id": "424aa4d0",
   "metadata": {},
   "source": [
    "### Array Functions\n"
   ]
  },
  {
   "cell_type": "markdown",
   "id": "b4539e1f",
   "metadata": {},
   "source": [
    "There are few basic array operations that everyone uses. These are:\n",
    "\n",
    "1. appending elements to the array: `push!`\n",
    "2. inserting elements at a specific index: `insert!`\n",
    "3. removing elements from the array: `pop!` and `popat!`\n"
   ]
  },
  {
   "cell_type": "markdown",
   "id": "d0dee3d7",
   "metadata": {},
   "source": [
    "For example, say we want to append `despair` to `moods` array,\n"
   ]
  },
  {
   "cell_type": "code",
   "execution_count": 10,
   "id": "1ed9c2fa",
   "metadata": {},
   "outputs": [
    {
     "data": {
      "text/plain": [
       "6-element Vector{String}:\n",
       " \"happy\"\n",
       " \"sad\"\n",
       " \"angry\"\n",
       " \"excited\"\n",
       " \"bored\"\n",
       " \"despair\""
      ]
     },
     "execution_count": 10,
     "metadata": {},
     "output_type": "execute_result"
    }
   ],
   "source": [
    "push!(moods, \"despair\")"
   ]
  },
  {
   "cell_type": "markdown",
   "id": "5dc96158",
   "metadata": {},
   "source": [
    "Now say we want to insert `joy` at the 2nd index of the `moods` array,\n"
   ]
  },
  {
   "cell_type": "code",
   "execution_count": 11,
   "id": "0cee77cb",
   "metadata": {},
   "outputs": [
    {
     "name": "stdout",
     "output_type": "stream",
     "text": [
      "moods = [\"happy\", \"joy\", \"sad\", \"angry\", \"excited\", \"bored\", \"despair\"]\n"
     ]
    }
   ],
   "source": [
    "insert!(moods, 2, \"joy\");\n",
    "\n",
    "@show moods;"
   ]
  },
  {
   "cell_type": "markdown",
   "id": "a14ec5e0",
   "metadata": {},
   "source": [
    "Say we to remove last element from the `vec_int`,\n"
   ]
  },
  {
   "cell_type": "code",
   "execution_count": 12,
   "id": "06bd0485",
   "metadata": {},
   "outputs": [
    {
     "name": "stdout",
     "output_type": "stream",
     "text": [
      "vec_int = [3, 1, 4, 1, 5, 9, 2, 6, 5, 3, 5]\n",
      "vec_int = [3, 1, 4, 1, 5, 9, 2, 6, 5, 3]\n"
     ]
    }
   ],
   "source": [
    "@show vec_int; # before\n",
    "pop!(vec_int)\n",
    "@show vec_int; # after"
   ]
  },
  {
   "cell_type": "markdown",
   "id": "e19a5382",
   "metadata": {},
   "source": [
    "Or we want to remove `2nd` index from `vec_int`,\n"
   ]
  },
  {
   "cell_type": "code",
   "execution_count": 13,
   "id": "2586b59c",
   "metadata": {},
   "outputs": [
    {
     "name": "stdout",
     "output_type": "stream",
     "text": [
      "vec_num = ComplexF64[-1.0 + 0.0im, 3.23606797749979 + 0.0im, 0.3333333333333333 + 0.0im, 1.0 + 1.0im]\n",
      "vec_num = ComplexF64[-1.0 + 0.0im, 0.3333333333333333 + 0.0im, 1.0 + 1.0im]\n"
     ]
    }
   ],
   "source": [
    "# before\n",
    "@show vec_num\n",
    "popat!(vec_num, 2)\n",
    "# after\n",
    "@show vec_num;"
   ]
  },
  {
   "cell_type": "markdown",
   "id": "42bfb6d9",
   "metadata": {},
   "source": [
    "### Ranges\n"
   ]
  },
  {
   "cell_type": "markdown",
   "id": "38650e6b",
   "metadata": {},
   "source": [
    "In all the above examples, we created arrays by explicitly specifying all the elements. But what if we want to create an array with a large number of elements? For example, an array with all integers from `1` to `1000`. We can use the `range` function to create such arrays.\n"
   ]
  },
  {
   "cell_type": "code",
   "execution_count": 6,
   "id": "04390fe9",
   "metadata": {},
   "outputs": [
    {
     "name": "stdout",
     "output_type": "stream",
     "text": [
      "count_1000[1:10:100] = [1, 11, 21, 31, 41, 51, 61, 71, 81, 91]\n"
     ]
    }
   ],
   "source": [
    "count_1000 = collect(range(1, 1000));\n",
    "\n",
    "@show count_1000[1:10:100];"
   ]
  },
  {
   "cell_type": "markdown",
   "id": "90de1a7d",
   "metadata": {},
   "source": [
    "`range` function takes four arguments: `start`, `stop`, `length` and `step`. We can specify any two (or more) of these arguments to create a range. The function returns a `AbstractRange` object, which can be converted to an array using the `collect` function.\n"
   ]
  },
  {
   "cell_type": "markdown",
   "id": "554eb451",
   "metadata": {},
   "source": [
    "We can use the `range` function to create an array with `Float`s as well,\n"
   ]
  },
  {
   "cell_type": "code",
   "execution_count": null,
   "id": "51b98b10",
   "metadata": {},
   "outputs": [],
   "source": [
    "one_period = collect(range(0, 2π, length=100));"
   ]
  },
  {
   "cell_type": "markdown",
   "id": "fcd441a9",
   "metadata": {},
   "source": [
    "A convenient way to create ranges is using the colon `:` operator. The syntax is `start:step:end`. For example, to create a range of integers from `1` to `10` with a step size of `2`, we can do the following,\n"
   ]
  },
  {
   "cell_type": "code",
   "execution_count": 19,
   "id": "c1949ff5",
   "metadata": {},
   "outputs": [
    {
     "name": "stdout",
     "output_type": "stream",
     "text": [
      "colon_range = [1, 3, 5, 7, 9]\n"
     ]
    }
   ],
   "source": [
    "colon_range = collect(1:2:10);\n",
    "\n",
    "@show colon_range;"
   ]
  },
  {
   "cell_type": "markdown",
   "id": "69b73795",
   "metadata": {},
   "source": [
    "## Dictionary\n"
   ]
  },
  {
   "cell_type": "markdown",
   "id": "b67df8b7",
   "metadata": {},
   "source": [
    "Dictionaries are a collection of key-value pairs. The keys are unique and are used to access the values.\n"
   ]
  },
  {
   "cell_type": "markdown",
   "id": "9a504643-527a-45ed-a886-b031f492b63b",
   "metadata": {},
   "source": [
    "Syntax for defining a dictionary:\n",
    "\n",
    "```julia\n",
    "Dict(key1 => value1, key2 => value2, ...)\n",
    "```\n"
   ]
  },
  {
   "cell_type": "code",
   "execution_count": 14,
   "id": "71ee1b4c",
   "metadata": {
    "editable": true,
    "slideshow": {
     "slide_type": ""
    },
    "tags": []
   },
   "outputs": [
    {
     "data": {
      "text/plain": [
       "Dict{String, String} with 4 entries:\n",
       "  \"y'\"  => \"y\"\n",
       "  \"z'\"  => \"z\"\n",
       "  \"x'\"  => \"γ(x - βct)\"\n",
       "  \"ct'\" => \"γ(ct - βx)\""
      ]
     },
     "execution_count": 14,
     "metadata": {},
     "output_type": "execute_result"
    }
   ],
   "source": [
    "lorentz_transformation = Dict(\"ct'\" => \"γ(ct - βx)\", \"x'\" => \"γ(x - βct)\", \"y'\" => \"y\", \"z'\" => \"z\")"
   ]
  },
  {
   "cell_type": "code",
   "execution_count": 15,
   "id": "df702056-ce64-46d4-bdcb-852fca99aff1",
   "metadata": {},
   "outputs": [
    {
     "data": {
      "text/plain": [
       "Dict{String, Int64} with 2 entries:\n",
       "  \"Sagnik\" => 69422496\n",
       "  \"Ronit\"  => 42699624"
      ]
     },
     "execution_count": 15,
     "metadata": {},
     "output_type": "execute_result"
    }
   ],
   "source": [
    "contacts = Dict(\"Sagnik\" => 69422496, \"Ronit\" => 42699624)"
   ]
  },
  {
   "cell_type": "markdown",
   "id": "63710d74",
   "metadata": {},
   "source": [
    "Accessing values in a dictionary is done using the keys.\n"
   ]
  },
  {
   "cell_type": "code",
   "execution_count": 16,
   "id": "77979d1d",
   "metadata": {},
   "outputs": [
    {
     "data": {
      "text/plain": [
       "69422496"
      ]
     },
     "execution_count": 16,
     "metadata": {},
     "output_type": "execute_result"
    }
   ],
   "source": [
    "contacts[\"Sagnik\"]"
   ]
  },
  {
   "cell_type": "markdown",
   "id": "aff683ae-f810-44bc-be75-6474012fbdc2",
   "metadata": {},
   "source": [
    "Say we want to add another contact, we can do that as follows:\n"
   ]
  },
  {
   "cell_type": "code",
   "execution_count": 17,
   "id": "17078b13-333c-4bed-91bd-e9672611c518",
   "metadata": {},
   "outputs": [
    {
     "name": "stdout",
     "output_type": "stream",
     "text": [
      "contacts = Dict(\"Sagnik\" => 69422496, \"Ronit\" => 42699624, \"Vikash\" => 66666666)\n"
     ]
    }
   ],
   "source": [
    "contacts[\"Vikash\"] = 66666666;\n",
    "\n",
    "@show contacts;"
   ]
  },
  {
   "cell_type": "markdown",
   "id": "9da997d7-1fcb-4e22-a20b-14d9b408a50e",
   "metadata": {},
   "source": [
    "We can use `pop!` function to remove a key-value pair from the dictionary, if a key is not specified, it will remove the last key-value pair from the dictionary.\n"
   ]
  },
  {
   "cell_type": "code",
   "execution_count": 18,
   "id": "7868cf0a-906d-48fa-9918-b0f271b3a455",
   "metadata": {},
   "outputs": [
    {
     "data": {
      "text/plain": [
       "\"Sagnik\" => 69422496"
      ]
     },
     "execution_count": 18,
     "metadata": {},
     "output_type": "execute_result"
    }
   ],
   "source": [
    "pop!(contacts)"
   ]
  },
  {
   "cell_type": "code",
   "execution_count": 19,
   "id": "c7740a16-e069-4c7b-af4f-3b412d781b4c",
   "metadata": {},
   "outputs": [
    {
     "name": "stdout",
     "output_type": "stream",
     "text": [
      "contacts = Dict(\"Ronit\" => 42699624, \"Vikash\" => 66666666)\n"
     ]
    }
   ],
   "source": [
    "@show contacts;"
   ]
  },
  {
   "cell_type": "markdown",
   "id": "6d9fd47a-c710-400a-9d13-6708d345281c",
   "metadata": {},
   "source": [
    "To remove a specific entery from the dictionary, we can specify corresponding key in the `pop!` function.\n"
   ]
  },
  {
   "cell_type": "code",
   "execution_count": 20,
   "id": "c95123e6-c21a-40ea-960e-36a68bc1b981",
   "metadata": {},
   "outputs": [
    {
     "data": {
      "text/plain": [
       "\"z\""
      ]
     },
     "execution_count": 20,
     "metadata": {},
     "output_type": "execute_result"
    }
   ],
   "source": [
    "pop!(lorentz_transformation, \"z'\")"
   ]
  },
  {
   "cell_type": "code",
   "execution_count": 21,
   "id": "1fac9b08-03b4-475e-bbcd-89979bf88732",
   "metadata": {},
   "outputs": [
    {
     "name": "stdout",
     "output_type": "stream",
     "text": [
      "lorentz_transformation = Dict(\"y'\" => \"y\", \"x'\" => \"γ(x - βct)\", \"ct'\" => \"γ(ct - βx)\")\n"
     ]
    }
   ],
   "source": [
    "@show lorentz_transformation;"
   ]
  },
  {
   "cell_type": "markdown",
   "id": "353e5b56",
   "metadata": {},
   "source": [
    "## Tuples\n"
   ]
  },
  {
   "cell_type": "markdown",
   "id": "a49dd578",
   "metadata": {},
   "source": [
    "Similar to arrays, tuples are also a collection of elements in an ordered manner. The main difference is that tuples are immutable.\n"
   ]
  },
  {
   "cell_type": "markdown",
   "id": "ddac119b",
   "metadata": {},
   "source": [
    "To create a tuple, enclose the elements in parentheses `()` and separate them with commas.\n"
   ]
  },
  {
   "cell_type": "code",
   "execution_count": 22,
   "id": "301d75e8",
   "metadata": {},
   "outputs": [
    {
     "data": {
      "text/plain": [
       "(\"😄\", \"😢\")"
      ]
     },
     "execution_count": 22,
     "metadata": {},
     "output_type": "execute_result"
    }
   ],
   "source": [
    "emojis = (\"😄\", \"😢\")"
   ]
  },
  {
   "cell_type": "markdown",
   "id": "96523447",
   "metadata": {},
   "source": [
    "I think there is not much use case for tuples in scientific computing, but they are useful in some cases. For example, we can use tuples to return multiple values from a function.\n"
   ]
  },
  {
   "cell_type": "markdown",
   "id": "ca508902",
   "metadata": {},
   "source": [
    "### Named Tuples\n"
   ]
  },
  {
   "cell_type": "markdown",
   "id": "ec5c47db",
   "metadata": {},
   "source": [
    "Extending tuples, Julia provides a new data structure called `NamedTuple`. It is similar to a tuple, but now each element have a name associated with it.\n"
   ]
  },
  {
   "cell_type": "code",
   "execution_count": 23,
   "id": "b8c6846a",
   "metadata": {},
   "outputs": [
    {
     "data": {
      "text/plain": [
       "(happy = \"😄\", sad = \"😢\")"
      ]
     },
     "execution_count": 23,
     "metadata": {},
     "output_type": "execute_result"
    }
   ],
   "source": [
    "moods_emojis = (\n",
    "    happy=\"😄\",\n",
    "    sad=\"😢\",\n",
    ")"
   ]
  },
  {
   "cell_type": "code",
   "execution_count": 24,
   "id": "eeed12c5",
   "metadata": {},
   "outputs": [
    {
     "data": {
      "text/plain": [
       "@NamedTuple{happy::String, sad::String}"
      ]
     },
     "execution_count": 24,
     "metadata": {},
     "output_type": "execute_result"
    }
   ],
   "source": [
    "typeof(moods_emojis)"
   ]
  },
  {
   "cell_type": "markdown",
   "id": "45a4ffa3",
   "metadata": {},
   "source": [
    "We can access the elements of a named tuple using the name as follows:\n"
   ]
  },
  {
   "cell_type": "code",
   "execution_count": 25,
   "id": "1b725c32",
   "metadata": {},
   "outputs": [
    {
     "data": {
      "text/plain": [
       "\"😄\""
      ]
     },
     "execution_count": 25,
     "metadata": {},
     "output_type": "execute_result"
    }
   ],
   "source": [
    "moods_emojis.happy"
   ]
  },
  {
   "cell_type": "code",
   "execution_count": 26,
   "id": "58201957",
   "metadata": {},
   "outputs": [
    {
     "data": {
      "text/plain": [
       "\"😄\""
      ]
     },
     "execution_count": 26,
     "metadata": {},
     "output_type": "execute_result"
    }
   ],
   "source": [
    "moods_emojis[:happy]"
   ]
  },
  {
   "cell_type": "markdown",
   "id": "99e44097",
   "metadata": {},
   "source": [
    "## Exercises\n"
   ]
  },
  {
   "cell_type": "markdown",
   "id": "2fb6457f",
   "metadata": {},
   "source": [
    "### 3.1: Arrays\n",
    "\n",
    "Create an array of first 10 even numbers (without using a loop) with name `even_numbers`.\n"
   ]
  },
  {
   "cell_type": "code",
   "execution_count": null,
   "id": "3bf44e36",
   "metadata": {},
   "outputs": [],
   "source": [
    "even_numbers = "
   ]
  },
  {
   "cell_type": "markdown",
   "id": "9bfacc6a",
   "metadata": {},
   "source": [
    "Add 11th even number to the array `even_numbers` using appropriate array function.\n"
   ]
  },
  {
   "cell_type": "code",
   "execution_count": null,
   "id": "77a45b36",
   "metadata": {},
   "outputs": [],
   "source": []
  },
  {
   "cell_type": "markdown",
   "id": "3a99eb53",
   "metadata": {},
   "source": [
    "Now remove the 5th element from the array `even_numbers`.\n"
   ]
  },
  {
   "cell_type": "code",
   "execution_count": null,
   "id": "83ffb549",
   "metadata": {},
   "outputs": [],
   "source": []
  },
  {
   "cell_type": "markdown",
   "id": "5b3def1e",
   "metadata": {},
   "source": [
    "Check your answers\n"
   ]
  },
  {
   "cell_type": "code",
   "execution_count": null,
   "id": "13e09654",
   "metadata": {},
   "outputs": [],
   "source": [
    "@assert even_numbers == [2, 4, 6, 8, 12, 14, 16, 18, 20, 22]"
   ]
  },
  {
   "cell_type": "markdown",
   "id": "dd10d49b",
   "metadata": {},
   "source": [
    "### 3.2: Dictionary Type\n",
    "\n",
    "Try adding a new contact to the `contacts` dictionary with name \"Sabarno\" and phone number \"00000000\", using following code:\n",
    "\n",
    "```julia\n",
    "contacts[\"Sabarno\"] = \"00000000\"\n",
    "```\n"
   ]
  },
  {
   "cell_type": "code",
   "execution_count": null,
   "id": "4d49dfe7",
   "metadata": {},
   "outputs": [],
   "source": []
  },
  {
   "cell_type": "markdown",
   "id": "9678ec31",
   "metadata": {},
   "source": [
    "Why didn't it work?\n",
    "\n",
    "Read the error message carefully and fix the issue. For more information, refer to [docs](https://docs.julialang.org/en/v1/base/collections/#Dictionaries).\n"
   ]
  },
  {
   "cell_type": "code",
   "execution_count": null,
   "id": "4a8e8061",
   "metadata": {},
   "outputs": [],
   "source": []
  },
  {
   "cell_type": "markdown",
   "id": "bea7c66b",
   "metadata": {},
   "source": [
    "Now, try the following code to do the same task\n",
    "\n",
    "```julia\n",
    "contacts[\"Sabarno\"] = 0000000\n",
    "```\n"
   ]
  },
  {
   "cell_type": "code",
   "execution_count": null,
   "id": "6e07e037",
   "metadata": {},
   "outputs": [],
   "source": []
  },
  {
   "cell_type": "code",
   "execution_count": null,
   "id": "c7ff5467",
   "metadata": {},
   "outputs": [],
   "source": [
    "@show contacts;"
   ]
  },
  {
   "cell_type": "markdown",
   "id": "e3edb81c",
   "metadata": {},
   "source": [
    "Figure out why it worked this time.\n"
   ]
  }
 ],
 "metadata": {
  "kernelspec": {
   "display_name": "Julia 1.11.6",
   "language": "julia",
   "name": "julia-1.11"
  },
  "language_info": {
   "file_extension": ".jl",
   "mimetype": "application/julia",
   "name": "julia",
   "version": "1.11.6"
  }
 },
 "nbformat": 4,
 "nbformat_minor": 5
}
