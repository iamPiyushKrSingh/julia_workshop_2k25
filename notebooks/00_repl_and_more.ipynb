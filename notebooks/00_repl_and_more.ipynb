{
 "cells": [
  {
   "cell_type": "markdown",
   "id": "df41207c",
   "metadata": {},
   "source": [
    "# Welcome to NEW WORLD of \"usable\" REPL\n"
   ]
  },
  {
   "cell_type": "markdown",
   "id": "c0c6dcda",
   "metadata": {
    "vscode": {
     "languageId": "plaintext"
    }
   },
   "source": [
    "This notebook is the first in a series of workshops designed to introduce you to the Julia programming language. In this notebook, we will cover some features of Julia REPL (Read-Eval-Print Loop) and how it is different (imo better) than other REPLs you might have used before.\n"
   ]
  },
  {
   "cell_type": "markdown",
   "id": "4fea3213",
   "metadata": {},
   "source": [
    "## What is REPL?\n"
   ]
  },
  {
   "cell_type": "markdown",
   "id": "7fb11478",
   "metadata": {},
   "source": [
    "The REPL (Read-Eval-Print Loop) is an interactive programming environment that reads user input, evaluates it, prints the result, and then loops back to await more input.\n"
   ]
  },
  {
   "cell_type": "markdown",
   "id": "8a166644",
   "metadata": {},
   "source": [
    "To start a Julia REPL, you can simply type `julia` in your terminal or command prompt. Once you are in the REPL, you can start typing Julia commands and see the results immediately.\n",
    "\n",
    "<img src=\"./assets/REPL.png\" alt=\"REPL\" width=\"750\">\n",
    "\n",
    "Once you are in the REPL, first and foremost, you need to ask: \"How do I exit this thing?\" The answer is simple: just type `exit()` or press `Ctrl + D` (`^D`).\n"
   ]
  },
  {
   "cell_type": "markdown",
   "id": "d71caaa7",
   "metadata": {},
   "source": [
    "The Biggest difference between Julia REPL and other REPLs is that it has different prompt modes. Following are the modes you can use in Julia REPL:\n",
    "\n",
    "1. **Julian Mode**: This is the default mode of the REPL. In this mode, you can type Julia commands and see the results immediately. The prompt looks like this (in green color)\n",
    "\n",
    "   ```code\n",
    "   julia>\n",
    "   ```\n",
    "\n",
    "   You can type any valid Julia expression here, and it will be evaluated immediately. For example:\n",
    "\n",
    "   ```code\n",
    "   julia> 2 + 2\n",
    "   4\n",
    "   ```\n",
    "\n",
    "   This is the most common mode you will use in the REPL.\n",
    "\n",
    "2. **Shell Mode**: In this mode, you can run shell commands directly from the REPL. You can enter this mode by typing `;` at the prompt. The prompt will change to (in red color):\n",
    "\n",
    "   ```code\n",
    "   shell>\n",
    "   ```\n",
    "\n",
    "   In this mode, you can run any shell command, and the output will be displayed in the REPL. For example:\n",
    "\n",
    "   ```code\n",
    "   shell> cd /path/to/directory\n",
    "   ```\n",
    "\n",
    "   This will change the current working directory to `/path/to/directory`.\n",
    "\n",
    "3. **Package Mode**: In this mode, you can manage Julia packages directly from the REPL. You can enter this mode by typing `]` at the prompt. The prompt will change to (in blue color):\n",
    "\n",
    "   ```code\n",
    "   (@v1.11) pkg>\n",
    "   ```\n",
    "\n",
    "   In this mode, you can install, update, and remove Julia packages. For example:\n",
    "\n",
    "   ```code\n",
    "   (@v1.11) pkg> add Plots\n",
    "   ```\n",
    "\n",
    "   This will install the `Plots` package.\n",
    "\n",
    "4. **Help Mode**: In this mode, you can get help on Julia functions and packages. You can enter this mode by typing `?` at the prompt. The prompt will change to (in yellow color):\n",
    "\n",
    "   ```code\n",
    "   help?>\n",
    "   ```\n",
    "\n",
    "   In this mode, you can type the name of a function or package, and it will display the documentation for that function or package. For example:\n",
    "\n",
    "   ```code\n",
    "   help?> println\n",
    "   ```\n",
    "\n",
    "   This will display the documentation for the `println` function.\n",
    "\n",
    "5. **Search Mode**: In this mode, you can search through REPL logs saved in `~/.julia/logs/repl_history.jl`. You can enter this mode by typing `Ctrl + R` at the prompt. The prompt will change to:\n",
    "   ```code\n",
    "   (reverse-i-search) `':\n",
    "   ```\n"
   ]
  },
  {
   "cell_type": "markdown",
   "id": "afd68dec",
   "metadata": {},
   "source": [
    "## Useful Commands in Jupyter Notebook\n"
   ]
  },
  {
   "cell_type": "markdown",
   "id": "e16d8472",
   "metadata": {},
   "source": [
    "### Documentation\n",
    "\n",
    "Similar to the REPL, you can use `?` to get help on a function or package. For example, if you want to know more about the `exp` function, you can type:\n"
   ]
  },
  {
   "cell_type": "code",
   "execution_count": 1,
   "id": "bd7ed107",
   "metadata": {},
   "outputs": [
    {
     "name": "stdout",
     "output_type": "stream",
     "text": [
      "search: \u001b[0m\u001b[1me\u001b[22m\u001b[0m\u001b[1mx\u001b[22m\u001b[0m\u001b[1mp\u001b[22m \u001b[0m\u001b[1me\u001b[22m\u001b[0m\u001b[1mx\u001b[22m\u001b[0m\u001b[1mp\u001b[22m2 \u001b[0m\u001b[1me\u001b[22m\u001b[0m\u001b[1mx\u001b[22m\u001b[0m\u001b[1mp\u001b[22mm1 ld\u001b[0m\u001b[1me\u001b[22m\u001b[0m\u001b[1mx\u001b[22m\u001b[0m\u001b[1mp\u001b[22m fr\u001b[0m\u001b[1me\u001b[22m\u001b[0m\u001b[1mx\u001b[22m\u001b[0m\u001b[1mp\u001b[22m \u001b[0m\u001b[1me\u001b[22m\u001b[0m\u001b[1mx\u001b[22m\u001b[0m\u001b[1mp\u001b[22m10 \u001b[0m\u001b[1me\u001b[22m\u001b[0m\u001b[1mx\u001b[22mit \u001b[0m\u001b[1mE\u001b[22m\u001b[0m\u001b[1mx\u001b[22m\u001b[0m\u001b[1mp\u001b[22mr h\u001b[0m\u001b[1me\u001b[22mlp T\u001b[0m\u001b[1me\u001b[22m\u001b[0m\u001b[1mx\u001b[22mt \u001b[0m\u001b[1me\u001b[22m\u001b[0m\u001b[1mx\u001b[22m\u001b[0m\u001b[1mp\u001b[22mort\n",
      "\n"
     ]
    },
    {
     "data": {
      "text/latex": [
       "\\begin{verbatim}\n",
       "exp(x)\n",
       "\\end{verbatim}\n",
       "Compute the natural base exponential of \\texttt{x}, in other words $ℯ^x$.\n",
       "\n",
       "See also \\href{@ref}{\\texttt{exp2}}, \\href{@ref}{\\texttt{exp10}} and \\href{@ref}{\\texttt{cis}}.\n",
       "\n",
       "\\section{Examples}\n",
       "\\begin{verbatim}\n",
       "julia> exp(1.0)\n",
       "2.718281828459045\n",
       "\n",
       "julia> exp(im * pi) ≈ cis(pi)\n",
       "true\n",
       "\\end{verbatim}\n",
       "\\rule{\\textwidth}{1pt}\n",
       "\\begin{verbatim}\n",
       "exp(A::AbstractMatrix)\n",
       "\\end{verbatim}\n",
       "Compute the matrix exponential of \\texttt{A}, defined by\n",
       "\n",
       "$$e^A = \\sum_{n=0}^{\\infty} \\frac{A^n}{n!}.$$\n",
       "For symmetric or Hermitian \\texttt{A}, an eigendecomposition (\\href{@ref}{\\texttt{eigen}}) is used, otherwise the scaling and squaring algorithm (see \\footnotemark[H05]) is chosen.\n",
       "\n",
       "\\footnotetext[H05]{Nicholas J. Higham, \"The squaring and scaling method for the matrix exponential revisited\", SIAM Journal on Matrix Analysis and Applications, 26(4), 2005, 1179-1193. \\href{https://doi.org/10.1137/090768539}{doi:10.1137/090768539}\n",
       "\n",
       "}\n",
       "\\section{Examples}\n",
       "\\begin{verbatim}\n",
       "julia> A = Matrix(1.0I, 2, 2)\n",
       "2×2 Matrix{Float64}:\n",
       " 1.0  0.0\n",
       " 0.0  1.0\n",
       "\n",
       "julia> exp(A)\n",
       "2×2 Matrix{Float64}:\n",
       " 2.71828  0.0\n",
       " 0.0      2.71828\n",
       "\\end{verbatim}\n"
      ],
      "text/markdown": [
       "```\n",
       "exp(x)\n",
       "```\n",
       "\n",
       "Compute the natural base exponential of `x`, in other words $ℯ^x$.\n",
       "\n",
       "See also [`exp2`](@ref), [`exp10`](@ref) and [`cis`](@ref).\n",
       "\n",
       "# Examples\n",
       "\n",
       "```jldoctest\n",
       "julia> exp(1.0)\n",
       "2.718281828459045\n",
       "\n",
       "julia> exp(im * pi) ≈ cis(pi)\n",
       "true\n",
       "```\n",
       "\n",
       "---\n",
       "\n",
       "```\n",
       "exp(A::AbstractMatrix)\n",
       "```\n",
       "\n",
       "Compute the matrix exponential of `A`, defined by\n",
       "\n",
       "$$\n",
       "e^A = \\sum_{n=0}^{\\infty} \\frac{A^n}{n!}.\n",
       "$$\n",
       "\n",
       "For symmetric or Hermitian `A`, an eigendecomposition ([`eigen`](@ref)) is used, otherwise the scaling and squaring algorithm (see [^H05]) is chosen.\n",
       "\n",
       "[^H05]: Nicholas J. Higham, \"The squaring and scaling method for the matrix exponential revisited\", SIAM Journal on Matrix Analysis and Applications, 26(4), 2005, 1179-1193. [doi:10.1137/090768539](https://doi.org/10.1137/090768539)\n",
       "\n",
       "# Examples\n",
       "\n",
       "```jldoctest\n",
       "julia> A = Matrix(1.0I, 2, 2)\n",
       "2×2 Matrix{Float64}:\n",
       " 1.0  0.0\n",
       " 0.0  1.0\n",
       "\n",
       "julia> exp(A)\n",
       "2×2 Matrix{Float64}:\n",
       " 2.71828  0.0\n",
       " 0.0      2.71828\n",
       "```\n"
      ],
      "text/plain": [
       "\u001b[36m  exp(x)\u001b[39m\n",
       "\n",
       "  Compute the natural base exponential of \u001b[36mx\u001b[39m, in other words \u001b[35mℯ^x\u001b[39m.\n",
       "\n",
       "  See also \u001b[36mexp2\u001b[39m, \u001b[36mexp10\u001b[39m and \u001b[36mcis\u001b[39m.\n",
       "\n",
       "\u001b[1m  Examples\u001b[22m\n",
       "\u001b[1m  ≡≡≡≡≡≡≡≡\u001b[22m\n",
       "\n",
       "\u001b[36m  julia> exp(1.0)\u001b[39m\n",
       "\u001b[36m  2.718281828459045\u001b[39m\n",
       "\u001b[36m  \u001b[39m\n",
       "\u001b[36m  julia> exp(im * pi) ≈ cis(pi)\u001b[39m\n",
       "\u001b[36m  true\u001b[39m\n",
       "\n",
       "  ────────────────────────────────────────────────────────────────────────────\n",
       "\n",
       "\u001b[36m  exp(A::AbstractMatrix)\u001b[39m\n",
       "\n",
       "  Compute the matrix exponential of \u001b[36mA\u001b[39m, defined by\n",
       "\n",
       "\u001b[35m  e^A = \\sum_{n=0}^{\\infty} \\frac{A^n}{n!}.\u001b[39m\n",
       "\n",
       "  For symmetric or Hermitian \u001b[36mA\u001b[39m, an eigendecomposition (\u001b[36meigen\u001b[39m) is used,\n",
       "  otherwise the scaling and squaring algorithm (see \u001b[1m[^H05]\u001b[22m) is chosen.\n",
       "\n",
       "  │ \u001b[0m\u001b[1m[^H05]\u001b[22m\n",
       "  │\n",
       "  │  Nicholas J. Higham, \"The squaring and scaling method for the\n",
       "  │  matrix exponential revisited\", SIAM Journal on Matrix Analysis and\n",
       "  │  Applications, 26(4), 2005, 1179-1193. doi:10.1137/090768539\n",
       "  │  (https://doi.org/10.1137/090768539)\n",
       "\n",
       "\u001b[1m  Examples\u001b[22m\n",
       "\u001b[1m  ≡≡≡≡≡≡≡≡\u001b[22m\n",
       "\n",
       "\u001b[36m  julia> A = Matrix(1.0I, 2, 2)\u001b[39m\n",
       "\u001b[36m  2×2 Matrix{Float64}:\u001b[39m\n",
       "\u001b[36m   1.0  0.0\u001b[39m\n",
       "\u001b[36m   0.0  1.0\u001b[39m\n",
       "\u001b[36m  \u001b[39m\n",
       "\u001b[36m  julia> exp(A)\u001b[39m\n",
       "\u001b[36m  2×2 Matrix{Float64}:\u001b[39m\n",
       "\u001b[36m   2.71828  0.0\u001b[39m\n",
       "\u001b[36m   0.0      2.71828\u001b[39m"
      ]
     },
     "execution_count": 1,
     "metadata": {},
     "output_type": "execute_result"
    }
   ],
   "source": [
    "?exp"
   ]
  },
  {
   "cell_type": "code",
   "execution_count": 2,
   "id": "a5d7325a",
   "metadata": {},
   "outputs": [
    {
     "name": "stdout",
     "output_type": "stream",
     "text": [
      "search: \u001b[0m\u001b[1mm\u001b[22m\u001b[0m\u001b[1ma\u001b[22m\u001b[0m\u001b[1mc\u001b[22m\u001b[0m\u001b[1mr\u001b[22m\u001b[0m\u001b[1mo\u001b[22m \u001b[0m\u001b[1mm\u001b[22m\u001b[0m\u001b[1ma\u001b[22mrk eachrow\n",
      "\n"
     ]
    },
    {
     "data": {
      "text/latex": [
       "\\begin{verbatim}\n",
       "macro\n",
       "\\end{verbatim}\n",
       "\\texttt{macro} defines a method for inserting generated code into a program. A macro maps a sequence of argument expressions to a returned expression, and the resulting expression is substituted directly into the program at the point where the macro is invoked. Macros are a way to run generated code without calling \\href{@ref Main.eval}{\\texttt{eval}}, since the generated code instead simply becomes part of the surrounding program. Macro arguments may include expressions, literal values, and symbols. Macros can be defined for variable number of arguments (varargs), but do not accept keyword arguments. Every macro also implicitly gets passed the arguments \\texttt{\\_\\_source\\_\\_}, which contains the line number and file name the macro is called from, and \\texttt{\\_\\_module\\_\\_}, which is the module the macro is expanded in.\n",
       "\n",
       "See the manual section on \\href{@ref}{Metaprogramming} for more information about how to write a macro.\n",
       "\n",
       "\\section{Examples}\n",
       "\\begin{verbatim}\n",
       "julia> macro sayhello(name)\n",
       "           return :( println(\"Hello, \", $name, \"!\") )\n",
       "       end\n",
       "@sayhello (macro with 1 method)\n",
       "\n",
       "julia> @sayhello \"Charlie\"\n",
       "Hello, Charlie!\n",
       "\n",
       "julia> macro saylots(x...)\n",
       "           return :( println(\"Say: \", $(x...)) )\n",
       "       end\n",
       "@saylots (macro with 1 method)\n",
       "\n",
       "julia> @saylots \"hey \" \"there \" \"friend\"\n",
       "Say: hey there friend\n",
       "\\end{verbatim}\n"
      ],
      "text/markdown": [
       "```\n",
       "macro\n",
       "```\n",
       "\n",
       "`macro` defines a method for inserting generated code into a program. A macro maps a sequence of argument expressions to a returned expression, and the resulting expression is substituted directly into the program at the point where the macro is invoked. Macros are a way to run generated code without calling [`eval`](@ref Main.eval), since the generated code instead simply becomes part of the surrounding program. Macro arguments may include expressions, literal values, and symbols. Macros can be defined for variable number of arguments (varargs), but do not accept keyword arguments. Every macro also implicitly gets passed the arguments `__source__`, which contains the line number and file name the macro is called from, and `__module__`, which is the module the macro is expanded in.\n",
       "\n",
       "See the manual section on [Metaprogramming](@ref) for more information about how to write a macro.\n",
       "\n",
       "# Examples\n",
       "\n",
       "```jldoctest\n",
       "julia> macro sayhello(name)\n",
       "           return :( println(\"Hello, \", $name, \"!\") )\n",
       "       end\n",
       "@sayhello (macro with 1 method)\n",
       "\n",
       "julia> @sayhello \"Charlie\"\n",
       "Hello, Charlie!\n",
       "\n",
       "julia> macro saylots(x...)\n",
       "           return :( println(\"Say: \", $(x...)) )\n",
       "       end\n",
       "@saylots (macro with 1 method)\n",
       "\n",
       "julia> @saylots \"hey \" \"there \" \"friend\"\n",
       "Say: hey there friend\n",
       "```\n"
      ],
      "text/plain": [
       "\u001b[36m  macro\u001b[39m\n",
       "\n",
       "  \u001b[36mmacro\u001b[39m defines a method for inserting generated code into a program. A macro\n",
       "  maps a sequence of argument expressions to a returned expression, and the\n",
       "  resulting expression is substituted directly into the program at the point\n",
       "  where the macro is invoked. Macros are a way to run generated code without\n",
       "  calling \u001b[36meval\u001b[39m, since the generated code instead simply becomes part of the\n",
       "  surrounding program. Macro arguments may include expressions, literal\n",
       "  values, and symbols. Macros can be defined for variable number of arguments\n",
       "  (varargs), but do not accept keyword arguments. Every macro also implicitly\n",
       "  gets passed the arguments \u001b[36m__source__\u001b[39m, which contains the line number and\n",
       "  file name the macro is called from, and \u001b[36m__module__\u001b[39m, which is the module the\n",
       "  macro is expanded in.\n",
       "\n",
       "  See the manual section on Metaprogramming for more information about how to\n",
       "  write a macro.\n",
       "\n",
       "\u001b[1m  Examples\u001b[22m\n",
       "\u001b[1m  ≡≡≡≡≡≡≡≡\u001b[22m\n",
       "\n",
       "\u001b[36m  julia> macro sayhello(name)\u001b[39m\n",
       "\u001b[36m             return :( println(\"Hello, \", $name, \"!\") )\u001b[39m\n",
       "\u001b[36m         end\u001b[39m\n",
       "\u001b[36m  @sayhello (macro with 1 method)\u001b[39m\n",
       "\u001b[36m  \u001b[39m\n",
       "\u001b[36m  julia> @sayhello \"Charlie\"\u001b[39m\n",
       "\u001b[36m  Hello, Charlie!\u001b[39m\n",
       "\u001b[36m  \u001b[39m\n",
       "\u001b[36m  julia> macro saylots(x...)\u001b[39m\n",
       "\u001b[36m             return :( println(\"Say: \", $(x...)) )\u001b[39m\n",
       "\u001b[36m         end\u001b[39m\n",
       "\u001b[36m  @saylots (macro with 1 method)\u001b[39m\n",
       "\u001b[36m  \u001b[39m\n",
       "\u001b[36m  julia> @saylots \"hey \" \"there \" \"friend\"\u001b[39m\n",
       "\u001b[36m  Say: hey there friend\u001b[39m"
      ]
     },
     "execution_count": 2,
     "metadata": {},
     "output_type": "execute_result"
    }
   ],
   "source": [
    "?macro"
   ]
  },
  {
   "cell_type": "markdown",
   "id": "3fc68f8e",
   "metadata": {},
   "source": [
    "### Time\n"
   ]
  },
  {
   "cell_type": "markdown",
   "id": "f2c70d1c",
   "metadata": {},
   "source": [
    "First steps in optimizing your code is to understand how long it takes to run. You can use the `@time` macro to measure the time taken by a piece of code.\n"
   ]
  },
  {
   "cell_type": "markdown",
   "id": "6329f6db",
   "metadata": {},
   "source": [
    "We want to measure the time taken by the `fib` function to calculate 30th term in [Fibonacci Sequence](https://en.wikipedia.org/wiki/Fibonacci_sequence). For the time being, do not worry about \"how\" to write the `fib` function, we will cover that in upcoming notebooks.\n"
   ]
  },
  {
   "cell_type": "code",
   "execution_count": 3,
   "id": "dc6cc438",
   "metadata": {},
   "outputs": [
    {
     "data": {
      "text/plain": [
       "fib (generic function with 1 method)"
      ]
     },
     "execution_count": 3,
     "metadata": {},
     "output_type": "execute_result"
    }
   ],
   "source": [
    "function fib(n::Int)::Int\n",
    "    if n <= 0\n",
    "        throw(ArgumentError(\"n must be a positive integer\"))\n",
    "    elseif n == 1\n",
    "        return 1\n",
    "    elseif n == 2\n",
    "        return 1\n",
    "    else\n",
    "        return fib(n - 1) + fib(n - 2)\n",
    "    end\n",
    "end"
   ]
  },
  {
   "cell_type": "code",
   "execution_count": 4,
   "id": "ab501b35",
   "metadata": {},
   "outputs": [
    {
     "name": "stdout",
     "output_type": "stream",
     "text": [
      "  0.003560 seconds\n"
     ]
    },
    {
     "data": {
      "text/plain": [
       "832040"
      ]
     },
     "execution_count": 4,
     "metadata": {},
     "output_type": "execute_result"
    }
   ],
   "source": [
    "@time fib(30)"
   ]
  },
  {
   "cell_type": "markdown",
   "id": "f09a6568",
   "metadata": {},
   "source": [
    "### Output\n"
   ]
  },
  {
   "cell_type": "markdown",
   "id": "8bd4f26b",
   "metadata": {},
   "source": [
    "Consider the following code snippet:\n",
    "\n",
    "```julia\n",
    "x = 10\n",
    "y = 35\n",
    "\n",
    "z = x//y\n",
    "```\n"
   ]
  },
  {
   "cell_type": "code",
   "execution_count": 5,
   "id": "d5bf5f1e",
   "metadata": {},
   "outputs": [],
   "source": [
    "x = 10\n",
    "y = 35\n",
    "\n",
    "z = x // y;"
   ]
  },
  {
   "cell_type": "markdown",
   "id": "9acd6d55",
   "metadata": {},
   "source": [
    "To get a proper output, usually you would need to use `println` as\n"
   ]
  },
  {
   "cell_type": "code",
   "execution_count": 6,
   "id": "94985ab7",
   "metadata": {},
   "outputs": [
    {
     "name": "stdout",
     "output_type": "stream",
     "text": [
      "z = 2//7\n"
     ]
    }
   ],
   "source": [
    "println(\"z = $z\")"
   ]
  },
  {
   "cell_type": "markdown",
   "id": "9de1319c",
   "metadata": {},
   "source": [
    "But we can use a pre-defined macro `@show` to print the value of `z` without needing to use `println`. This is useful for debugging and quick checks.\n"
   ]
  },
  {
   "cell_type": "code",
   "execution_count": 7,
   "id": "575db8ae",
   "metadata": {},
   "outputs": [
    {
     "name": "stdout",
     "output_type": "stream",
     "text": [
      "z = 2//7\n"
     ]
    }
   ],
   "source": [
    "@show z; # notice the semicolon at the end, it suppresses the output of the last expression in the cell"
   ]
  },
  {
   "cell_type": "markdown",
   "id": "c0bcb13c",
   "metadata": {},
   "source": [
    "### Formatted Output\n"
   ]
  },
  {
   "cell_type": "markdown",
   "id": "dfb29e78",
   "metadata": {},
   "source": [
    "With `$` syntax, you can embed variables directly within strings for formatted output. However, the functionality is limited compared to languages like Python. For more advanced formatting, you might need to use additional packages like `Printf.jl`.\n"
   ]
  },
  {
   "cell_type": "markdown",
   "id": "b8687b14",
   "metadata": {},
   "source": [
    "We will come back to packages in upcoming notebooks, for now, just know that you can use `using` keyword to load a package.\n"
   ]
  },
  {
   "cell_type": "code",
   "execution_count": 8,
   "id": "02297820",
   "metadata": {},
   "outputs": [],
   "source": [
    "using Printf"
   ]
  },
  {
   "cell_type": "markdown",
   "id": "fbf85321",
   "metadata": {},
   "source": [
    "Printf is a standard library in Julia, so you don't need to install it separately. It provides C-style formatted output capabilities via the `@printf` macro.\n"
   ]
  },
  {
   "cell_type": "code",
   "execution_count": 9,
   "id": "23438771",
   "metadata": {},
   "outputs": [
    {
     "name": "stdout",
     "output_type": "stream",
     "text": [
      "z = 0.29\n"
     ]
    }
   ],
   "source": [
    "@printf(\"z = %.2f\\n\", z)"
   ]
  },
  {
   "cell_type": "markdown",
   "id": "a0986313",
   "metadata": {},
   "source": [
    "Similar to the C language, you can use format specifiers to control the output format. Following are some commonly used format specifiers:\n",
    "\n",
    "| Specifier | Description                    | Example                       | Output   |\n",
    "| --------- | ------------------------------ | ----------------------------- | -------- |\n",
    "| `%d`      | Integer                        | `@printf(\"%d\", 42)`           | 42       |\n",
    "| `%f`      | Floating-point number          | `@printf(\"%.2f\", 3.14159)`    | 3.14     |\n",
    "| `%s`      | String                         | `@printf(\"%s\", \"Hello\")`      | Hello    |\n",
    "| `%e`      | Scientific notation            | `@printf(\"%.2e\", 12345.6789)` | 1.23e+04 |\n",
    "| `%x`      | Hexadecimal representation     | `@printf(\"%x\", 255)`          | ff       |\n",
    "| `%o`      | Octal representation           | `@printf(\"%o\", 8)`            | 10       |\n",
    "| `%c`      | Character                      | `@printf(\"%c\", 65)`           | A        |\n",
    "| `%g`      | General format (uses %f or %e) | `@printf(\"%g\", 12345.6789)`   | 12345.7  |\n"
   ]
  },
  {
   "cell_type": "markdown",
   "id": "470b5af5",
   "metadata": {},
   "source": [
    "For more details, you can refer to the C documentation [here](https://en.cppreference.com/w/c/io/fprintf), and for Julia-specific details, you can check the [Printf.jl documentation](https://docs.julialang.org/en/v1/stdlib/Printf/).\n"
   ]
  }
 ],
 "metadata": {
  "kernelspec": {
   "display_name": "Julia 1.11.6",
   "language": "julia",
   "name": "julia-1.11"
  },
  "language_info": {
   "file_extension": ".jl",
   "mimetype": "application/julia",
   "name": "julia",
   "version": "1.11.6"
  }
 },
 "nbformat": 4,
 "nbformat_minor": 5
}
