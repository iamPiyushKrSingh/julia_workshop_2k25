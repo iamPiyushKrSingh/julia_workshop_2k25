{
 "cells": [
  {
   "cell_type": "markdown",
   "id": "df41207c",
   "metadata": {},
   "source": [
    "# Welcome to NEW WORLD of \"usable\" REPL\n"
   ]
  },
  {
   "cell_type": "markdown",
   "id": "c0c6dcda",
   "metadata": {
    "vscode": {
     "languageId": "plaintext"
    }
   },
   "source": [
    "This notebook is the first in a series of workshops designed to introduce you to the Julia programming language. In this notebook, we will cover some features of Julia REPL (Read-Eval-Print Loop) and how it is different (imo better) than other REPLs you might have used before.\n"
   ]
  }
 ],
 "metadata": {
  "kernelspec": {
   "display_name": "Julia 1.11.6",
   "language": "julia",
   "name": "julia-1.11"
  },
  "language_info": {
   "file_extension": ".jl",
   "mimetype": "application/julia",
   "name": "julia",
   "version": "1.11.6"
  }
 },
 "nbformat": 4,
 "nbformat_minor": 5
}
