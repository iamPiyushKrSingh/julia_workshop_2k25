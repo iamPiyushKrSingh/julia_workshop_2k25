{
 "cells": [
  {
   "cell_type": "markdown",
   "id": "a1bef626",
   "metadata": {},
   "source": [
    "# Conditionals\n"
   ]
  },
  {
   "cell_type": "markdown",
   "id": "6408988b",
   "metadata": {
    "vscode": {
     "languageId": "plaintext"
    }
   },
   "source": [
    "Let's explore conditional statements in Julia, which allow us to execute different blocks of code based on certain conditions. We'll cover `if`, `elseif`, and `else` statements, as well as the ternary operator for concise conditional expressions.\n"
   ]
  },
  {
   "cell_type": "code",
   "execution_count": 10,
   "id": "ede240d7",
   "metadata": {},
   "outputs": [],
   "source": [
    "using Printf"
   ]
  },
  {
   "cell_type": "markdown",
   "id": "0734de70",
   "metadata": {},
   "source": [
    "## `if`, `elseif`, and `else` Statements\n"
   ]
  },
  {
   "cell_type": "markdown",
   "id": "ff5b2760",
   "metadata": {},
   "source": [
    "Basic syntax for conditional statements is as follows\n",
    "\n",
    "```julia\n",
    "if _condition1_\n",
    "    # code to execute if condition1 is true\n",
    "elseif _condition2_\n",
    "    # code to execute if condition2 is true\n",
    "else\n",
    "    # code to execute if none of the above conditions are true\n",
    "end\n",
    "```\n",
    "\n",
    "We can have as many `elseif` branches as needed, and the `else` branch is optional.\n"
   ]
  },
  {
   "cell_type": "markdown",
   "id": "625bd548",
   "metadata": {},
   "source": [
    "Let's do a basic example of checking if a number is positive, negative, or zero.\n"
   ]
  },
  {
   "cell_type": "code",
   "execution_count": 2,
   "id": "11686b03",
   "metadata": {},
   "outputs": [],
   "source": [
    "n = 37;"
   ]
  },
  {
   "cell_type": "code",
   "execution_count": 4,
   "id": "3a6a087f",
   "metadata": {},
   "outputs": [
    {
     "name": "stdout",
     "output_type": "stream",
     "text": [
      "37 is positive\n"
     ]
    }
   ],
   "source": [
    "if n > 0\n",
    "    println(\"$n is positive\")\n",
    "elseif n < 0\n",
    "    println(\"$n is negative\")\n",
    "else\n",
    "    println(\"$n is zero\")\n",
    "end"
   ]
  },
  {
   "cell_type": "markdown",
   "id": "5a15142d",
   "metadata": {},
   "source": [
    "### Ternary Operator\n"
   ]
  },
  {
   "cell_type": "markdown",
   "id": "86d30a65",
   "metadata": {},
   "source": [
    "In the most cases, we use the following if-elseif-else structure:\n",
    "\n",
    "```julia\n",
    "if a\n",
    "    b\n",
    "else\n",
    "    c\n",
    "end\n",
    "```\n",
    "\n",
    "This can be shortened using the ternary operator:\n",
    "\n",
    "```julia\n",
    "a ? b : c\n",
    "```\n"
   ]
  },
  {
   "cell_type": "markdown",
   "id": "6d66717a",
   "metadata": {},
   "source": [
    "With the ternary operator, let's write a simple conditional statement to check if a number is even or odd.\n"
   ]
  },
  {
   "cell_type": "code",
   "execution_count": 6,
   "id": "5b518b3d",
   "metadata": {},
   "outputs": [],
   "source": [
    "x = 10;"
   ]
  },
  {
   "cell_type": "code",
   "execution_count": 7,
   "id": "e0ab0ade",
   "metadata": {},
   "outputs": [
    {
     "name": "stdout",
     "output_type": "stream",
     "text": [
      "10 is even\n"
     ]
    }
   ],
   "source": [
    "(x % 2 == 0) ? println(\"$x is even\") : println(\"$x is odd\")"
   ]
  },
  {
   "cell_type": "markdown",
   "id": "7aba683b",
   "metadata": {},
   "source": [
    "### Boolean Operators\n"
   ]
  },
  {
   "cell_type": "markdown",
   "id": "26aa601c",
   "metadata": {},
   "source": [
    "For more complex conditions, we need to combine multiple conditions. We can use all the standard boolean operators like `&&` (AND), `||` (OR), and `⊻` (XOR).\n"
   ]
  },
  {
   "cell_type": "code",
   "execution_count": 8,
   "id": "96f39a90",
   "metadata": {},
   "outputs": [],
   "source": [
    "X = [false, true]\n",
    "Y = [false, true];"
   ]
  },
  {
   "cell_type": "markdown",
   "id": "f6380a0a",
   "metadata": {},
   "source": [
    "#### AND Operator: `&&`\n"
   ]
  },
  {
   "cell_type": "markdown",
   "id": "a3dab5c6",
   "metadata": {},
   "source": [
    "To use the AND operator, we can use `&&` operator. The result is true if both operands are true.\n"
   ]
  },
  {
   "cell_type": "code",
   "execution_count": 31,
   "id": "87c50737",
   "metadata": {},
   "outputs": [
    {
     "name": "stdout",
     "output_type": "stream",
     "text": [
      "Truth Table for AND (&&) Operator\n",
      "=================================\n",
      "X     | Y     | X && Y\n",
      "------|-------|-------\n",
      "false | false | false\n",
      "false | true  | false\n",
      "true  | false | false\n",
      "true  | true  |  true\n"
     ]
    }
   ],
   "source": [
    "println(\"Truth Table for AND (&&) Operator\")\n",
    "println(\"=================================\")\n",
    "@printf(\"%-5s | %-5s | %5s\\n\", \"X\", \"Y\", \"X && Y\")\n",
    "println(\"------|-------|-------\")\n",
    "for i in X\n",
    "    for j in Y\n",
    "        @printf(\"%-5s | %-5s | %5s\\n\", i, j, i && j)\n",
    "    end\n",
    "end"
   ]
  },
  {
   "cell_type": "markdown",
   "id": "832eb14a",
   "metadata": {},
   "source": [
    "#### OR Operator: `||`\n"
   ]
  },
  {
   "cell_type": "markdown",
   "id": "847897ed",
   "metadata": {},
   "source": [
    "Similarly, the OR operator can be used with `||`. The result is true if at least one of the operands is true.\n"
   ]
  },
  {
   "cell_type": "code",
   "execution_count": 32,
   "id": "79634930",
   "metadata": {},
   "outputs": [
    {
     "name": "stdout",
     "output_type": "stream",
     "text": [
      "Truth Table for OR (||) Operator\n",
      "================================\n",
      "X     | Y     | X || Y\n",
      "------|-------|-------\n",
      "false | false | false\n",
      "false | true  |  true\n",
      "true  | false |  true\n",
      "true  | true  |  true\n"
     ]
    }
   ],
   "source": [
    "println(\"Truth Table for OR (||) Operator\")\n",
    "println(\"================================\")\n",
    "@printf(\"%-5s | %-5s | %5s\\n\", \"X\", \"Y\", \"X || Y\")\n",
    "println(\"------|-------|-------\")\n",
    "for i in X\n",
    "    for j in Y\n",
    "        @printf(\"%-5s | %-5s | %5s\\n\", i, j, i || j)\n",
    "    end\n",
    "end"
   ]
  },
  {
   "cell_type": "markdown",
   "id": "d86857e9",
   "metadata": {},
   "source": [
    "#### XOR Operator: `⊻`\n"
   ]
  },
  {
   "cell_type": "markdown",
   "id": "334d0088",
   "metadata": {},
   "source": [
    "For Exclusive OR (XOR), we can use the `⊻` operator, in order to write this symbol, you can use `\\xor<TAB>` in Julia REPL or Jupyter Notebook. The result is true if exactly one of the operands is true, but not both.\n"
   ]
  },
  {
   "cell_type": "code",
   "execution_count": 33,
   "id": "7beb3e37",
   "metadata": {},
   "outputs": [
    {
     "name": "stdout",
     "output_type": "stream",
     "text": [
      "Truth Table for XOR (⊻) Operator\n",
      "================================\n",
      "X     | Y     | X ⊻ Y\n",
      "------|-------|-------\n",
      "false | false | false\n",
      "false | true  |  true\n",
      "true  | false |  true\n",
      "true  | true  | false\n"
     ]
    }
   ],
   "source": [
    "println(\"Truth Table for XOR (⊻) Operator\")\n",
    "println(\"================================\")\n",
    "@printf(\"%-5s | %-5s | %5s\\n\", \"X\", \"Y\", \"X ⊻ Y\")\n",
    "println(\"------|-------|-------\")\n",
    "for i in X\n",
    "    for j in Y\n",
    "        @printf(\"%-5s | %-5s | %5s\\n\", i, j, i ⊻ j)\n",
    "    end\n",
    "end"
   ]
  },
  {
   "cell_type": "markdown",
   "id": "f4f51faa",
   "metadata": {},
   "source": [
    "## `break` and `continue` Statements\n"
   ]
  },
  {
   "cell_type": "markdown",
   "id": "564925a4",
   "metadata": {},
   "source": [
    "Since now, we know how to use loops and conditionals. We can combine them to control the flow of our loops using `break` and `continue` statements.\n",
    "\n",
    "- `break`: This statement immediately exits the loop, regardless of the loop's condition.\n",
    "- `continue`: This statement skips the current iteration of the loop and moves to the next iteration.\n"
   ]
  },
  {
   "cell_type": "code",
   "execution_count": 51,
   "id": "88da0c91",
   "metadata": {},
   "outputs": [
    {
     "name": "stdout",
     "output_type": "stream",
     "text": [
      "i: 1, j: 1\n",
      "i: 1, j: 2\n",
      "i: 2, j: 1\n",
      "i: 4, j: 1\n",
      "i: 4, j: 2\n",
      "i: 4, j: 3\n",
      "i: 4, j: 4\n",
      "i: 4, j: 5\n",
      "i: 4, j: 6\n",
      "i: 6, j: 1\n",
      "i: 6, j: 2\n",
      "i: 6, j: 3\n",
      "i: 6, j: 4\n",
      "i: 6, j: 5\n",
      "i: 6, j: 6\n"
     ]
    }
   ],
   "source": [
    "for i in 1:6\n",
    "    if i == 5\n",
    "        continue\n",
    "    end\n",
    "    for j in 1:6\n",
    "        if i + j == 4\n",
    "            break\n",
    "        end\n",
    "        println(\"i: $i, j: $j\")\n",
    "    end\n",
    "end"
   ]
  },
  {
   "cell_type": "markdown",
   "id": "f916549c",
   "metadata": {},
   "source": [
    "To understand what is happening, let's break down the code step by step. Let's first look at the `continue` statement, it says that if `i = 5`, skip the rest of the loop and move to the next iteration _i.e._, in this case `i = 6`. So look at the output, we can see that `i = 5` is missing.\n",
    "\n",
    "Now let's look at the `break` statement, it says that if `i + j == 5`, exit the loop immediately. So look at the case when `i = 4`, `j` starts from `1`, so `i + j = 5`, the inner loop exits immediately, and then the outer loop continues with `i = 5`, and again `j` starts from `1`, so `i + j = 6`, the inner loop continues until `j = 6`, and then the outer loop continues on.\n"
   ]
  },
  {
   "cell_type": "markdown",
   "id": "f264e32f",
   "metadata": {},
   "source": [
    "Play around with the code above, and see how `break` and `continue` statements work in different scenarios.\n"
   ]
  },
  {
   "cell_type": "markdown",
   "id": "6f56290f",
   "metadata": {},
   "source": [
    "## Exercises\n"
   ]
  },
  {
   "cell_type": "markdown",
   "id": "a92a572d",
   "metadata": {},
   "source": [
    "### 5.1: FizzBuzz\n",
    "\n",
    "This is a classic programming problem that tests your understanding of conditionals and loops.\n"
   ]
  },
  {
   "cell_type": "markdown",
   "id": "e2d4fe58",
   "metadata": {},
   "source": [
    "Write a program that prints the numbers from 1 to 20. If a number is a multiple of 3, print \"Fizz\" instead of the number. If a number is a multiple of 5, print \"Buzz\". If a number is a multiple of both 3 and 5, print \"FizzBuzz\".\n"
   ]
  },
  {
   "cell_type": "code",
   "execution_count": null,
   "id": "23e7f206",
   "metadata": {},
   "outputs": [],
   "source": []
  },
  {
   "cell_type": "markdown",
   "id": "d707d3bb",
   "metadata": {},
   "source": [
    "If your solution is correct, the output should look like this:\n",
    "\n",
    "```\n",
    "1\n",
    "2\n",
    "Fizz\n",
    "4\n",
    "Buzz\n",
    "Fizz\n",
    "7\n",
    "8\n",
    "Fizz\n",
    "Buzz\n",
    "11\n",
    "Fizz\n",
    "13\n",
    "14\n",
    "FizzBuzz\n",
    "16\n",
    "17\n",
    "Fizz\n",
    "19\n",
    "Buzz\n",
    "```\n"
   ]
  },
  {
   "cell_type": "markdown",
   "id": "8309b074",
   "metadata": {},
   "source": [
    "### 5.2: Ternary Operators\n"
   ]
  },
  {
   "cell_type": "markdown",
   "id": "2f6bfb54",
   "metadata": {},
   "source": [
    "Check if a number is divisible by 7 using ternary operators.\n"
   ]
  },
  {
   "cell_type": "code",
   "execution_count": null,
   "id": "962d2355",
   "metadata": {},
   "outputs": [],
   "source": [
    "x = 142857\n",
    "\n"
   ]
  },
  {
   "cell_type": "markdown",
   "id": "14f90e30",
   "metadata": {},
   "source": [
    "### Optional Challenge: Nested Ternary Operators\n"
   ]
  },
  {
   "cell_type": "markdown",
   "id": "c4c9f0f5",
   "metadata": {},
   "source": [
    "Rewrite the FizzBuzz solution using nested ternary operators instead of if-elseif-else statements.\n"
   ]
  },
  {
   "cell_type": "code",
   "execution_count": null,
   "id": "89184c5d",
   "metadata": {},
   "outputs": [],
   "source": []
  }
 ],
 "metadata": {
  "kernelspec": {
   "display_name": "Julia 1.11.6",
   "language": "julia",
   "name": "julia-1.11"
  },
  "language_info": {
   "file_extension": ".jl",
   "mimetype": "application/julia",
   "name": "julia",
   "version": "1.11.6"
  }
 },
 "nbformat": 4,
 "nbformat_minor": 5
}
