{
 "cells": [
  {
   "cell_type": "markdown",
   "id": "426c0c74",
   "metadata": {},
   "source": [
    "# CSV File Handling\n"
   ]
  },
  {
   "cell_type": "markdown",
   "id": "78f6fe09",
   "metadata": {},
   "source": [
    "For more practical use cases, we often need to import and export data, and one of the most common formats for data storage is CSV (Comma-Separated Values). In this notebook, we will learn how to read from and write to CSV files using the `CSV.jl` package in Julia.\n"
   ]
  },
  {
   "cell_type": "code",
   "execution_count": null,
   "id": "74c30393",
   "metadata": {},
   "outputs": [],
   "source": [
    "# Run this cell to install the CSV package\n",
    "using Pkg\n",
    "Pkg.add([\"CSV\", \"DataFrames\"])"
   ]
  },
  {
   "cell_type": "markdown",
   "id": "364de82d",
   "metadata": {},
   "source": [
    "Let's start by importing the necessary packages. We will use `CSV.jl` for handling CSV files and `DataFrames.jl` for working with tabular data.\n"
   ]
  },
  {
   "cell_type": "code",
   "execution_count": 2,
   "id": "040b7b01",
   "metadata": {},
   "outputs": [],
   "source": [
    "using CSV, DataFrames"
   ]
  },
  {
   "cell_type": "markdown",
   "id": "0bf26de0",
   "metadata": {},
   "source": [
    "For example, we have a sample CSV file named `customers.csv` in the `assets` directory.\n",
    "\n",
    "To read a CSV file into a DataFrame, we can use the `CSV.read` function.\n"
   ]
  },
  {
   "cell_type": "code",
   "execution_count": 3,
   "id": "b036b415",
   "metadata": {},
   "outputs": [
    {
     "data": {
      "text/html": [
       "<div><div style = \"float: left;\"><span>5×12 DataFrame</span></div><div style = \"clear: both;\"></div></div><div class = \"data-frame\" style = \"overflow-x: scroll;\"><table class = \"data-frame\" style = \"margin-bottom: 6px;\"><thead><tr class = \"header\"><th class = \"rowNumber\" style = \"font-weight: bold; text-align: right;\">Row</th><th style = \"text-align: left;\">Index</th><th style = \"text-align: left;\">Customer Id</th><th style = \"text-align: left;\">First Name</th><th style = \"text-align: left;\">Last Name</th><th style = \"text-align: left;\">Company</th><th style = \"text-align: left;\">City</th><th style = \"text-align: left;\">Country</th><th style = \"text-align: left;\">Phone 1</th><th style = \"text-align: left;\">Phone 2</th><th style = \"text-align: left;\">Email</th><th style = \"text-align: left;\">Subscription Date</th><th style = \"text-align: left;\">Website</th></tr><tr class = \"subheader headerLastRow\"><th class = \"rowNumber\" style = \"font-weight: bold; text-align: right;\"></th><th title = \"Int64\" style = \"text-align: left;\">Int64</th><th title = \"String15\" style = \"text-align: left;\">String15</th><th title = \"String15\" style = \"text-align: left;\">String15</th><th title = \"String15\" style = \"text-align: left;\">String15</th><th title = \"String31\" style = \"text-align: left;\">String31</th><th title = \"String31\" style = \"text-align: left;\">String31</th><th title = \"String\" style = \"text-align: left;\">String</th><th title = \"String31\" style = \"text-align: left;\">String31</th><th title = \"String31\" style = \"text-align: left;\">String31</th><th title = \"String\" style = \"text-align: left;\">String</th><th title = \"Dates.Date\" style = \"text-align: left;\">Date</th><th title = \"String\" style = \"text-align: left;\">String</th></tr></thead><tbody><tr><td class = \"rowNumber\" style = \"font-weight: bold; text-align: right;\">1</td><td style = \"text-align: right;\">1</td><td style = \"text-align: left;\">DD37Cf93aecA6Dc</td><td style = \"text-align: left;\">Sheryl</td><td style = \"text-align: left;\">Baxter</td><td style = \"text-align: left;\">Rasmussen Group</td><td style = \"text-align: left;\">East Leonard</td><td style = \"text-align: left;\">Chile</td><td style = \"text-align: left;\">229.077.5154</td><td style = \"text-align: left;\">397.884.0519x718</td><td style = \"text-align: left;\">zunigavanessa@smith.info</td><td style = \"text-align: left;\">2020-08-24</td><td style = \"text-align: left;\">http://www.stephenson.com/</td></tr><tr><td class = \"rowNumber\" style = \"font-weight: bold; text-align: right;\">2</td><td style = \"text-align: right;\">2</td><td style = \"text-align: left;\">1Ef7b82A4CAAD10</td><td style = \"text-align: left;\">Preston</td><td style = \"text-align: left;\">Lozano</td><td style = \"text-align: left;\">Vega-Gentry</td><td style = \"text-align: left;\">East Jimmychester</td><td style = \"text-align: left;\">Djibouti</td><td style = \"text-align: left;\">5153435776</td><td style = \"text-align: left;\">686-620-1820x944</td><td style = \"text-align: left;\">vmata@colon.com</td><td style = \"text-align: left;\">2021-04-23</td><td style = \"text-align: left;\">http://www.hobbs.com/</td></tr><tr><td class = \"rowNumber\" style = \"font-weight: bold; text-align: right;\">3</td><td style = \"text-align: right;\">3</td><td style = \"text-align: left;\">6F94879bDAfE5a6</td><td style = \"text-align: left;\">Roy</td><td style = \"text-align: left;\">Berry</td><td style = \"text-align: left;\">Murillo-Perry</td><td style = \"text-align: left;\">Isabelborough</td><td style = \"text-align: left;\">Antigua and Barbuda</td><td style = \"text-align: left;\">+1-539-402-0259</td><td style = \"text-align: left;\">(496)978-3969x58947</td><td style = \"text-align: left;\">beckycarr@hogan.com</td><td style = \"text-align: left;\">2020-03-25</td><td style = \"text-align: left;\">http://www.lawrence.com/</td></tr><tr><td class = \"rowNumber\" style = \"font-weight: bold; text-align: right;\">4</td><td style = \"text-align: right;\">4</td><td style = \"text-align: left;\">5Cef8BFA16c5e3c</td><td style = \"text-align: left;\">Linda</td><td style = \"text-align: left;\">Olsen</td><td style = \"text-align: left;\">Dominguez, Mcmillan and Donovan</td><td style = \"text-align: left;\">Bensonview</td><td style = \"text-align: left;\">Dominican Republic</td><td style = \"text-align: left;\">001-808-617-6467x12895</td><td style = \"text-align: left;\">+1-813-324-8756</td><td style = \"text-align: left;\">stanleyblackwell@benson.org</td><td style = \"text-align: left;\">2020-06-02</td><td style = \"text-align: left;\">http://www.good-lyons.com/</td></tr><tr><td class = \"rowNumber\" style = \"font-weight: bold; text-align: right;\">5</td><td style = \"text-align: right;\">5</td><td style = \"text-align: left;\">053d585Ab6b3159</td><td style = \"text-align: left;\">Joanna</td><td style = \"text-align: left;\">Bender</td><td style = \"text-align: left;\">Martin, Lang and Andrade</td><td style = \"text-align: left;\">West Priscilla</td><td style = \"text-align: left;\">Slovakia (Slovak Republic)</td><td style = \"text-align: left;\">001-234-203-0635x76146</td><td style = \"text-align: left;\">001-199-446-3860x3486</td><td style = \"text-align: left;\">colinalvarado@miles.net</td><td style = \"text-align: left;\">2021-04-17</td><td style = \"text-align: left;\">https://goodwin-ingram.com/</td></tr></tbody></table></div>"
      ],
      "text/latex": [
       "\\begin{tabular}{r|cccccc}\n",
       "\t& Index & Customer Id & First Name & Last Name & Company & \\\\\n",
       "\t\\hline\n",
       "\t& Int64 & String15 & String15 & String15 & String31 & \\\\\n",
       "\t\\hline\n",
       "\t1 & 1 & DD37Cf93aecA6Dc & Sheryl & Baxter & Rasmussen Group & $\\dots$ \\\\\n",
       "\t2 & 2 & 1Ef7b82A4CAAD10 & Preston & Lozano & Vega-Gentry & $\\dots$ \\\\\n",
       "\t3 & 3 & 6F94879bDAfE5a6 & Roy & Berry & Murillo-Perry & $\\dots$ \\\\\n",
       "\t4 & 4 & 5Cef8BFA16c5e3c & Linda & Olsen & Dominguez, Mcmillan and Donovan & $\\dots$ \\\\\n",
       "\t5 & 5 & 053d585Ab6b3159 & Joanna & Bender & Martin, Lang and Andrade & $\\dots$ \\\\\n",
       "\\end{tabular}\n"
      ],
      "text/plain": [
       "\u001b[1m5×12 DataFrame\u001b[0m\n",
       "\u001b[1m Row \u001b[0m│\u001b[1m Index \u001b[0m\u001b[1m Customer Id     \u001b[0m\u001b[1m First Name \u001b[0m\u001b[1m Last Name \u001b[0m\u001b[1m Company                 \u001b[0m ⋯\n",
       "     │\u001b[90m Int64 \u001b[0m\u001b[90m String15        \u001b[0m\u001b[90m String15   \u001b[0m\u001b[90m String15  \u001b[0m\u001b[90m String31                \u001b[0m ⋯\n",
       "─────┼──────────────────────────────────────────────────────────────────────────\n",
       "   1 │     1  DD37Cf93aecA6Dc  Sheryl      Baxter     Rasmussen Group          ⋯\n",
       "   2 │     2  1Ef7b82A4CAAD10  Preston     Lozano     Vega-Gentry\n",
       "   3 │     3  6F94879bDAfE5a6  Roy         Berry      Murillo-Perry\n",
       "   4 │     4  5Cef8BFA16c5e3c  Linda       Olsen      Dominguez, Mcmillan and\n",
       "   5 │     5  053d585Ab6b3159  Joanna      Bender     Martin, Lang and Andrade ⋯\n",
       "\u001b[36m                                                               8 columns omitted\u001b[0m"
      ]
     },
     "metadata": {},
     "output_type": "display_data"
    },
    {
     "data": {
      "text/plain": [
       "5-element Vector{String15}:\n",
       " \"Sheryl\"\n",
       " \"Preston\"\n",
       " \"Roy\"\n",
       " \"Linda\"\n",
       " \"Joanna\""
      ]
     },
     "metadata": {},
     "output_type": "display_data"
    }
   ],
   "source": [
    "customers_data = CSV.read(\"./assets/customers.csv\", DataFrame)\n",
    "\n",
    "display(customers_data[1:5, :])  # Display the first 5 rows\n",
    "# To access a specific column, you can use the column name\n",
    "display(customers_data[1:5, \"First Name\"]) # Display the first 5 entries of the \"First Name\" column"
   ]
  },
  {
   "cell_type": "markdown",
   "id": "4188149b",
   "metadata": {},
   "source": [
    "To access all rows we can use the `:` operator in the row position. And for all columns, we use `!` in the column position.\n"
   ]
  },
  {
   "cell_type": "code",
   "execution_count": 14,
   "id": "98f099d9",
   "metadata": {},
   "outputs": [
    {
     "data": {
      "text/plain": [
       "10-element Vector{String31}:\n",
       " \"Rasmussen Group\"\n",
       " \"Vega-Gentry\"\n",
       " \"Murillo-Perry\"\n",
       " \"Dominguez, Mcmillan and Donovan\"\n",
       " \"Martin, Lang and Andrade\"\n",
       " \"Steele Group\"\n",
       " \"Lester, Woodard and Mitchell\"\n",
       " \"Sanford, Davenport and Giles\"\n",
       " \"Browning-Simon\"\n",
       " \"Beck-Hendrix\""
      ]
     },
     "execution_count": 14,
     "metadata": {},
     "output_type": "execute_result"
    }
   ],
   "source": [
    "customers_data[!, :Company][1:10]  # Access the \"Company\" column using Symbol and display the first 10 entries"
   ]
  },
  {
   "cell_type": "markdown",
   "id": "489081c6",
   "metadata": {},
   "source": [
    "To get a quick info about the data in each column, we can use the `describe` function from the `DataFrames` package. We can use `describe` as follows:\n"
   ]
  },
  {
   "cell_type": "code",
   "execution_count": 4,
   "id": "1702f113",
   "metadata": {},
   "outputs": [
    {
     "data": {
      "text/html": [
       "<div><div style = \"float: left;\"><span>12×7 DataFrame</span></div><div style = \"clear: both;\"></div></div><div class = \"data-frame\" style = \"overflow-x: scroll;\"><table class = \"data-frame\" style = \"margin-bottom: 6px;\"><thead><tr class = \"header\"><th class = \"rowNumber\" style = \"font-weight: bold; text-align: right;\">Row</th><th style = \"text-align: left;\">variable</th><th style = \"text-align: left;\">mean</th><th style = \"text-align: left;\">min</th><th style = \"text-align: left;\">median</th><th style = \"text-align: left;\">max</th><th style = \"text-align: left;\">nmissing</th><th style = \"text-align: left;\">eltype</th></tr><tr class = \"subheader headerLastRow\"><th class = \"rowNumber\" style = \"font-weight: bold; text-align: right;\"></th><th title = \"Symbol\" style = \"text-align: left;\">Symbol</th><th title = \"Union{Nothing, Float64}\" style = \"text-align: left;\">Union…</th><th title = \"Any\" style = \"text-align: left;\">Any</th><th title = \"Any\" style = \"text-align: left;\">Any</th><th title = \"Any\" style = \"text-align: left;\">Any</th><th title = \"Int64\" style = \"text-align: left;\">Int64</th><th title = \"DataType\" style = \"text-align: left;\">DataType</th></tr></thead><tbody><tr><td class = \"rowNumber\" style = \"font-weight: bold; text-align: right;\">1</td><td style = \"text-align: left;\">Index</td><td style = \"text-align: left;\">50.5</td><td style = \"text-align: left;\">1</td><td style = \"text-align: left;\">50.5</td><td style = \"text-align: left;\">100</td><td style = \"text-align: right;\">0</td><td style = \"text-align: left;\">Int64</td></tr><tr><td class = \"rowNumber\" style = \"font-weight: bold; text-align: right;\">2</td><td style = \"text-align: left;\">Customer Id</td><td style = \"font-style: italic; text-align: left;\"></td><td style = \"text-align: left;\">010468dAA11382c</td><td style = \"font-style: italic; text-align: left;\"></td><td style = \"text-align: left;\">faCEF517ae7D8eB</td><td style = \"text-align: right;\">0</td><td style = \"text-align: left;\">String15</td></tr><tr><td class = \"rowNumber\" style = \"font-weight: bold; text-align: right;\">3</td><td style = \"text-align: left;\">First Name</td><td style = \"font-style: italic; text-align: left;\"></td><td style = \"text-align: left;\">Aimee</td><td style = \"font-style: italic; text-align: left;\"></td><td style = \"text-align: left;\">Yvonne</td><td style = \"text-align: right;\">0</td><td style = \"text-align: left;\">String15</td></tr><tr><td class = \"rowNumber\" style = \"font-weight: bold; text-align: right;\">4</td><td style = \"text-align: left;\">Last Name</td><td style = \"font-style: italic; text-align: left;\"></td><td style = \"text-align: left;\">Alvarado</td><td style = \"font-style: italic; text-align: left;\"></td><td style = \"text-align: left;\">Zuniga</td><td style = \"text-align: right;\">0</td><td style = \"text-align: left;\">String15</td></tr><tr><td class = \"rowNumber\" style = \"font-weight: bold; text-align: right;\">5</td><td style = \"text-align: left;\">Company</td><td style = \"font-style: italic; text-align: left;\"></td><td style = \"text-align: left;\">Acosta, Petersen and Morrow</td><td style = \"font-style: italic; text-align: left;\"></td><td style = \"text-align: left;\">Winters-Mendoza</td><td style = \"text-align: right;\">0</td><td style = \"text-align: left;\">String31</td></tr><tr><td class = \"rowNumber\" style = \"font-weight: bold; text-align: right;\">6</td><td style = \"text-align: left;\">City</td><td style = \"font-style: italic; text-align: left;\"></td><td style = \"text-align: left;\">Acevedoville</td><td style = \"font-style: italic; text-align: left;\"></td><td style = \"text-align: left;\">Zimmermanland</td><td style = \"text-align: right;\">0</td><td style = \"text-align: left;\">String31</td></tr><tr><td class = \"rowNumber\" style = \"font-weight: bold; text-align: right;\">7</td><td style = \"text-align: left;\">Country</td><td style = \"font-style: italic; text-align: left;\"></td><td style = \"text-align: left;\">Albania</td><td style = \"font-style: italic; text-align: left;\"></td><td style = \"text-align: left;\">Zimbabwe</td><td style = \"text-align: right;\">0</td><td style = \"text-align: left;\">String</td></tr><tr><td class = \"rowNumber\" style = \"font-weight: bold; text-align: right;\">8</td><td style = \"text-align: left;\">Phone 1</td><td style = \"font-style: italic; text-align: left;\"></td><td style = \"text-align: left;\">(041)737-3846</td><td style = \"font-style: italic; text-align: left;\"></td><td style = \"text-align: left;\">981-544-9452</td><td style = \"text-align: right;\">0</td><td style = \"text-align: left;\">String31</td></tr><tr><td class = \"rowNumber\" style = \"font-weight: bold; text-align: right;\">9</td><td style = \"text-align: left;\">Phone 2</td><td style = \"font-style: italic; text-align: left;\"></td><td style = \"text-align: left;\">(026)401-7353x2417</td><td style = \"font-style: italic; text-align: left;\"></td><td style = \"text-align: left;\">999-728-1637</td><td style = \"text-align: right;\">0</td><td style = \"text-align: left;\">String31</td></tr><tr><td class = \"rowNumber\" style = \"font-weight: bold; text-align: right;\">10</td><td style = \"text-align: left;\">Email</td><td style = \"font-style: italic; text-align: left;\"></td><td style = \"text-align: left;\">aharper@maddox-townsend.org</td><td style = \"font-style: italic; text-align: left;\"></td><td style = \"text-align: left;\">zvalencia@phelps.com</td><td style = \"text-align: right;\">0</td><td style = \"text-align: left;\">String</td></tr><tr><td class = \"rowNumber\" style = \"font-weight: bold; text-align: right;\">11</td><td style = \"text-align: left;\">Subscription Date</td><td style = \"font-style: italic; text-align: left;\"></td><td style = \"text-align: left;\">2020-01-13</td><td style = \"text-align: left;\">2021-03-31</td><td style = \"text-align: left;\">2022-05-26</td><td style = \"text-align: right;\">0</td><td style = \"text-align: left;\">Date</td></tr><tr><td class = \"rowNumber\" style = \"font-weight: bold; text-align: right;\">12</td><td style = \"text-align: left;\">Website</td><td style = \"font-style: italic; text-align: left;\"></td><td style = \"text-align: left;\">http://acosta.org/</td><td style = \"font-style: italic; text-align: left;\"></td><td style = \"text-align: left;\">https://www.vang.com/</td><td style = \"text-align: right;\">0</td><td style = \"text-align: left;\">String</td></tr></tbody></table></div>"
      ],
      "text/latex": [
       "\\begin{tabular}{r|cccccc}\n",
       "\t& variable & mean & min & median & max & \\\\\n",
       "\t\\hline\n",
       "\t& Symbol & Union… & Any & Any & Any & \\\\\n",
       "\t\\hline\n",
       "\t1 & Index & 50.5 & 1 & 50.5 & 100 & $\\dots$ \\\\\n",
       "\t2 & Customer Id &  & 010468dAA11382c &  & faCEF517ae7D8eB & $\\dots$ \\\\\n",
       "\t3 & First Name &  & Aimee &  & Yvonne & $\\dots$ \\\\\n",
       "\t4 & Last Name &  & Alvarado &  & Zuniga & $\\dots$ \\\\\n",
       "\t5 & Company &  & Acosta, Petersen and Morrow &  & Winters-Mendoza & $\\dots$ \\\\\n",
       "\t6 & City &  & Acevedoville &  & Zimmermanland & $\\dots$ \\\\\n",
       "\t7 & Country &  & Albania &  & Zimbabwe & $\\dots$ \\\\\n",
       "\t8 & Phone 1 &  & (041)737-3846 &  & 981-544-9452 & $\\dots$ \\\\\n",
       "\t9 & Phone 2 &  & (026)401-7353x2417 &  & 999-728-1637 & $\\dots$ \\\\\n",
       "\t10 & Email &  & aharper@maddox-townsend.org &  & zvalencia@phelps.com & $\\dots$ \\\\\n",
       "\t11 & Subscription Date &  & 2020-01-13 & 2021-03-31 & 2022-05-26 & $\\dots$ \\\\\n",
       "\t12 & Website &  & http://acosta.org/ &  & https://www.vang.com/ & $\\dots$ \\\\\n",
       "\\end{tabular}\n"
      ],
      "text/plain": [
       "\u001b[1m12×7 DataFrame\u001b[0m\n",
       "\u001b[1m Row \u001b[0m│\u001b[1m variable          \u001b[0m\u001b[1m mean   \u001b[0m\u001b[1m min                         \u001b[0m\u001b[1m median     \u001b[0m\u001b[1m max\u001b[0m ⋯\n",
       "     │\u001b[90m Symbol            \u001b[0m\u001b[90m Union… \u001b[0m\u001b[90m Any                         \u001b[0m\u001b[90m Any        \u001b[0m\u001b[90m Any\u001b[0m ⋯\n",
       "─────┼──────────────────────────────────────────────────────────────────────────\n",
       "   1 │ Index              50.5    1                            50.5        100 ⋯\n",
       "   2 │ Customer Id       \u001b[90m        \u001b[0m 010468dAA11382c             \u001b[90m            \u001b[0m faC\n",
       "   3 │ First Name        \u001b[90m        \u001b[0m Aimee                       \u001b[90m            \u001b[0m Yvo\n",
       "   4 │ Last Name         \u001b[90m        \u001b[0m Alvarado                    \u001b[90m            \u001b[0m Zun\n",
       "   5 │ Company           \u001b[90m        \u001b[0m Acosta, Petersen and Morrow \u001b[90m            \u001b[0m Win ⋯\n",
       "   6 │ City              \u001b[90m        \u001b[0m Acevedoville                \u001b[90m            \u001b[0m Zim\n",
       "   7 │ Country           \u001b[90m        \u001b[0m Albania                     \u001b[90m            \u001b[0m Zim\n",
       "   8 │ Phone 1           \u001b[90m        \u001b[0m (041)737-3846               \u001b[90m            \u001b[0m 981\n",
       "   9 │ Phone 2           \u001b[90m        \u001b[0m (026)401-7353x2417          \u001b[90m            \u001b[0m 999 ⋯\n",
       "  10 │ Email             \u001b[90m        \u001b[0m aharper@maddox-townsend.org \u001b[90m            \u001b[0m zva\n",
       "  11 │ Subscription Date \u001b[90m        \u001b[0m 2020-01-13                   2021-03-31  202\n",
       "  12 │ Website           \u001b[90m        \u001b[0m http://acosta.org/          \u001b[90m            \u001b[0m htt\n",
       "\u001b[36m                                                               3 columns omitted\u001b[0m"
      ]
     },
     "execution_count": 4,
     "metadata": {},
     "output_type": "execute_result"
    }
   ],
   "source": [
    "describe(customers_data)"
   ]
  },
  {
   "cell_type": "markdown",
   "id": "f96dece8",
   "metadata": {},
   "source": [
    "Say we want to write a DataFrame to a CSV file. We can use the `CSV.write` function for this purpose. Let's create a new DataFrame and write it to a CSV file named `new_customers.csv` in the `assets` directory.\n"
   ]
  },
  {
   "cell_type": "markdown",
   "id": "527dc43c",
   "metadata": {},
   "source": [
    "First let's create a new DataFrame with some sample data. Basic syntax for creating a DataFrame is as follows:\n",
    "\n",
    "```julia\n",
    "DataFrame(\n",
    "    \"Column1\" => [value1, value2, ...],\n",
    "    \"Column2\" => [value1, value2, ...],\n",
    "    ...\n",
    ")\n",
    "```\n"
   ]
  },
  {
   "cell_type": "code",
   "execution_count": 5,
   "id": "91424ca5",
   "metadata": {},
   "outputs": [
    {
     "data": {
      "text/html": [
       "<div><div style = \"float: left;\"><span>2×5 DataFrame</span></div><div style = \"clear: both;\"></div></div><div class = \"data-frame\" style = \"overflow-x: scroll;\"><table class = \"data-frame\" style = \"margin-bottom: 6px;\"><thead><tr class = \"header\"><th class = \"rowNumber\" style = \"font-weight: bold; text-align: right;\">Row</th><th style = \"text-align: left;\">First Name</th><th style = \"text-align: left;\">Last Name</th><th style = \"text-align: left;\">Email</th><th style = \"text-align: left;\">Age</th><th style = \"text-align: left;\">Country</th></tr><tr class = \"subheader headerLastRow\"><th class = \"rowNumber\" style = \"font-weight: bold; text-align: right;\"></th><th title = \"String\" style = \"text-align: left;\">String</th><th title = \"String\" style = \"text-align: left;\">String</th><th title = \"String\" style = \"text-align: left;\">String</th><th title = \"Int64\" style = \"text-align: left;\">Int64</th><th title = \"String\" style = \"text-align: left;\">String</th></tr></thead><tbody><tr><td class = \"rowNumber\" style = \"font-weight: bold; text-align: right;\">1</td><td style = \"text-align: left;\">Alice</td><td style = \"text-align: left;\">Smith</td><td style = \"text-align: left;\">alice_test@email.com</td><td style = \"text-align: right;\">28</td><td style = \"text-align: left;\">USA</td></tr><tr><td class = \"rowNumber\" style = \"font-weight: bold; text-align: right;\">2</td><td style = \"text-align: left;\">Bob</td><td style = \"text-align: left;\">Johnson</td><td style = \"text-align: left;\">bob_example@hotmail.com</td><td style = \"text-align: right;\">34</td><td style = \"text-align: left;\">Canada</td></tr></tbody></table></div>"
      ],
      "text/latex": [
       "\\begin{tabular}{r|ccccc}\n",
       "\t& First Name & Last Name & Email & Age & Country\\\\\n",
       "\t\\hline\n",
       "\t& String & String & String & Int64 & String\\\\\n",
       "\t\\hline\n",
       "\t1 & Alice & Smith & alice\\_test@email.com & 28 & USA \\\\\n",
       "\t2 & Bob & Johnson & bob\\_example@hotmail.com & 34 & Canada \\\\\n",
       "\\end{tabular}\n"
      ],
      "text/plain": [
       "\u001b[1m2×5 DataFrame\u001b[0m\n",
       "\u001b[1m Row \u001b[0m│\u001b[1m First Name \u001b[0m\u001b[1m Last Name \u001b[0m\u001b[1m Email                   \u001b[0m\u001b[1m Age   \u001b[0m\u001b[1m Country \u001b[0m\n",
       "     │\u001b[90m String     \u001b[0m\u001b[90m String    \u001b[0m\u001b[90m String                  \u001b[0m\u001b[90m Int64 \u001b[0m\u001b[90m String  \u001b[0m\n",
       "─────┼────────────────────────────────────────────────────────────────\n",
       "   1 │ Alice       Smith      alice_test@email.com        28  USA\n",
       "   2 │ Bob         Johnson    bob_example@hotmail.com     34  Canada"
      ]
     },
     "execution_count": 5,
     "metadata": {},
     "output_type": "execute_result"
    }
   ],
   "source": [
    "new_customers = DataFrame(\n",
    "    \"First Name\" => [\"Alice\", \"Bob\"],\n",
    "    \"Last Name\" => [\"Smith\", \"Johnson\"],\n",
    "    \"Email\" => [\"alice_test@email.com\", \"bob_example@hotmail.com\"],\n",
    "    \"Age\" => [28, 34],\n",
    "    \"Country\" => [\"USA\", \"Canada\"]\n",
    ")"
   ]
  },
  {
   "cell_type": "code",
   "execution_count": 6,
   "id": "1d7111b5",
   "metadata": {},
   "outputs": [
    {
     "data": {
      "text/plain": [
       "\"./assets/new_customers.csv\""
      ]
     },
     "execution_count": 6,
     "metadata": {},
     "output_type": "execute_result"
    }
   ],
   "source": [
    "CSV.write(\"./assets/new_customers.csv\", new_customers)"
   ]
  }
 ],
 "metadata": {
  "kernelspec": {
   "display_name": "Julia 1.11.6",
   "language": "julia",
   "name": "julia-1.11"
  },
  "language_info": {
   "file_extension": ".jl",
   "mimetype": "application/julia",
   "name": "julia",
   "version": "1.11.6"
  }
 },
 "nbformat": 4,
 "nbformat_minor": 5
}
